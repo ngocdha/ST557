{
 "cells": [
  {
   "cell_type": "markdown",
   "metadata": {},
   "source": [
    "# Ngoc Ha\n",
    "# HW 3 - ST 557"
   ]
  },
  {
   "cell_type": "markdown",
   "metadata": {},
   "source": [
    "## Problem 1"
   ]
  },
  {
   "cell_type": "code",
   "execution_count": 14,
   "metadata": {},
   "outputs": [
    {
     "data": {
      "text/html": [
       "<table>\n",
       "<thead><tr><th scope=col>SocSciHist</th><th scope=col>Verbal</th><th scope=col>Science</th></tr></thead>\n",
       "<tbody>\n",
       "\t<tr><td>468</td><td>41 </td><td>26 </td></tr>\n",
       "\t<tr><td>428</td><td>39 </td><td>26 </td></tr>\n",
       "\t<tr><td>514</td><td>53 </td><td>21 </td></tr>\n",
       "\t<tr><td>547</td><td>67 </td><td>33 </td></tr>\n",
       "\t<tr><td>614</td><td>61 </td><td>27 </td></tr>\n",
       "\t<tr><td>501</td><td>67 </td><td>29 </td></tr>\n",
       "</tbody>\n",
       "</table>\n"
      ],
      "text/latex": [
       "\\begin{tabular}{r|lll}\n",
       " SocSciHist & Verbal & Science\\\\\n",
       "\\hline\n",
       "\t 468 & 41  & 26 \\\\\n",
       "\t 428 & 39  & 26 \\\\\n",
       "\t 514 & 53  & 21 \\\\\n",
       "\t 547 & 67  & 33 \\\\\n",
       "\t 614 & 61  & 27 \\\\\n",
       "\t 501 & 67  & 29 \\\\\n",
       "\\end{tabular}\n"
      ],
      "text/markdown": [
       "\n",
       "| SocSciHist | Verbal | Science |\n",
       "|---|---|---|\n",
       "| 468 | 41  | 26  |\n",
       "| 428 | 39  | 26  |\n",
       "| 514 | 53  | 21  |\n",
       "| 547 | 67  | 33  |\n",
       "| 614 | 61  | 27  |\n",
       "| 501 | 67  | 29  |\n",
       "\n"
      ],
      "text/plain": [
       "  SocSciHist Verbal Science\n",
       "1 468        41     26     \n",
       "2 428        39     26     \n",
       "3 514        53     21     \n",
       "4 547        67     33     \n",
       "5 614        61     27     \n",
       "6 501        67     29     "
      ]
     },
     "metadata": {},
     "output_type": "display_data"
    }
   ],
   "source": [
    "scores <- read.csv(\"TestScores.csv\")\n",
    "head(scores)"
   ]
  },
  {
   "cell_type": "code",
   "execution_count": 15,
   "metadata": {},
   "outputs": [],
   "source": [
    "X1 <- scores$SocSciHist\n",
    "X2 <- scores$Verbal\n",
    "X3 <- scores$Science"
   ]
  },
  {
   "cell_type": "markdown",
   "metadata": {},
   "source": [
    "### (1a) $H_0:\\mu = [500,50,30]^T; H_A:\\mu \\neq [500,50,30]^T; \\alpha = 0.05$"
   ]
  },
  {
   "cell_type": "code",
   "execution_count": 16,
   "metadata": {},
   "outputs": [],
   "source": [
    "n <- length(scores[,1])\n",
    "muNull <- c(500, 50, 30)\n",
    "muVec <- c(mean(X1), mean(X2), mean(X3))\n",
    "alpha <- 0.05\n",
    "covar <- var(scores)\n",
    "covarInv <- solve(covar)"
   ]
  },
  {
   "cell_type": "code",
   "execution_count": 17,
   "metadata": {},
   "outputs": [],
   "source": [
    "t2 <- n*t(muVec-muNull)%*%covarInv%*%(muVec-muNull)\n",
    "t2stat <- (n-3)/((n-1)*3)*t2\n",
    "Fcrit <- df(0.05, df1 = 3, df2 = n-3)"
   ]
  },
  {
   "cell_type": "code",
   "execution_count": 18,
   "metadata": {},
   "outputs": [
    {
     "name": "stdout",
     "output_type": "stream",
     "text": [
      "Reject Null hypothesis: TRUE"
     ]
    }
   ],
   "source": [
    "cat(\"Reject Null hypothesis:\", t2stat>Fcrit)"
   ]
  },
  {
   "cell_type": "markdown",
   "metadata": {},
   "source": [
    "$[500,50,30]^T$ lies outside of the 95% Confidence Interval, so there's a reason to believe that the population of students in 2011 is scoring differently from previous years."
   ]
  },
  {
   "cell_type": "markdown",
   "metadata": {},
   "source": [
    "### (1b) Lengths and directions"
   ]
  },
  {
   "cell_type": "code",
   "execution_count": 19,
   "metadata": {},
   "outputs": [
    {
     "data": {
      "text/plain": [
       "eigen() decomposition\n",
       "$values\n",
       "[1] 5878.79165   63.83510   14.59806\n",
       "\n",
       "$vectors\n",
       "           [,1]         [,2]         [,3]\n",
       "[1,] 0.99390539  0.103731534 -0.037307396\n",
       "[2,] 0.10344339 -0.994589227 -0.009577815\n",
       "[3,] 0.03809906 -0.005660238  0.999257936\n"
      ]
     },
     "metadata": {},
     "output_type": "display_data"
    }
   ],
   "source": [
    "eiDec <- eigen(covar)\n",
    "eiDec"
   ]
  },
  {
   "cell_type": "code",
   "execution_count": 20,
   "metadata": {},
   "outputs": [],
   "source": [
    "eiVec1 <- eiDec$vectors[,1]\n",
    "eiVec2 <- eiDec$vectors[,2]\n",
    "eiVec3 <- eiDec$vectors[,3]"
   ]
  },
  {
   "cell_type": "code",
   "execution_count": 21,
   "metadata": {},
   "outputs": [],
   "source": [
    "scale1 <- sqrt(eiDec$values[1]*3*(n-3)/(n*(n-3))*df(0.05, df1=3, df2=n-3))\n",
    "scale2 <- sqrt(eiDec$values[2]*3*(n-3)/(n*(n-3))*df(0.05, df1=3, df2=n-3))\n",
    "scale3 <- sqrt(eiDec$values[3]*3*(n-3)/(n*(n-3))*df(0.05, df1=3, df2=n-3))"
   ]
  },
  {
   "cell_type": "code",
   "execution_count": 22,
   "metadata": {},
   "outputs": [
    {
     "data": {
      "text/html": [
       "<table>\n",
       "<tbody>\n",
       "\t<tr><td>9.3660059   </td><td>0.99390539  </td><td> 0.103731534</td><td>-0.037307396</td></tr>\n",
       "\t<tr><td>0.9759783   </td><td>0.10344339  </td><td>-0.994589227</td><td>-0.009577815</td></tr>\n",
       "\t<tr><td>0.4667216   </td><td>0.03809906  </td><td>-0.005660238</td><td> 0.999257936</td></tr>\n",
       "</tbody>\n",
       "</table>\n"
      ],
      "text/latex": [
       "\\begin{tabular}{llll}\n",
       "\t 9.3660059    & 0.99390539   &  0.103731534 & -0.037307396\\\\\n",
       "\t 0.9759783    & 0.10344339   & -0.994589227 & -0.009577815\\\\\n",
       "\t 0.4667216    & 0.03809906   & -0.005660238 &  0.999257936\\\\\n",
       "\\end{tabular}\n"
      ],
      "text/markdown": [
       "\n",
       "| 9.3660059    | 0.99390539   |  0.103731534 | -0.037307396 |\n",
       "| 0.9759783    | 0.10344339   | -0.994589227 | -0.009577815 |\n",
       "| 0.4667216    | 0.03809906   | -0.005660238 |  0.999257936 |\n",
       "\n"
      ],
      "text/plain": [
       "     [,1]      [,2]       [,3]         [,4]        \n",
       "[1,] 9.3660059 0.99390539  0.103731534 -0.037307396\n",
       "[2,] 0.9759783 0.10344339 -0.994589227 -0.009577815\n",
       "[3,] 0.4667216 0.03809906 -0.005660238  0.999257936"
      ]
     },
     "metadata": {},
     "output_type": "display_data"
    }
   ],
   "source": [
    "cbind(c(scale1,scale2,scale3),eiDec$vec)"
   ]
  },
  {
   "cell_type": "markdown",
   "metadata": {},
   "source": [
    "### (1c)"
   ]
  },
  {
   "cell_type": "code",
   "execution_count": 10,
   "metadata": {},
   "outputs": [
    {
     "data": {
      "image/png": "[encoded data removed]",
      "text/plain": [
       "Plot with title \"Q-Q plot for X3\""
      ]
     },
     "metadata": {},
     "output_type": "display_data"
    }
   ],
   "source": [
    "options(repr.plot.width=9, repr.plot.height=3)\n",
    "par(mfrow=c(1,3))\n",
    "qqnorm(X1, main = 'Q-Q plot for X1', ylab = 'Sample Quantiles')\n",
    "qqline(X1, lwd = 2)\n",
    "qqnorm(X2, main = 'Q-Q plot for X2', ylab = 'Sample Quantiles')\n",
    "qqline(X2, lwd = 2)\n",
    "qqnorm(X3, main = 'Q-Q plot for X3', ylab = 'Sample Quantiles')\n",
    "qqline(X3, lwd = 2)"
   ]
  },
  {
   "cell_type": "markdown",
   "metadata": {},
   "source": [
    "X1 and X3 appear to be normally distributed. For X2, there's some deviation from normal in the upper tail."
   ]
  },
  {
   "cell_type": "code",
   "execution_count": 11,
   "metadata": {},
   "outputs": [
    {
     "data": {
      "image/png": "[encoded data removed]",
      "text/plain": [
       "plot without title"
      ]
     },
     "metadata": {},
     "output_type": "display_data"
    }
   ],
   "source": [
    "options(repr.plot.width=9, repr.plot.height=3)\n",
    "par(mfrow=c(1,3))\n",
    "plot(X1,X2)\n",
    "plot(X1,X3)\n",
    "plot(X2,X3)"
   ]
  },
  {
   "cell_type": "markdown",
   "metadata": {},
   "source": [
    "## Problem 2"
   ]
  },
  {
   "cell_type": "code",
   "execution_count": 12,
   "metadata": {},
   "outputs": [
    {
     "data": {
      "text/html": [
       "<table>\n",
       "<thead><tr><th scope=col>Stiffness</th><th scope=col>Bending</th></tr></thead>\n",
       "<tbody>\n",
       "\t<tr><td>1232 </td><td> 4175</td></tr>\n",
       "\t<tr><td>1115 </td><td> 6652</td></tr>\n",
       "\t<tr><td>2205 </td><td> 7612</td></tr>\n",
       "\t<tr><td>1897 </td><td>10914</td></tr>\n",
       "\t<tr><td>1932 </td><td>10850</td></tr>\n",
       "\t<tr><td>1612 </td><td> 7627</td></tr>\n",
       "</tbody>\n",
       "</table>\n"
      ],
      "text/latex": [
       "\\begin{tabular}{r|ll}\n",
       " Stiffness & Bending\\\\\n",
       "\\hline\n",
       "\t 1232  &  4175\\\\\n",
       "\t 1115  &  6652\\\\\n",
       "\t 2205  &  7612\\\\\n",
       "\t 1897  & 10914\\\\\n",
       "\t 1932  & 10850\\\\\n",
       "\t 1612  &  7627\\\\\n",
       "\\end{tabular}\n"
      ],
      "text/markdown": [
       "\n",
       "| Stiffness | Bending |\n",
       "|---|---|\n",
       "| 1232  |  4175 |\n",
       "| 1115  |  6652 |\n",
       "| 2205  |  7612 |\n",
       "| 1897  | 10914 |\n",
       "| 1932  | 10850 |\n",
       "| 1612  |  7627 |\n",
       "\n"
      ],
      "text/plain": [
       "  Stiffness Bending\n",
       "1 1232       4175  \n",
       "2 1115       6652  \n",
       "3 2205       7612  \n",
       "4 1897      10914  \n",
       "5 1932      10850  \n",
       "6 1612       7627  "
      ]
     },
     "metadata": {},
     "output_type": "display_data"
    }
   ],
   "source": [
    "lumber <- read.csv('LumberData.csv')\n",
    "head(lumber)"
   ]
  },
  {
   "cell_type": "code",
   "execution_count": 13,
   "metadata": {},
   "outputs": [],
   "source": [
    "X1 <- lumber$Stiffness\n",
    "X2 <- lumber$Bending\n",
    "n = 30\n",
    "p = 2"
   ]
  },
  {
   "cell_type": "markdown",
   "metadata": {},
   "source": [
    "### (2a)"
   ]
  },
  {
   "cell_type": "code",
   "execution_count": 14,
   "metadata": {},
   "outputs": [
    {
     "name": "stdout",
     "output_type": "stream",
     "text": [
      "[1] 1860.500 8354.133\n"
     ]
    }
   ],
   "source": [
    "mu1 <- mean(X1)\n",
    "mu2 <- mean(X2)\n",
    "muVec <- c(mu1,mu2)\n",
    "print(muVec)"
   ]
  },
  {
   "cell_type": "code",
   "execution_count": 15,
   "metadata": {},
   "outputs": [
    {
     "data": {
      "text/html": [
       "<table>\n",
       "<thead><tr><th></th><th scope=col>Stiffness</th><th scope=col>Bending</th></tr></thead>\n",
       "<tbody>\n",
       "\t<tr><th scope=row>Stiffness</th><td>124054.7 </td><td> 361620.4</td></tr>\n",
       "\t<tr><th scope=row>Bending</th><td>361620.4 </td><td>3486333.2</td></tr>\n",
       "</tbody>\n",
       "</table>\n"
      ],
      "text/latex": [
       "\\begin{tabular}{r|ll}\n",
       "  & Stiffness & Bending\\\\\n",
       "\\hline\n",
       "\tStiffness & 124054.7  &  361620.4\\\\\n",
       "\tBending & 361620.4  & 3486333.2\\\\\n",
       "\\end{tabular}\n"
      ],
      "text/markdown": [
       "\n",
       "| <!--/--> | Stiffness | Bending |\n",
       "|---|---|---|\n",
       "| Stiffness | 124054.7  |  361620.4 |\n",
       "| Bending | 361620.4  | 3486333.2 |\n",
       "\n"
      ],
      "text/plain": [
       "          Stiffness Bending  \n",
       "Stiffness 124054.7   361620.4\n",
       "Bending   361620.4  3486333.2"
      ]
     },
     "metadata": {},
     "output_type": "display_data"
    },
    {
     "data": {
      "text/plain": [
       "eigen() decomposition\n",
       "$values\n",
       "[1] 3524786.45   85601.38\n",
       "\n",
       "$vectors\n",
       "          [,1]       [,2]\n",
       "[1,] 0.1057399 -0.9943938\n",
       "[2,] 0.9943938  0.1057399\n"
      ]
     },
     "metadata": {},
     "output_type": "display_data"
    }
   ],
   "source": [
    "covar <- var(lumber)\n",
    "eiDec <- eigen(covar)\n",
    "eiVec1 <- eiDec$vectors[,1]\n",
    "eiVec2 <- eiDec$vectors[,2]\n",
    "eiVal1 <- eiDec$values[1]\n",
    "eiVal2 <- eiDec$values[2]\n",
    "covar\n",
    "eiDec"
   ]
  },
  {
   "cell_type": "code",
   "execution_count": 16,
   "metadata": {},
   "outputs": [
    {
     "data": {
      "text/html": [
       "<table>\n",
       "<tbody>\n",
       "\t<tr><td>943.0262</td></tr>\n",
       "</tbody>\n",
       "</table>\n"
      ],
      "text/latex": [
       "\\begin{tabular}{l}\n",
       "\t 943.0262\\\\\n",
       "\\end{tabular}\n"
      ],
      "text/markdown": [
       "\n",
       "| 943.0262 |\n",
       "\n"
      ],
      "text/plain": [
       "     [,1]    \n",
       "[1,] 943.0262"
      ]
     },
     "metadata": {},
     "output_type": "display_data"
    }
   ],
   "source": [
    "Tstat <- n*t(muVec)%*%(solve(covar))%*%(muVec)\n",
    "Tstat"
   ]
  },
  {
   "cell_type": "code",
   "execution_count": 28,
   "metadata": {},
   "outputs": [
    {
     "data": {
      "image/png": "[encoded data removed]",
      "text/plain": [
       "plot without title"
      ]
     },
     "metadata": {},
     "output_type": "display_data"
    }
   ],
   "source": [
    "options(repr.plot.width=5, repr.plot.height=5)\n",
    "muTest.1 <- seq(round(min(X1),-2), round(max(X1),-2), 10)\n",
    "muTest.2 <- seq(round(min(X2),-2), round(max(X2),-2), 10)\n",
    "Tstats <- matrix(0, nrow=length(muTest.1), ncol=length(muTest.2))\n",
    "for(i in 1:length(muTest.1)){\n",
    "\tfor(j in 1:length(muTest.2)){\n",
    "\t\tmuTest <- c(muTest.1[i], muTest.2[j])\n",
    "\t\tTstats[i,j] <- n*t(muVec - muTest) %*% solve(covar) %*% (muVec - muTest)\n",
    "\t}\n",
    "}\n",
    "\n",
    "par(mar=c(4,4,1,1))\n",
    "\n",
    "# Plot the data, and superimpose the confidence ellipsoids\n",
    "# using the contour() function.  \n",
    "\n",
    "plot(lumber, xlab=\"X1\", ylab=\"X2\")\n",
    "points(mu1, mu2, pch=16, col=2)\n",
    "points(2000, 10000, pch=10, col=3)\n",
    "contour(muTest.1, muTest.2, Tstats, levels=(n-1)*p/(n-p)*qf(0.95, p, n-p), drawlabels=T, add=T, labels=95)\n",
    "\n",
    "# Add a line from the sample mean indicating the direction \n",
    "# and half-length of the major axis of the confidence region.\n",
    "\n",
    "lines(rbind(muVec, muVec + sqrt(eiVal1*(n-1)*p/(n-p)*qf(0.95, p, n-p)/n)*eiVec1))"
   ]
  },
  {
   "cell_type": "markdown",
   "metadata": {},
   "source": [
    "### (2b) $\\mu_0 = [2000, 10000]^T$"
   ]
  },
  {
   "cell_type": "markdown",
   "metadata": {},
   "source": [
    "$\\mu_0$ lies outside of the 95% confidence ellipsoid, so it's not a plausible mean vector for this dataset."
   ]
  },
  {
   "cell_type": "markdown",
   "metadata": {},
   "source": [
    "## Problem 3"
   ]
  },
  {
   "cell_type": "code",
   "execution_count": 34,
   "metadata": {},
   "outputs": [
    {
     "data": {
      "text/html": [
       "<table>\n",
       "<thead><tr><th scope=col>dRadius</th><th scope=col>nRadius</th><th scope=col>dHumerus</th><th scope=col>nHumerus</th><th scope=col>dUlna</th><th scope=col>nUlna</th></tr></thead>\n",
       "<tbody>\n",
       "\t<tr><td>1.103</td><td>1.052</td><td>2.139</td><td>2.238</td><td>0.873</td><td>0.872</td></tr>\n",
       "\t<tr><td>0.842</td><td>0.859</td><td>1.873</td><td>1.741</td><td>0.590</td><td>0.744</td></tr>\n",
       "\t<tr><td>0.925</td><td>0.873</td><td>1.887</td><td>1.809</td><td>0.767</td><td>0.713</td></tr>\n",
       "\t<tr><td>0.857</td><td>0.744</td><td>1.739</td><td>1.547</td><td>0.706</td><td>0.674</td></tr>\n",
       "\t<tr><td>0.795</td><td>0.809</td><td>1.734</td><td>1.715</td><td>0.549</td><td>0.654</td></tr>\n",
       "\t<tr><td>0.787</td><td>0.779</td><td>1.509</td><td>1.474</td><td>0.782</td><td>0.571</td></tr>\n",
       "</tbody>\n",
       "</table>\n"
      ],
      "text/latex": [
       "\\begin{tabular}{r|llllll}\n",
       " dRadius & nRadius & dHumerus & nHumerus & dUlna & nUlna\\\\\n",
       "\\hline\n",
       "\t 1.103 & 1.052 & 2.139 & 2.238 & 0.873 & 0.872\\\\\n",
       "\t 0.842 & 0.859 & 1.873 & 1.741 & 0.590 & 0.744\\\\\n",
       "\t 0.925 & 0.873 & 1.887 & 1.809 & 0.767 & 0.713\\\\\n",
       "\t 0.857 & 0.744 & 1.739 & 1.547 & 0.706 & 0.674\\\\\n",
       "\t 0.795 & 0.809 & 1.734 & 1.715 & 0.549 & 0.654\\\\\n",
       "\t 0.787 & 0.779 & 1.509 & 1.474 & 0.782 & 0.571\\\\\n",
       "\\end{tabular}\n"
      ],
      "text/markdown": [
       "\n",
       "| dRadius | nRadius | dHumerus | nHumerus | dUlna | nUlna |\n",
       "|---|---|---|---|---|---|\n",
       "| 1.103 | 1.052 | 2.139 | 2.238 | 0.873 | 0.872 |\n",
       "| 0.842 | 0.859 | 1.873 | 1.741 | 0.590 | 0.744 |\n",
       "| 0.925 | 0.873 | 1.887 | 1.809 | 0.767 | 0.713 |\n",
       "| 0.857 | 0.744 | 1.739 | 1.547 | 0.706 | 0.674 |\n",
       "| 0.795 | 0.809 | 1.734 | 1.715 | 0.549 | 0.654 |\n",
       "| 0.787 | 0.779 | 1.509 | 1.474 | 0.782 | 0.571 |\n",
       "\n"
      ],
      "text/plain": [
       "  dRadius nRadius dHumerus nHumerus dUlna nUlna\n",
       "1 1.103   1.052   2.139    2.238    0.873 0.872\n",
       "2 0.842   0.859   1.873    1.741    0.590 0.744\n",
       "3 0.925   0.873   1.887    1.809    0.767 0.713\n",
       "4 0.857   0.744   1.739    1.547    0.706 0.674\n",
       "5 0.795   0.809   1.734    1.715    0.549 0.654\n",
       "6 0.787   0.779   1.509    1.474    0.782 0.571"
      ]
     },
     "metadata": {},
     "output_type": "display_data"
    }
   ],
   "source": [
    "bone <- read.csv('BoneMineral.csv')\n",
    "alpha = 0.05; p = 6; n = dim(bone)[1]\n",
    "head(bone)"
   ]
  },
  {
   "cell_type": "markdown",
   "metadata": {},
   "source": [
    "### (3a) 95% Bonferroni intervals"
   ]
  },
  {
   "cell_type": "code",
   "execution_count": 36,
   "metadata": {},
   "outputs": [
    {
     "data": {
      "text/html": [
       "<table>\n",
       "<thead><tr><th></th><th scope=col>lowerBon</th><th scope=col>upperBon</th></tr></thead>\n",
       "<tbody>\n",
       "\t<tr><th scope=row>dRadius</th><td>0.7782338</td><td>0.9093662</td></tr>\n",
       "\t<tr><th scope=row>nRadius</th><td>0.7568766</td><td>0.8797634</td></tr>\n",
       "\t<tr><th scope=row>dHumerus</th><td>1.6296774</td><td>1.9556826</td></tr>\n",
       "\t<tr><th scope=row>nHumerus</th><td>1.5832656</td><td>1.8864144</td></tr>\n",
       "\t<tr><th scope=row>dUlna</th><td>0.6425529</td><td>0.7662471</td></tr>\n",
       "\t<tr><th scope=row>nUlna</th><td>0.6346406</td><td>0.7530394</td></tr>\n",
       "</tbody>\n",
       "</table>\n"
      ],
      "text/latex": [
       "\\begin{tabular}{r|ll}\n",
       "  & lowerBon & upperBon\\\\\n",
       "\\hline\n",
       "\tdRadius & 0.7782338 & 0.9093662\\\\\n",
       "\tnRadius & 0.7568766 & 0.8797634\\\\\n",
       "\tdHumerus & 1.6296774 & 1.9556826\\\\\n",
       "\tnHumerus & 1.5832656 & 1.8864144\\\\\n",
       "\tdUlna & 0.6425529 & 0.7662471\\\\\n",
       "\tnUlna & 0.6346406 & 0.7530394\\\\\n",
       "\\end{tabular}\n"
      ],
      "text/markdown": [
       "\n",
       "| <!--/--> | lowerBon | upperBon |\n",
       "|---|---|---|\n",
       "| dRadius | 0.7782338 | 0.9093662 |\n",
       "| nRadius | 0.7568766 | 0.8797634 |\n",
       "| dHumerus | 1.6296774 | 1.9556826 |\n",
       "| nHumerus | 1.5832656 | 1.8864144 |\n",
       "| dUlna | 0.6425529 | 0.7662471 |\n",
       "| nUlna | 0.6346406 | 0.7530394 |\n",
       "\n"
      ],
      "text/plain": [
       "         lowerBon  upperBon \n",
       "dRadius  0.7782338 0.9093662\n",
       "nRadius  0.7568766 0.8797634\n",
       "dHumerus 1.6296774 1.9556826\n",
       "nHumerus 1.5832656 1.8864144\n",
       "dUlna    0.6425529 0.7662471\n",
       "nUlna    0.6346406 0.7530394"
      ]
     },
     "metadata": {},
     "output_type": "display_data"
    }
   ],
   "source": [
    "# Compute the sample mean vector and sample covariance matrix\n",
    "\n",
    "sampMean <- apply(bone, 2, mean)\n",
    "sampVars <- apply(bone, 2, var)\n",
    "sampCov <- cov(bone)\n",
    "\n",
    "# Set desired significance level alpha\n",
    "\n",
    "alpha <- 0.05\n",
    "\n",
    "# Compute Bonferroni corrected significance level as alpha/p\n",
    "\n",
    "alphaStar <- alpha/p\n",
    "\n",
    "# Compute the upper and lower confidence limits for all variables\n",
    "# simultaneously, using R's vector operations\n",
    "\n",
    "upperBon <- sampMean + sqrt(sampVars/n)*qt(alphaStar/2, df=n-1, lower.tail=F)\n",
    "lowerBon <- sampMean - sqrt(sampVars/n)*qt(alphaStar/2, df=n-1, lower.tail=F)\n",
    "cbind(lowerBon, upperBon)"
   ]
  },
  {
   "cell_type": "markdown",
   "metadata": {},
   "source": [
    "### (3b) 95% $T^2$ intervals"
   ]
  },
  {
   "cell_type": "code",
   "execution_count": 39,
   "metadata": {},
   "outputs": [
    {
     "data": {
      "text/html": [
       "<table>\n",
       "<thead><tr><th></th><th scope=col>lowerHot</th><th scope=col>upperHot</th></tr></thead>\n",
       "<tbody>\n",
       "\t<tr><th scope=row>dRadius</th><td>0.7420179</td><td>0.9455821</td></tr>\n",
       "\t<tr><th scope=row>nRadius</th><td>0.7229380</td><td>0.9137020</td></tr>\n",
       "\t<tr><th scope=row>dHumerus</th><td>1.5396419</td><td>2.0457181</td></tr>\n",
       "\t<tr><th scope=row>nHumerus</th><td>1.4995425</td><td>1.9701375</td></tr>\n",
       "\t<tr><th scope=row>dUlna</th><td>0.6083914</td><td>0.8004086</td></tr>\n",
       "\t<tr><th scope=row>nUlna</th><td>0.6019414</td><td>0.7857386</td></tr>\n",
       "</tbody>\n",
       "</table>\n"
      ],
      "text/latex": [
       "\\begin{tabular}{r|ll}\n",
       "  & lowerHot & upperHot\\\\\n",
       "\\hline\n",
       "\tdRadius & 0.7420179 & 0.9455821\\\\\n",
       "\tnRadius & 0.7229380 & 0.9137020\\\\\n",
       "\tdHumerus & 1.5396419 & 2.0457181\\\\\n",
       "\tnHumerus & 1.4995425 & 1.9701375\\\\\n",
       "\tdUlna & 0.6083914 & 0.8004086\\\\\n",
       "\tnUlna & 0.6019414 & 0.7857386\\\\\n",
       "\\end{tabular}\n"
      ],
      "text/markdown": [
       "\n",
       "| <!--/--> | lowerHot | upperHot |\n",
       "|---|---|---|\n",
       "| dRadius | 0.7420179 | 0.9455821 |\n",
       "| nRadius | 0.7229380 | 0.9137020 |\n",
       "| dHumerus | 1.5396419 | 2.0457181 |\n",
       "| nHumerus | 1.4995425 | 1.9701375 |\n",
       "| dUlna | 0.6083914 | 0.8004086 |\n",
       "| nUlna | 0.6019414 | 0.7857386 |\n",
       "\n"
      ],
      "text/plain": [
       "         lowerHot  upperHot \n",
       "dRadius  0.7420179 0.9455821\n",
       "nRadius  0.7229380 0.9137020\n",
       "dHumerus 1.5396419 2.0457181\n",
       "nHumerus 1.4995425 1.9701375\n",
       "dUlna    0.6083914 0.8004086\n",
       "nUlna    0.6019414 0.7857386"
      ]
     },
     "metadata": {},
     "output_type": "display_data"
    }
   ],
   "source": [
    "upperHot <- sampMean + sqrt( p*(n-1)/(n-p)*qf(alpha, p, n-p, lower.tail=F)*sampVars/n )\n",
    "lowerHot <- sampMean - sqrt( p*(n-1)/(n-p)*qf(alpha, p, n-p, lower.tail=F)*sampVars/n )\n",
    "cbind(lowerHot, upperHot)"
   ]
  },
  {
   "cell_type": "markdown",
   "metadata": {},
   "source": [
    "Hotelling's $T^2$ simultaneous intervals are wider than Bonferroni's simultaneous intervals."
   ]
  },
  {
   "cell_type": "markdown",
   "metadata": {},
   "source": [
    "## Problem 4"
   ]
  },
  {
   "cell_type": "code",
   "execution_count": 1,
   "metadata": {},
   "outputs": [
    {
     "data": {
      "text/html": [
       "<table>\n",
       "<thead><tr><th scope=col>Scale1</th><th scope=col>Scale2</th><th scope=col>Scale3</th></tr></thead>\n",
       "<tbody>\n",
       "\t<tr><td>10.63</td><td>10.13</td><td>10.23</td></tr>\n",
       "\t<tr><td> 9.89</td><td> 9.87</td><td> 9.73</td></tr>\n",
       "\t<tr><td>10.30</td><td>10.03</td><td> 9.67</td></tr>\n",
       "\t<tr><td>10.16</td><td>10.54</td><td>10.76</td></tr>\n",
       "\t<tr><td> 9.75</td><td> 9.90</td><td>10.10</td></tr>\n",
       "\t<tr><td>10.03</td><td>10.45</td><td>10.17</td></tr>\n",
       "</tbody>\n",
       "</table>\n"
      ],
      "text/latex": [
       "\\begin{tabular}{r|lll}\n",
       " Scale1 & Scale2 & Scale3\\\\\n",
       "\\hline\n",
       "\t 10.63 & 10.13 & 10.23\\\\\n",
       "\t  9.89 &  9.87 &  9.73\\\\\n",
       "\t 10.30 & 10.03 &  9.67\\\\\n",
       "\t 10.16 & 10.54 & 10.76\\\\\n",
       "\t  9.75 &  9.90 & 10.10\\\\\n",
       "\t 10.03 & 10.45 & 10.17\\\\\n",
       "\\end{tabular}\n"
      ],
      "text/markdown": [
       "\n",
       "| Scale1 | Scale2 | Scale3 |\n",
       "|---|---|---|\n",
       "| 10.63 | 10.13 | 10.23 |\n",
       "|  9.89 |  9.87 |  9.73 |\n",
       "| 10.30 | 10.03 |  9.67 |\n",
       "| 10.16 | 10.54 | 10.76 |\n",
       "|  9.75 |  9.90 | 10.10 |\n",
       "| 10.03 | 10.45 | 10.17 |\n",
       "\n"
      ],
      "text/plain": [
       "  Scale1 Scale2 Scale3\n",
       "1 10.63  10.13  10.23 \n",
       "2  9.89   9.87   9.73 \n",
       "3 10.30  10.03   9.67 \n",
       "4 10.16  10.54  10.76 \n",
       "5  9.75   9.90  10.10 \n",
       "6 10.03  10.45  10.17 "
      ]
     },
     "metadata": {},
     "output_type": "display_data"
    }
   ],
   "source": [
    "flour <- read.csv('FlourBags.csv')\n",
    "head(flour)"
   ]
  },
  {
   "cell_type": "code",
   "execution_count": 2,
   "metadata": {},
   "outputs": [],
   "source": [
    "S1 <- flour$Scale1\n",
    "S2 <- flour$Scale2\n",
    "S3 <- flour$Scale3\n",
    "p <- 3; n <- length(flour[,1]); alpha = 0.05"
   ]
  },
  {
   "cell_type": "markdown",
   "metadata": {},
   "source": [
    "### (4a) $H_0:\\mu = [10,10,10]^T; H_A:\\mu \\neq [10,10,10]^T; \\alpha = 0.05$. Hotelling's $T^2$"
   ]
  },
  {
   "cell_type": "code",
   "execution_count": 3,
   "metadata": {},
   "outputs": [],
   "source": [
    "n <- length(flour[,1])\n",
    "muNull <- c(10,10,10)\n",
    "muVec <- c(mean(S1), mean(S2), mean(S3))\n",
    "alpha <- 0.05\n",
    "covar <- var(flour)\n",
    "covarInv <- solve(covar)"
   ]
  },
  {
   "cell_type": "code",
   "execution_count": 4,
   "metadata": {},
   "outputs": [],
   "source": [
    "t2 <- n*t(muVec-muNull)%*%covarInv%*%(muVec-muNull)\n",
    "t2stat <- (n-p)/((n-1)*p)*t2\n",
    "Fcrit <- df(alpha, df1 = 3, df2 = n-3)"
   ]
  },
  {
   "cell_type": "code",
   "execution_count": 5,
   "metadata": {},
   "outputs": [
    {
     "name": "stdout",
     "output_type": "stream",
     "text": [
      "Reject Null hypothesis: TRUE"
     ]
    }
   ],
   "source": [
    "cat(\"Reject Null hypothesis:\", t2stat>Fcrit)"
   ]
  },
  {
   "cell_type": "markdown",
   "metadata": {},
   "source": [
    "### (4b) $H_0:\\mu = [10,10,10]^T; H_A:\\mu \\neq [10,10,10]^T; \\alpha = 0.05$. Bonferroni"
   ]
  },
  {
   "cell_type": "code",
   "execution_count": 6,
   "metadata": {},
   "outputs": [
    {
     "data": {
      "text/html": [
       "<table>\n",
       "<thead><tr><th></th><th scope=col>lowerBon</th><th scope=col>upperBon</th></tr></thead>\n",
       "<tbody>\n",
       "\t<tr><th scope=row>Scale1</th><td>9.459005</td><td>10.00099</td></tr>\n",
       "\t<tr><th scope=row>Scale2</th><td>9.844532</td><td>10.19547</td></tr>\n",
       "\t<tr><th scope=row>Scale3</th><td>9.622842</td><td>10.10316</td></tr>\n",
       "</tbody>\n",
       "</table>\n"
      ],
      "text/latex": [
       "\\begin{tabular}{r|ll}\n",
       "  & lowerBon & upperBon\\\\\n",
       "\\hline\n",
       "\tScale1 & 9.459005 & 10.00099\\\\\n",
       "\tScale2 & 9.844532 & 10.19547\\\\\n",
       "\tScale3 & 9.622842 & 10.10316\\\\\n",
       "\\end{tabular}\n"
      ],
      "text/markdown": [
       "\n",
       "| <!--/--> | lowerBon | upperBon |\n",
       "|---|---|---|\n",
       "| Scale1 | 9.459005 | 10.00099 |\n",
       "| Scale2 | 9.844532 | 10.19547 |\n",
       "| Scale3 | 9.622842 | 10.10316 |\n",
       "\n"
      ],
      "text/plain": [
       "       lowerBon upperBon\n",
       "Scale1 9.459005 10.00099\n",
       "Scale2 9.844532 10.19547\n",
       "Scale3 9.622842 10.10316"
      ]
     },
     "metadata": {},
     "output_type": "display_data"
    }
   ],
   "source": [
    "# Compute the sample mean vector and sample covariance matrix\n",
    "\n",
    "sampVars <- apply(flour, 2, var)\n",
    "\n",
    "# Compute Bonferroni corrected significance level as alpha/p\n",
    "\n",
    "alphaStar <- alpha/p\n",
    "\n",
    "# Compute the upper and lower confidence limits for all variables\n",
    "# simultaneously, using R's vector operations\n",
    "\n",
    "upperBon <- muVec + sqrt(sampVars/n)*qt(alphaStar/2, df=n-1, lower.tail=F)\n",
    "lowerBon <- muVec - sqrt(sampVars/n)*qt(alphaStar/2, df=n-1, lower.tail=F)\n",
    "cbind(lowerBon, upperBon)"
   ]
  },
  {
   "cell_type": "markdown",
   "metadata": {},
   "source": [
    "Each measurement lies inside the corresponding 95% confidence interval. Bonferroni's test **fails to reject** the Null."
   ]
  },
  {
   "cell_type": "markdown",
   "metadata": {},
   "source": [
    "### (4c)"
   ]
  },
  {
   "cell_type": "markdown",
   "metadata": {},
   "source": [
    "Hotelling's $T^2$ simultaneous confidence intervals would contain $[10,10,10]^T$, because they are more conservative than Bonferroni's simultaneous confidence intervals."
   ]
  },
  {
   "cell_type": "markdown",
   "metadata": {},
   "source": [
    "### (4d)"
   ]
  },
  {
   "cell_type": "code",
   "execution_count": 9,
   "metadata": {},
   "outputs": [
    {
     "data": {
      "text/html": [
       "-0.325952581806621"
      ],
      "text/latex": [
       "-0.325952581806621"
      ],
      "text/markdown": [
       "-0.325952581806621"
      ],
      "text/plain": [
       "[1] -0.3259526"
      ]
     },
     "metadata": {},
     "output_type": "display_data"
    }
   ],
   "source": [
    "S_p <- sum(sampVars)/p # pooled variance\n",
    "df <- p*(n-1)\n",
    "testStat <- (sum(muVec)/3-10)/sqrt(S_p)\n",
    "testStat"
   ]
  },
  {
   "cell_type": "code",
   "execution_count": 11,
   "metadata": {},
   "outputs": [
    {
     "data": {
      "text/html": [
       "0.2458615275344"
      ],
      "text/latex": [
       "0.2458615275344"
      ],
      "text/markdown": [
       "0.2458615275344"
      ],
      "text/plain": [
       "[1] 0.2458615"
      ]
     },
     "metadata": {},
     "output_type": "display_data"
    }
   ],
   "source": [
    "tcrit <- dt(1-alpha/2,df=df)\n",
    "tcrit"
   ]
  },
  {
   "cell_type": "code",
   "execution_count": 12,
   "metadata": {},
   "outputs": [
    {
     "name": "stdout",
     "output_type": "stream",
     "text": [
      "Reject Null: TRUE"
     ]
    }
   ],
   "source": [
    "cat(\"Reject Null:\", abs(testStat) > tcrit)"
   ]
  },
  {
   "cell_type": "markdown",
   "metadata": {},
   "source": [
    "## Problem 5"
   ]
  },
  {
   "cell_type": "markdown",
   "metadata": {},
   "source": [
    "### (5a)"
   ]
  },
  {
   "cell_type": "markdown",
   "metadata": {},
   "source": [
    "$\\bf{\\sum} = \\bf{I_p} \\implies$ elements of $\\bar{X}$ are **independent**, because the pairwise covariances are all equal to zero."
   ]
  },
  {
   "cell_type": "markdown",
   "metadata": {},
   "source": [
    "### (5b)"
   ]
  },
  {
   "cell_type": "markdown",
   "metadata": {},
   "source": [
    "For each individual test: $P(fails \\ to \\ reject \\ H_0) = 1-\\alpha^*$\n",
    "\n",
    "$\\implies P_{\\mu_0}(Reject H_0: \\mu = \\mu_0) = 1 - (1-\\alpha^*)^{p}$"
   ]
  },
  {
   "cell_type": "markdown",
   "metadata": {},
   "source": [
    "### (5c)"
   ]
  },
  {
   "cell_type": "markdown",
   "metadata": {},
   "source": [
    "$1-(1-\\alpha^*)^p = \\alpha \\implies \\alpha^* = 1- \\sqrt[p]{1-\\alpha}$"
   ]
  },
  {
   "cell_type": "markdown",
   "metadata": {},
   "source": [
    "### (5d)"
   ]
  },
  {
   "cell_type": "code",
   "execution_count": 14,
   "metadata": {},
   "outputs": [],
   "source": [
    "alpha = 0.05"
   ]
  },
  {
   "cell_type": "markdown",
   "metadata": {},
   "source": [
    "#### n = 10; p = 4"
   ]
  },
  {
   "cell_type": "code",
   "execution_count": 19,
   "metadata": {},
   "outputs": [],
   "source": [
    "n <- 10; p <- 4\n",
    "alphaStar <- 1 - (1-alpha)^(1/p)\n",
    "alphaStarBon <- alpha/p"
   ]
  },
  {
   "cell_type": "code",
   "execution_count": 20,
   "metadata": {},
   "outputs": [
    {
     "name": "stdout",
     "output_type": "stream",
     "text": [
      "Bonferroni longer: TRUE"
     ]
    }
   ],
   "source": [
    "cat(\"Bonferroni longer:\", alphaStarBon < alphaStar)"
   ]
  },
  {
   "cell_type": "markdown",
   "metadata": {},
   "source": [
    "#### n = 10; p = 8"
   ]
  },
  {
   "cell_type": "code",
   "execution_count": 21,
   "metadata": {},
   "outputs": [],
   "source": [
    "n <- 10; p <- 8\n",
    "alphaStar <- 1 - (1-alpha)^(1/p)\n",
    "alphaStarBon <- alpha/p"
   ]
  },
  {
   "cell_type": "code",
   "execution_count": 22,
   "metadata": {},
   "outputs": [
    {
     "name": "stdout",
     "output_type": "stream",
     "text": [
      "Bonferroni longer: TRUE"
     ]
    }
   ],
   "source": [
    "cat(\"Bonferroni longer:\", alphaStarBon < alphaStar)"
   ]
  },
  {
   "cell_type": "markdown",
   "metadata": {},
   "source": [
    "#### n = 20; p = 4"
   ]
  },
  {
   "cell_type": "code",
   "execution_count": 23,
   "metadata": {},
   "outputs": [],
   "source": [
    "n <- 20; p <- 4\n",
    "alphaStar <- 1 - (1-alpha)^(1/p)\n",
    "alphaStarBon <- alpha/p"
   ]
  },
  {
   "cell_type": "code",
   "execution_count": 24,
   "metadata": {},
   "outputs": [
    {
     "name": "stdout",
     "output_type": "stream",
     "text": [
      "Bonferroni longer: TRUE"
     ]
    }
   ],
   "source": [
    "cat(\"Bonferroni longer:\", alphaStarBon < alphaStar)"
   ]
  },
  {
   "cell_type": "markdown",
   "metadata": {},
   "source": [
    "#### n = 20; p = 8"
   ]
  },
  {
   "cell_type": "code",
   "execution_count": 25,
   "metadata": {},
   "outputs": [],
   "source": [
    "n <- 20; p <- 8\n",
    "alphaStar <- 1 - (1-alpha)^(1/p)\n",
    "alphaStarBon <- alpha/p"
   ]
  },
  {
   "cell_type": "code",
   "execution_count": 26,
   "metadata": {},
   "outputs": [
    {
     "name": "stdout",
     "output_type": "stream",
     "text": [
      "Bonferroni longer: TRUE"
     ]
    }
   ],
   "source": [
    "cat(\"Bonferroni longer:\", alphaStarBon < alphaStar)"
   ]
  },
  {
   "cell_type": "code",
   "execution_count": null,
   "metadata": {},
   "outputs": [],
   "source": []
  }
 ],
 "metadata": {
  "kernelspec": {
   "display_name": "R",
   "language": "R",
   "name": "ir"
  },
  "language_info": {
   "codemirror_mode": "r",
   "file_extension": ".r",
   "mimetype": "text/x-r-source",
   "name": "R",
   "pygments_lexer": "r",
   "version": "3.6.1"
  }
 },
 "nbformat": 4,
 "nbformat_minor": 4
}
