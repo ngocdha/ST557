{
 "cells": [
  {
   "cell_type": "markdown",
   "metadata": {},
   "source": [
    "# Ngoc Ha\n",
    "# HW 6 - ST 557"
   ]
  },
  {
   "cell_type": "markdown",
   "metadata": {},
   "source": [
    "## Problem 1"
   ]
  },
  {
   "cell_type": "code",
   "execution_count": 1,
   "metadata": {},
   "outputs": [
    {
     "data": {
      "text/html": [
       "<table>\n",
       "<tbody>\n",
       "\t<tr><td>1106.00</td><td> 396.70</td><td> 108.40</td><td> 0.79  </td><td> 26.23 </td></tr>\n",
       "\t<tr><td> 396.70</td><td>2382.00</td><td>1143.00</td><td>-0.21  </td><td>-23.96 </td></tr>\n",
       "\t<tr><td> 108.40</td><td>1143.00</td><td>2136.00</td><td> 2.19  </td><td>-20.84 </td></tr>\n",
       "\t<tr><td>   0.79</td><td>  -0.21</td><td>   2.19</td><td> 0.02  </td><td>  0.22 </td></tr>\n",
       "\t<tr><td>  26.23</td><td> -23.96</td><td> -20.84</td><td> 0.22  </td><td> 70.56 </td></tr>\n",
       "</tbody>\n",
       "</table>\n"
      ],
      "text/latex": [
       "\\begin{tabular}{lllll}\n",
       "\t 1106.00 &  396.70 &  108.40 &  0.79   &  26.23 \\\\\n",
       "\t  396.70 & 2382.00 & 1143.00 & -0.21   & -23.96 \\\\\n",
       "\t  108.40 & 1143.00 & 2136.00 &  2.19   & -20.84 \\\\\n",
       "\t    0.79 &   -0.21 &    2.19 &  0.02   &   0.22 \\\\\n",
       "\t   26.23 &  -23.96 &  -20.84 &  0.22   &  70.56 \\\\\n",
       "\\end{tabular}\n"
      ],
      "text/markdown": [
       "\n",
       "| 1106.00 |  396.70 |  108.40 |  0.79   |  26.23  |\n",
       "|  396.70 | 2382.00 | 1143.00 | -0.21   | -23.96  |\n",
       "|  108.40 | 1143.00 | 2136.00 |  2.19   | -20.84  |\n",
       "|    0.79 |   -0.21 |    2.19 |  0.02   |   0.22  |\n",
       "|   26.23 |  -23.96 |  -20.84 |  0.22   |  70.56  |\n",
       "\n"
      ],
      "text/plain": [
       "     [,1]    [,2]    [,3]    [,4]  [,5]  \n",
       "[1,] 1106.00  396.70  108.40  0.79  26.23\n",
       "[2,]  396.70 2382.00 1143.00 -0.21 -23.96\n",
       "[3,]  108.40 1143.00 2136.00  2.19 -20.84\n",
       "[4,]    0.79   -0.21    2.19  0.02   0.22\n",
       "[5,]   26.23  -23.96  -20.84  0.22  70.56"
      ]
     },
     "metadata": {},
     "output_type": "display_data"
    }
   ],
   "source": [
    "sampCov = rbind(c(1106.00, 396.70, 108.40, 0.79, 26.23), c(396.70, 2382.00, 1143.00, -0.21, -23.96), c(108.40, 1143.00, 2136.00, 2.19, -20.84), c(0.79, -0.21, 2.19, 0.02, 0.22), c(26.23, -23.96, -20.84, 0.22, 70.56))\n",
    "sampCov"
   ]
  },
  {
   "cell_type": "code",
   "execution_count": 2,
   "metadata": {},
   "outputs": [],
   "source": [
    "S_11 <- sampCov[1:3,1:3]\n",
    "S_12 <- sampCov[1:3,4:5]\n",
    "S_21 <- sampCov[4:5,1:3]\n",
    "S_22 <- sampCov[4:5,4:5]"
   ]
  },
  {
   "cell_type": "code",
   "execution_count": 3,
   "metadata": {},
   "outputs": [],
   "source": [
    "inv_sqrt <- function(A){\n",
    "    ei <- eigen(A)\n",
    "    V <- ei$vectors\n",
    "    return (V %*% diag(1 / sqrt(ei$values)) %*% t(V))\n",
    "}"
   ]
  },
  {
   "cell_type": "code",
   "execution_count": 4,
   "metadata": {},
   "outputs": [],
   "source": [
    "S_11_inv <- solve(S_11)\n",
    "S_22_inv <- solve(S_22)\n",
    "S_11_inv_sqrt <- inv_sqrt(S_11)\n",
    "S_22_inv_sqrt <- inv_sqrt(S_22)"
   ]
  },
  {
   "cell_type": "code",
   "execution_count": 5,
   "metadata": {},
   "outputs": [],
   "source": [
    "A_1 <- S_11_inv_sqrt %*% S_12 %*% S_22_inv %*% S_21 %*% S_11_inv_sqrt\n",
    "A_2 <- S_22_inv_sqrt %*% S_21 %*% S_11_inv %*% S_12 %*% S_22_inv_sqrt\n",
    "ei1 <- eigen(A_1)\n",
    "ei2 <- eigen(A_2)"
   ]
  },
  {
   "cell_type": "code",
   "execution_count": 6,
   "metadata": {},
   "outputs": [],
   "source": [
    "a_1 <- round(ei1$vec[,1]%*%S_11_inv_sqrt,5)\n",
    "b_1 <- round(ei2$vec[,1]%*%S_22_inv_sqrt,5)\n",
    "a_2 <- round(ei1$vec[,2]%*%S_11_inv_sqrt,5)\n",
    "b_2 <- round(ei2$vec[,2]%*%S_22_inv_sqrt,5)"
   ]
  },
  {
   "cell_type": "code",
   "execution_count": 7,
   "metadata": {},
   "outputs": [
    {
     "name": "stdout",
     "output_type": "stream",
     "text": [
      "- 1st canonical variate loadings\n",
      "a1_T: 0.01319 -0.01443 0.02337 \n",
      "b1_T: -7.18548 0.01611\n",
      "- 2nd canonical variate loadings\n",
      "a2_T: 0.02471 -0.00929 -0.00873 \n",
      "b2_T: 0.38023 -0.12007"
     ]
    }
   ],
   "source": [
    "cat(\"- 1st canonical variate loadings\\na1_T:\", a_1,\"\\nb1_T:\",b_1)\n",
    "cat(\"\\n- 2nd canonical variate loadings\\na2_T:\", a_2,\"\\nb2_T:\",b_2)"
   ]
  },
  {
   "cell_type": "markdown",
   "metadata": {},
   "source": [
    "### $\\rho_j = \\frac{Cov(a_j^TX^{(1)},b_j^TX^{(2)})}{\\sqrt{Var(a_j^TX^{(1)})Var(b_j^TX^{(2)})}} = \\frac{a_j^TCov(X^{(1)},X^{(2)})b_j}{\\sqrt{a_j^TVar(X^{(1)})a_jb_j^TVar(X^{(2)})b_j}} = \\frac{a_j^TS_{12}b_j}{\\sqrt{a_j^TS_{11}a_jb_j^TS_{22}b_j}}$"
   ]
  },
  {
   "cell_type": "code",
   "execution_count": 8,
   "metadata": {},
   "outputs": [
    {
     "name": "stdout",
     "output_type": "stream",
     "text": [
      "Correlations of canonical variates: \n",
      "1st pair: -0.4611246 \n",
      "2nd pair: -0.1254845"
     ]
    }
   ],
   "source": [
    "cor1 <- (a_1%*%S_12%*%t(b_1))/sqrt(a_1%*%S_11%*%t(a_1)%*%b_1%*%S_22%*%t(b_1))\n",
    "cor2 <- (a_2%*%S_12%*%t(b_2))/sqrt(a_2%*%S_11%*%t(a_2)%*%b_2%*%S_22%*%t(b_2))\n",
    "cat(\"Correlations of canonical variates:\", \"\\n1st pair:\", cor1, \"\\n2nd pair:\", cor2)"
   ]
  },
  {
   "cell_type": "markdown",
   "metadata": {},
   "source": [
    "## Problem 2"
   ]
  },
  {
   "cell_type": "code",
   "execution_count": 9,
   "metadata": {},
   "outputs": [
    {
     "data": {
      "text/html": [
       "<table>\n",
       "<thead><tr><th scope=col>Population</th><th scope=col>Vanadium</th><th scope=col>Iron</th><th scope=col>Beryllium</th><th scope=col>SatHydroCarb</th><th scope=col>AroHydroCarb</th></tr></thead>\n",
       "<tbody>\n",
       "\t<tr><td>1   </td><td>5.0 </td><td>47  </td><td>0.07</td><td>7.06</td><td>6.10</td></tr>\n",
       "\t<tr><td>1   </td><td>3.4 </td><td>32  </td><td>0.20</td><td>5.82</td><td>4.69</td></tr>\n",
       "\t<tr><td>1   </td><td>1.2 </td><td>12  </td><td>0.00</td><td>5.54</td><td>3.15</td></tr>\n",
       "\t<tr><td>1   </td><td>8.4 </td><td>17  </td><td>0.07</td><td>6.31</td><td>4.55</td></tr>\n",
       "\t<tr><td>1   </td><td>4.2 </td><td>36  </td><td>0.50</td><td>9.25</td><td>4.95</td></tr>\n",
       "\t<tr><td>1   </td><td>4.2 </td><td>35  </td><td>0.50</td><td>5.69</td><td>2.22</td></tr>\n",
       "</tbody>\n",
       "</table>\n"
      ],
      "text/latex": [
       "\\begin{tabular}{r|llllll}\n",
       " Population & Vanadium & Iron & Beryllium & SatHydroCarb & AroHydroCarb\\\\\n",
       "\\hline\n",
       "\t 1    & 5.0  & 47   & 0.07 & 7.06 & 6.10\\\\\n",
       "\t 1    & 3.4  & 32   & 0.20 & 5.82 & 4.69\\\\\n",
       "\t 1    & 1.2  & 12   & 0.00 & 5.54 & 3.15\\\\\n",
       "\t 1    & 8.4  & 17   & 0.07 & 6.31 & 4.55\\\\\n",
       "\t 1    & 4.2  & 36   & 0.50 & 9.25 & 4.95\\\\\n",
       "\t 1    & 4.2  & 35   & 0.50 & 5.69 & 2.22\\\\\n",
       "\\end{tabular}\n"
      ],
      "text/markdown": [
       "\n",
       "| Population | Vanadium | Iron | Beryllium | SatHydroCarb | AroHydroCarb |\n",
       "|---|---|---|---|---|---|\n",
       "| 1    | 5.0  | 47   | 0.07 | 7.06 | 6.10 |\n",
       "| 1    | 3.4  | 32   | 0.20 | 5.82 | 4.69 |\n",
       "| 1    | 1.2  | 12   | 0.00 | 5.54 | 3.15 |\n",
       "| 1    | 8.4  | 17   | 0.07 | 6.31 | 4.55 |\n",
       "| 1    | 4.2  | 36   | 0.50 | 9.25 | 4.95 |\n",
       "| 1    | 4.2  | 35   | 0.50 | 5.69 | 2.22 |\n",
       "\n"
      ],
      "text/plain": [
       "  Population Vanadium Iron Beryllium SatHydroCarb AroHydroCarb\n",
       "1 1          5.0      47   0.07      7.06         6.10        \n",
       "2 1          3.4      32   0.20      5.82         4.69        \n",
       "3 1          1.2      12   0.00      5.54         3.15        \n",
       "4 1          8.4      17   0.07      6.31         4.55        \n",
       "5 1          4.2      36   0.50      9.25         4.95        \n",
       "6 1          4.2      35   0.50      5.69         2.22        "
      ]
     },
     "metadata": {},
     "output_type": "display_data"
    }
   ],
   "source": [
    "crude <- read.csv('CrudeOilData.csv')\n",
    "head(crude)"
   ]
  },
  {
   "cell_type": "markdown",
   "metadata": {},
   "source": [
    "### (2a)"
   ]
  },
  {
   "cell_type": "code",
   "execution_count": 10,
   "metadata": {},
   "outputs": [],
   "source": [
    "crude1 <- crude[crude$Population==1,2:ncol(crude)]\n",
    "n1 <- nrow(crude1)\n",
    "crude2 <- crude[crude$Population==2,2:ncol(crude)]\n",
    "n2 <- nrow(crude2)"
   ]
  },
  {
   "cell_type": "code",
   "execution_count": 11,
   "metadata": {},
   "outputs": [],
   "source": [
    "mu1 <- sapply(crude1,mean)\n",
    "S1 <- cov(crude1)\n",
    "mu2 <- sapply(crude2,mean)\n",
    "S2 <- cov(crude2)\n",
    "Sp <- ((n1-1)*S1+(n2-1)*S2)/(n1+n2-2)"
   ]
  },
  {
   "cell_type": "code",
   "execution_count": 12,
   "metadata": {},
   "outputs": [
    {
     "name": "stdout",
     "output_type": "stream",
     "text": [
      "Fisher Discriminant Function: 1.18587"
     ]
    }
   ],
   "source": [
    "unitVec <- function(x) {x / sqrt(sum(x^2))}\n",
    "aT <- unitVec(t(mu1-mu2)%*%solve(Sp))\n",
    "FisherCrit <- (aT%*%mu1+aT%*%mu2)/2\n",
    "cat(\"Fisher Discriminant Function:\", FisherCrit)"
   ]
  },
  {
   "cell_type": "markdown",
   "metadata": {},
   "source": [
    "### (2b)"
   ]
  },
  {
   "cell_type": "code",
   "execution_count": 13,
   "metadata": {},
   "outputs": [],
   "source": [
    "FisherClassifier <- function(aT,x,crit){\n",
    "    predictions <- rep(0,nrow(x))\n",
    "    for (i in 1:nrow(x)){\n",
    "        FisherValue <- aT%*%t(x[i,])\n",
    "        if (FisherValue >= crit){\n",
    "            predictions[i] <- 1\n",
    "        }\n",
    "        else predictions[i] <- 2\n",
    "    }\n",
    "    return (predictions)\n",
    "}"
   ]
  },
  {
   "cell_type": "code",
   "execution_count": 14,
   "metadata": {},
   "outputs": [],
   "source": [
    "predictions1 <- FisherClassifier(aT,crude1,FisherCrit)\n",
    "predictions2 <- FisherClassifier(aT,crude2,FisherCrit)"
   ]
  },
  {
   "cell_type": "code",
   "execution_count": 15,
   "metadata": {},
   "outputs": [
    {
     "data": {
      "text/html": [
       "<table>\n",
       "<thead><tr><th></th><th scope=col>Sub-Mulina (predicted)</th><th scope=col>Upper (predicted)</th></tr></thead>\n",
       "<tbody>\n",
       "\t<tr><th scope=row>Sub-Mulina (true)</th><td>11</td><td> 0</td></tr>\n",
       "\t<tr><th scope=row>Upper (true)</th><td> 2</td><td>36</td></tr>\n",
       "</tbody>\n",
       "</table>\n"
      ],
      "text/latex": [
       "\\begin{tabular}{r|ll}\n",
       "  & Sub-Mulina (predicted) & Upper (predicted)\\\\\n",
       "\\hline\n",
       "\tSub-Mulina (true) & 11 &  0\\\\\n",
       "\tUpper (true) &  2 & 36\\\\\n",
       "\\end{tabular}\n"
      ],
      "text/markdown": [
       "\n",
       "| <!--/--> | Sub-Mulina (predicted) | Upper (predicted) |\n",
       "|---|---|---|\n",
       "| Sub-Mulina (true) | 11 |  0 |\n",
       "| Upper (true) |  2 | 36 |\n",
       "\n"
      ],
      "text/plain": [
       "                  Sub-Mulina (predicted) Upper (predicted)\n",
       "Sub-Mulina (true) 11                      0               \n",
       "Upper (true)       2                     36               "
      ]
     },
     "metadata": {},
     "output_type": "display_data"
    }
   ],
   "source": [
    "confusionMatrix <- data.frame(row.names=c(\"Sub-Mulina (true)\",\"Upper (true)\"),c(0,0),c(0,0))\n",
    "colnames(confusionMatrix) <- c(\"Sub-Mulina (predicted)\",\"Upper (predicted)\")\n",
    "confusionMatrix[1,1] <- length(predictions1[predictions1==1])\n",
    "confusionMatrix[1,2] <- length(predictions1[predictions1==2])\n",
    "confusionMatrix[2,1] <- length(predictions1[predictions2==1])\n",
    "confusionMatrix[2,2] <- length(predictions1[predictions2==2])\n",
    "confusionMatrix"
   ]
  },
  {
   "cell_type": "markdown",
   "metadata": {},
   "source": [
    "### (2c)"
   ]
  },
  {
   "cell_type": "code",
   "execution_count": 16,
   "metadata": {},
   "outputs": [],
   "source": [
    "x = data.frame(t(c(4.0,17.0,0.50,5.54,3.51)))"
   ]
  },
  {
   "cell_type": "code",
   "execution_count": 17,
   "metadata": {},
   "outputs": [
    {
     "name": "stdout",
     "output_type": "stream",
     "text": [
      "Data point: 4 17 0.5 5.54 3.51\n",
      "Prediction: Upper"
     ]
    }
   ],
   "source": [
    "prediction <- FisherClassifier(aT,x,FisherCrit)\n",
    "cat(\"Data point:\",unlist(x[1,], use.names=FALSE))\n",
    "if (prediction==1){\n",
    "    cat(\"\\nPrediction: Sub_Mulina\")\n",
    "} else cat(\"\\nPrediction: Upper\")"
   ]
  },
  {
   "cell_type": "markdown",
   "metadata": {},
   "source": [
    "## Problem 3"
   ]
  },
  {
   "cell_type": "code",
   "execution_count": 18,
   "metadata": {},
   "outputs": [
    {
     "data": {
      "text/html": [
       "<table>\n",
       "<thead><tr><th scope=col>Country</th><th scope=col>Abbrev</th><th scope=col>X100m.s</th><th scope=col>X200m.s</th><th scope=col>X400m.s</th><th scope=col>X800m.m</th><th scope=col>X1500m.m</th><th scope=col>X5000m.m</th><th scope=col>X10000m.m</th><th scope=col>Marathon.m</th></tr></thead>\n",
       "<tbody>\n",
       "\t<tr><td>Argentina</td><td>ARG      </td><td>10.39    </td><td>20.81    </td><td>46.84    </td><td>1.81     </td><td>3.70     </td><td>14.04    </td><td>29.36    </td><td>137.72   </td></tr>\n",
       "\t<tr><td>Australia</td><td>AUL      </td><td>10.31    </td><td>20.06    </td><td>44.84    </td><td>1.74     </td><td>3.57     </td><td>13.28    </td><td>27.66    </td><td>128.30   </td></tr>\n",
       "\t<tr><td>Austria  </td><td>AUS      </td><td>10.44    </td><td>20.81    </td><td>46.82    </td><td>1.79     </td><td>3.60     </td><td>13.26    </td><td>27.72    </td><td>135.90   </td></tr>\n",
       "\t<tr><td>Belgium  </td><td>BEL      </td><td>10.34    </td><td>20.68    </td><td>45.04    </td><td>1.73     </td><td>3.60     </td><td>13.22    </td><td>27.45    </td><td>129.95   </td></tr>\n",
       "\t<tr><td>Bermuda  </td><td>BER      </td><td>10.28    </td><td>20.58    </td><td>45.91    </td><td>1.80     </td><td>3.75     </td><td>14.68    </td><td>30.55    </td><td>146.62   </td></tr>\n",
       "\t<tr><td>Brazil   </td><td>BRA      </td><td>10.22    </td><td>20.43    </td><td>45.21    </td><td>1.73     </td><td>3.66     </td><td>13.62    </td><td>28.62    </td><td>133.13   </td></tr>\n",
       "</tbody>\n",
       "</table>\n"
      ],
      "text/latex": [
       "\\begin{tabular}{r|llllllllll}\n",
       " Country & Abbrev & X100m.s & X200m.s & X400m.s & X800m.m & X1500m.m & X5000m.m & X10000m.m & Marathon.m\\\\\n",
       "\\hline\n",
       "\t Argentina & ARG       & 10.39     & 20.81     & 46.84     & 1.81      & 3.70      & 14.04     & 29.36     & 137.72   \\\\\n",
       "\t Australia & AUL       & 10.31     & 20.06     & 44.84     & 1.74      & 3.57      & 13.28     & 27.66     & 128.30   \\\\\n",
       "\t Austria   & AUS       & 10.44     & 20.81     & 46.82     & 1.79      & 3.60      & 13.26     & 27.72     & 135.90   \\\\\n",
       "\t Belgium   & BEL       & 10.34     & 20.68     & 45.04     & 1.73      & 3.60      & 13.22     & 27.45     & 129.95   \\\\\n",
       "\t Bermuda   & BER       & 10.28     & 20.58     & 45.91     & 1.80      & 3.75      & 14.68     & 30.55     & 146.62   \\\\\n",
       "\t Brazil    & BRA       & 10.22     & 20.43     & 45.21     & 1.73      & 3.66      & 13.62     & 28.62     & 133.13   \\\\\n",
       "\\end{tabular}\n"
      ],
      "text/markdown": [
       "\n",
       "| Country | Abbrev | X100m.s | X200m.s | X400m.s | X800m.m | X1500m.m | X5000m.m | X10000m.m | Marathon.m |\n",
       "|---|---|---|---|---|---|---|---|---|---|\n",
       "| Argentina | ARG       | 10.39     | 20.81     | 46.84     | 1.81      | 3.70      | 14.04     | 29.36     | 137.72    |\n",
       "| Australia | AUL       | 10.31     | 20.06     | 44.84     | 1.74      | 3.57      | 13.28     | 27.66     | 128.30    |\n",
       "| Austria   | AUS       | 10.44     | 20.81     | 46.82     | 1.79      | 3.60      | 13.26     | 27.72     | 135.90    |\n",
       "| Belgium   | BEL       | 10.34     | 20.68     | 45.04     | 1.73      | 3.60      | 13.22     | 27.45     | 129.95    |\n",
       "| Bermuda   | BER       | 10.28     | 20.58     | 45.91     | 1.80      | 3.75      | 14.68     | 30.55     | 146.62    |\n",
       "| Brazil    | BRA       | 10.22     | 20.43     | 45.21     | 1.73      | 3.66      | 13.62     | 28.62     | 133.13    |\n",
       "\n"
      ],
      "text/plain": [
       "  Country   Abbrev X100m.s X200m.s X400m.s X800m.m X1500m.m X5000m.m X10000m.m\n",
       "1 Argentina ARG    10.39   20.81   46.84   1.81    3.70     14.04    29.36    \n",
       "2 Australia AUL    10.31   20.06   44.84   1.74    3.57     13.28    27.66    \n",
       "3 Austria   AUS    10.44   20.81   46.82   1.79    3.60     13.26    27.72    \n",
       "4 Belgium   BEL    10.34   20.68   45.04   1.73    3.60     13.22    27.45    \n",
       "5 Bermuda   BER    10.28   20.58   45.91   1.80    3.75     14.68    30.55    \n",
       "6 Brazil    BRA    10.22   20.43   45.21   1.73    3.66     13.62    28.62    \n",
       "  Marathon.m\n",
       "1 137.72    \n",
       "2 128.30    \n",
       "3 135.90    \n",
       "4 129.95    \n",
       "5 146.62    \n",
       "6 133.13    "
      ]
     },
     "metadata": {},
     "output_type": "display_data"
    }
   ],
   "source": [
    "track <- read.csv(\"TrackData.csv\")\n",
    "head(track)"
   ]
  },
  {
   "cell_type": "markdown",
   "metadata": {},
   "source": [
    "### (3a)"
   ]
  },
  {
   "cell_type": "code",
   "execution_count": 38,
   "metadata": {},
   "outputs": [
    {
     "data": {
      "image/png": "[encoded data removed]",
      "text/plain": [
       "Plot with title \"Single Linkage\""
      ]
     },
     "metadata": {},
     "output_type": "display_data"
    }
   ],
   "source": [
    "track.distEuc <- suppressWarnings(dist(track[,-1]))\n",
    "\n",
    "track.hcEuc <- hclust(track.distEuc, method=\"complete\")\n",
    "track.hsEuc <- hclust(track.distEuc, method=\"single\")\n",
    "\n",
    "options(repr.plot.width = 9, repr.plot.height = 5)\n",
    "par(mfrow=c(1,2))\n",
    "plot(track.hcEuc, hang=-1, sub=\"\", main=\"Complete Linkage\")\n",
    "plot(track.hsEuc, hang=-1, sub=\"\", main=\"Single Linkage\")"
   ]
  },
  {
   "cell_type": "markdown",
   "metadata": {},
   "source": [
    "Complete Linkage might be more desirable, because Single Linkage seems to cluster in a chain-like fashion. However, we can't be sure because there is no ground truth."
   ]
  },
  {
   "cell_type": "markdown",
   "metadata": {},
   "source": [
    "### (3b)"
   ]
  },
  {
   "cell_type": "code",
   "execution_count": 20,
   "metadata": {},
   "outputs": [
    {
     "name": "stdout",
     "output_type": "stream",
     "text": [
      "k = 2\n",
      "\n",
      "Cluster 1:\n",
      " Bermuda CookIslands DominicanRepublic Indonesia Malaysia Mauritius PapuaNewGuinea Philippines Singapore Thailand WestSamoa \n",
      "Cluster size: 11\n",
      "\n",
      "Cluster 2:\n",
      " Argentina Australia Austria Belgium Brazil Burma Canada Chile China Columbia CostaRica Czechoslovakia Denmark Finland Grance EastGermany WestGermany GreatBritain Greece Guatemala Hungary India Ireland Israel Italy Japan Kenya SouthKorea NorthKorea Luxembourg Mexico Netherlands NewZealand Norway Poland Portugal Romania Spain Sweden Switzerland Taiwan Turkey USA Russia \n",
      "Cluster size: 44"
     ]
    }
   ],
   "source": [
    "track.km2 <- kmeans(track[,3:10], centers=2, nstart=10)\n",
    "\n",
    "# Produce pairs plot with points colored by k-means cluster assignment\n",
    "cat(\"k = 2\")\n",
    "cat(\"\\n\\nCluster 1:\\n\", as.character(track[track.km2$clus==1,1]), \"\\nCluster size:\", length(as.character(track[track.km2$clus==1,1])))\n",
    "cat(\"\\n\\nCluster 2:\\n\", as.character(track[track.km2$clus==2,1]), \"\\nCluster size:\", length(as.character(track[track.km2$clus==2,1])))"
   ]
  },
  {
   "cell_type": "code",
   "execution_count": 21,
   "metadata": {},
   "outputs": [
    {
     "name": "stdout",
     "output_type": "stream",
     "text": [
      "k = 3\n",
      "\n",
      "Cluster 1:\n",
      " Argentina Austria Bermuda Burma CostaRica Guatemala Israel SouthKorea Luxembourg Philippines Taiwan \n",
      "Cluster size: 11\n",
      "\n",
      "Cluster 2:\n",
      " Australia Belgium Brazil Canada Chile China Columbia Czechoslovakia Denmark Finland Grance EastGermany WestGermany GreatBritain Greece Hungary India Ireland Italy Japan Kenya NorthKorea Mexico Netherlands NewZealand Norway Poland Portugal Romania Spain Sweden Switzerland Turkey USA Russia \n",
      "Cluster size: 35\n",
      "\n",
      "Cluster 3:\n",
      " CookIslands DominicanRepublic Indonesia Malaysia Mauritius PapuaNewGuinea Singapore Thailand WestSamoa \n",
      "Cluster size: 9"
     ]
    }
   ],
   "source": [
    "track.km3 <- kmeans(track[,3:10], centers=3, nstart=10)\n",
    "\n",
    "# Produce pairs plot with points colored by k-means cluster assignment\n",
    "cat(\"k = 3\")\n",
    "cat(\"\\n\\nCluster 1:\\n\", as.character(track[track.km3$clus==1,1]), \"\\nCluster size:\", length(as.character(track[track.km3$clus==1,1])))\n",
    "cat(\"\\n\\nCluster 2:\\n\", as.character(track[track.km3$clus==2,1]), \"\\nCluster size:\", length(as.character(track[track.km3$clus==2,1])))\n",
    "cat(\"\\n\\nCluster 3:\\n\", as.character(track[track.km3$clus==3,1]), \"\\nCluster size:\", length(as.character(track[track.km3$clus==3,1])))"
   ]
  },
  {
   "cell_type": "code",
   "execution_count": 22,
   "metadata": {},
   "outputs": [
    {
     "name": "stdout",
     "output_type": "stream",
     "text": [
      "k = 4\n",
      "\n",
      "Cluster 1:\n",
      " Bermuda DominicanRepublic Indonesia Malaysia Mauritius PapuaNewGuinea Philippines Thailand \n",
      "Cluster size: 8\n",
      "\n",
      "Cluster 2:\n",
      " Argentina Austria Burma CostaRica Greece Guatemala Israel SouthKorea Luxembourg Taiwan \n",
      "Cluster size: 10\n",
      "\n",
      "Cluster 3:\n",
      " Australia Belgium Brazil Canada Chile China Columbia Czechoslovakia Denmark Finland Grance EastGermany WestGermany GreatBritain Hungary India Ireland Italy Japan Kenya NorthKorea Mexico Netherlands NewZealand Norway Poland Portugal Romania Spain Sweden Switzerland Turkey USA Russia \n",
      "Cluster size: 34\n",
      "\n",
      "Cluster 4:\n",
      " CookIslands Singapore WestSamoa \n",
      "Cluster size: 3"
     ]
    }
   ],
   "source": [
    "track.km4 <- kmeans(track[,3:10], centers=4, nstart=10)\n",
    "\n",
    "# Produce pairs plot with points colored by k-means cluster assignment\n",
    "cat(\"k = 4\")\n",
    "cat(\"\\n\\nCluster 1:\\n\", as.character(track[track.km4$clus==1,1]), \"\\nCluster size:\", length(as.character(track[track.km4$clus==1,1])))\n",
    "cat(\"\\n\\nCluster 2:\\n\", as.character(track[track.km4$clus==2,1]), \"\\nCluster size:\", length(as.character(track[track.km4$clus==2,1])))\n",
    "cat(\"\\n\\nCluster 3:\\n\", as.character(track[track.km4$clus==3,1]), \"\\nCluster size:\", length(as.character(track[track.km4$clus==3,1])))\n",
    "cat(\"\\n\\nCluster 4:\\n\", as.character(track[track.km4$clus==4,1]), \"\\nCluster size:\", length(as.character(track[track.km4$clus==4,1])))"
   ]
  },
  {
   "cell_type": "markdown",
   "metadata": {},
   "source": [
    "### (3c)"
   ]
  },
  {
   "cell_type": "markdown",
   "metadata": {},
   "source": [
    "#### Pair plots of KMeans clusters (k=3)"
   ]
  },
  {
   "cell_type": "code",
   "execution_count": 46,
   "metadata": {},
   "outputs": [
    {
     "data": {
      "image/png": "[encoded data removed]",
      "text/plain": [
       "plot without title"
      ]
     },
     "metadata": {},
     "output_type": "display_data"
    }
   ],
   "source": [
    "pairs(track[3:10], col = track.km3$clus)"
   ]
  },
  {
   "cell_type": "markdown",
   "metadata": {},
   "source": [
    "#### Pair plots of Hierarchical clusters (k=3)"
   ]
  },
  {
   "cell_type": "code",
   "execution_count": 47,
   "metadata": {},
   "outputs": [
    {
     "data": {
      "image/png": "[encoded data removed]",
      "text/plain": [
       "plot without title"
      ]
     },
     "metadata": {},
     "output_type": "display_data"
    }
   ],
   "source": [
    "pairs(track[3:10], col = cutree(track.hcEuc, k = 3))"
   ]
  },
  {
   "cell_type": "markdown",
   "metadata": {},
   "source": [
    "By looking at the pair plots (heuristically), Hierarchical Clustering will have smaller within sum of squares, which means Hierarchical CLustering fits the data better than Kmeans in this problem."
   ]
  },
  {
   "cell_type": "markdown",
   "metadata": {},
   "source": [
    "## Problem 4"
   ]
  },
  {
   "cell_type": "code",
   "execution_count": 24,
   "metadata": {},
   "outputs": [
    {
     "data": {
      "text/html": [
       "<table>\n",
       "<thead><tr><th></th><th scope=col>Site1</th><th scope=col>Site2</th><th scope=col>Site3</th><th scope=col>Site4</th><th scope=col>Site5</th><th scope=col>Site6</th><th scope=col>Site7</th><th scope=col>Site8</th><th scope=col>Site9</th></tr></thead>\n",
       "<tbody>\n",
       "\t<tr><th scope=row>Site1</th><td>0.000</td><td>2.202</td><td>1.004</td><td>1.108</td><td>1.122</td><td>0.914</td><td>0.914</td><td>2.056</td><td>1.608</td></tr>\n",
       "\t<tr><th scope=row>Site2</th><td>2.202</td><td>0.000</td><td>2.025</td><td>1.943</td><td>1.870</td><td>2.070</td><td>2.186</td><td>2.055</td><td>1.722</td></tr>\n",
       "\t<tr><th scope=row>Site3</th><td>1.004</td><td>2.025</td><td>0.000</td><td>0.233</td><td>0.719</td><td>0.719</td><td>0.452</td><td>1.986</td><td>1.358</td></tr>\n",
       "\t<tr><th scope=row>Site4</th><td>1.108</td><td>1.943</td><td>0.233</td><td>0.000</td><td>0.541</td><td>0.679</td><td>0.681</td><td>1.990</td><td>1.168</td></tr>\n",
       "\t<tr><th scope=row>Site5</th><td>1.122</td><td>1.870</td><td>0.719</td><td>0.541</td><td>0.000</td><td>0.539</td><td>1.102</td><td>1.963</td><td>0.681</td></tr>\n",
       "\t<tr><th scope=row>Site6</th><td>0.914</td><td>2.070</td><td>0.719</td><td>0.679</td><td>0.539</td><td>0.000</td><td>0.916</td><td>2.056</td><td>1.005</td></tr>\n",
       "\t<tr><th scope=row>Site7</th><td>0.914</td><td>2.186</td><td>0.452</td><td>0.681</td><td>1.102</td><td>0.916</td><td>0.000</td><td>2.027</td><td>1.719</td></tr>\n",
       "\t<tr><th scope=row>Site8</th><td>2.056</td><td>2.055</td><td>1.986</td><td>1.990</td><td>1.963</td><td>2.056</td><td>2.027</td><td>0.000</td><td>1.991</td></tr>\n",
       "\t<tr><th scope=row>Site9</th><td>1.608</td><td>1.722</td><td>1.358</td><td>1.168</td><td>0.681</td><td>1.005</td><td>1.719</td><td>1.991</td><td>0.000</td></tr>\n",
       "</tbody>\n",
       "</table>\n"
      ],
      "text/latex": [
       "\\begin{tabular}{r|lllllllll}\n",
       "  & Site1 & Site2 & Site3 & Site4 & Site5 & Site6 & Site7 & Site8 & Site9\\\\\n",
       "\\hline\n",
       "\tSite1 & 0.000 & 2.202 & 1.004 & 1.108 & 1.122 & 0.914 & 0.914 & 2.056 & 1.608\\\\\n",
       "\tSite2 & 2.202 & 0.000 & 2.025 & 1.943 & 1.870 & 2.070 & 2.186 & 2.055 & 1.722\\\\\n",
       "\tSite3 & 1.004 & 2.025 & 0.000 & 0.233 & 0.719 & 0.719 & 0.452 & 1.986 & 1.358\\\\\n",
       "\tSite4 & 1.108 & 1.943 & 0.233 & 0.000 & 0.541 & 0.679 & 0.681 & 1.990 & 1.168\\\\\n",
       "\tSite5 & 1.122 & 1.870 & 0.719 & 0.541 & 0.000 & 0.539 & 1.102 & 1.963 & 0.681\\\\\n",
       "\tSite6 & 0.914 & 2.070 & 0.719 & 0.679 & 0.539 & 0.000 & 0.916 & 2.056 & 1.005\\\\\n",
       "\tSite7 & 0.914 & 2.186 & 0.452 & 0.681 & 1.102 & 0.916 & 0.000 & 2.027 & 1.719\\\\\n",
       "\tSite8 & 2.056 & 2.055 & 1.986 & 1.990 & 1.963 & 2.056 & 2.027 & 0.000 & 1.991\\\\\n",
       "\tSite9 & 1.608 & 1.722 & 1.358 & 1.168 & 0.681 & 1.005 & 1.719 & 1.991 & 0.000\\\\\n",
       "\\end{tabular}\n"
      ],
      "text/markdown": [
       "\n",
       "| <!--/--> | Site1 | Site2 | Site3 | Site4 | Site5 | Site6 | Site7 | Site8 | Site9 |\n",
       "|---|---|---|---|---|---|---|---|---|---|\n",
       "| Site1 | 0.000 | 2.202 | 1.004 | 1.108 | 1.122 | 0.914 | 0.914 | 2.056 | 1.608 |\n",
       "| Site2 | 2.202 | 0.000 | 2.025 | 1.943 | 1.870 | 2.070 | 2.186 | 2.055 | 1.722 |\n",
       "| Site3 | 1.004 | 2.025 | 0.000 | 0.233 | 0.719 | 0.719 | 0.452 | 1.986 | 1.358 |\n",
       "| Site4 | 1.108 | 1.943 | 0.233 | 0.000 | 0.541 | 0.679 | 0.681 | 1.990 | 1.168 |\n",
       "| Site5 | 1.122 | 1.870 | 0.719 | 0.541 | 0.000 | 0.539 | 1.102 | 1.963 | 0.681 |\n",
       "| Site6 | 0.914 | 2.070 | 0.719 | 0.679 | 0.539 | 0.000 | 0.916 | 2.056 | 1.005 |\n",
       "| Site7 | 0.914 | 2.186 | 0.452 | 0.681 | 1.102 | 0.916 | 0.000 | 2.027 | 1.719 |\n",
       "| Site8 | 2.056 | 2.055 | 1.986 | 1.990 | 1.963 | 2.056 | 2.027 | 0.000 | 1.991 |\n",
       "| Site9 | 1.608 | 1.722 | 1.358 | 1.168 | 0.681 | 1.005 | 1.719 | 1.991 | 0.000 |\n",
       "\n"
      ],
      "text/plain": [
       "      Site1 Site2 Site3 Site4 Site5 Site6 Site7 Site8 Site9\n",
       "Site1 0.000 2.202 1.004 1.108 1.122 0.914 0.914 2.056 1.608\n",
       "Site2 2.202 0.000 2.025 1.943 1.870 2.070 2.186 2.055 1.722\n",
       "Site3 1.004 2.025 0.000 0.233 0.719 0.719 0.452 1.986 1.358\n",
       "Site4 1.108 1.943 0.233 0.000 0.541 0.679 0.681 1.990 1.168\n",
       "Site5 1.122 1.870 0.719 0.541 0.000 0.539 1.102 1.963 0.681\n",
       "Site6 0.914 2.070 0.719 0.679 0.539 0.000 0.916 2.056 1.005\n",
       "Site7 0.914 2.186 0.452 0.681 1.102 0.916 0.000 2.027 1.719\n",
       "Site8 2.056 2.055 1.986 1.990 1.963 2.056 2.027 0.000 1.991\n",
       "Site9 1.608 1.722 1.358 1.168 0.681 1.005 1.719 1.991 0.000"
      ]
     },
     "metadata": {},
     "output_type": "display_data"
    }
   ],
   "source": [
    "archae <- read.csv(\"ArchaeoData.csv\")\n",
    "archae"
   ]
  },
  {
   "cell_type": "code",
   "execution_count": 49,
   "metadata": {},
   "outputs": [
    {
     "data": {
      "image/png": "[encoded data removed]",
      "text/plain": [
       "plot without title"
      ]
     },
     "metadata": {},
     "output_type": "display_data"
    }
   ],
   "source": [
    "siteMds2 <- -cmdscale(archae, k=2)\n",
    "options(repr.plot.width = 4, repr.plot.height = 4)\n",
    "plot(siteMds2, pch=16)\n",
    "text(siteMds2, row.names(archae), pos=1, cex=0.5)"
   ]
  },
  {
   "cell_type": "code",
   "execution_count": 39,
   "metadata": {},
   "outputs": [
    {
     "data": {
      "text/html": [
       "<table>\n",
       "<tbody>\n",
       "\t<tr><th scope=row>Site1</th><td> 0.5119010 </td><td>-0.27797661</td><td> 0.24210462</td></tr>\n",
       "\t<tr><th scope=row>Site2</th><td>-1.3184960 </td><td> 0.69177869</td><td> 0.62299269</td></tr>\n",
       "\t<tr><th scope=row>Site3</th><td> 0.4696574 </td><td>-0.07075632</td><td> 0.18553022</td></tr>\n",
       "\t<tr><th scope=row>Site4</th><td> 0.3874028 </td><td> 0.08774518</td><td> 0.04893247</td></tr>\n",
       "\t<tr><th scope=row>Site5</th><td> 0.2336943 </td><td> 0.29550962</td><td>-0.32518484</td></tr>\n",
       "\t<tr><th scope=row>Site6</th><td> 0.4688497 </td><td> 0.13734912</td><td>-0.21876261</td></tr>\n",
       "\t<tr><th scope=row>Site7</th><td> 0.5814134 </td><td>-0.34919001</td><td> 0.45732159</td></tr>\n",
       "\t<tr><th scope=row>Site8</th><td>-1.1180751 </td><td>-1.12218941</td><td>-0.31595964</td></tr>\n",
       "\t<tr><th scope=row>Site9</th><td>-0.2163475 </td><td> 0.60772973</td><td>-0.69697450</td></tr>\n",
       "</tbody>\n",
       "</table>\n"
      ],
      "text/latex": [
       "\\begin{tabular}{r|lll}\n",
       "\tSite1 &  0.5119010  & -0.27797661 &  0.24210462\\\\\n",
       "\tSite2 & -1.3184960  &  0.69177869 &  0.62299269\\\\\n",
       "\tSite3 &  0.4696574  & -0.07075632 &  0.18553022\\\\\n",
       "\tSite4 &  0.3874028  &  0.08774518 &  0.04893247\\\\\n",
       "\tSite5 &  0.2336943  &  0.29550962 & -0.32518484\\\\\n",
       "\tSite6 &  0.4688497  &  0.13734912 & -0.21876261\\\\\n",
       "\tSite7 &  0.5814134  & -0.34919001 &  0.45732159\\\\\n",
       "\tSite8 & -1.1180751  & -1.12218941 & -0.31595964\\\\\n",
       "\tSite9 & -0.2163475  &  0.60772973 & -0.69697450\\\\\n",
       "\\end{tabular}\n"
      ],
      "text/markdown": [
       "\n",
       "| Site1 |  0.5119010  | -0.27797661 |  0.24210462 |\n",
       "| Site2 | -1.3184960  |  0.69177869 |  0.62299269 |\n",
       "| Site3 |  0.4696574  | -0.07075632 |  0.18553022 |\n",
       "| Site4 |  0.3874028  |  0.08774518 |  0.04893247 |\n",
       "| Site5 |  0.2336943  |  0.29550962 | -0.32518484 |\n",
       "| Site6 |  0.4688497  |  0.13734912 | -0.21876261 |\n",
       "| Site7 |  0.5814134  | -0.34919001 |  0.45732159 |\n",
       "| Site8 | -1.1180751  | -1.12218941 | -0.31595964 |\n",
       "| Site9 | -0.2163475  |  0.60772973 | -0.69697450 |\n",
       "\n"
      ],
      "text/plain": [
       "      [,1]       [,2]        [,3]       \n",
       "Site1  0.5119010 -0.27797661  0.24210462\n",
       "Site2 -1.3184960  0.69177869  0.62299269\n",
       "Site3  0.4696574 -0.07075632  0.18553022\n",
       "Site4  0.3874028  0.08774518  0.04893247\n",
       "Site5  0.2336943  0.29550962 -0.32518484\n",
       "Site6  0.4688497  0.13734912 -0.21876261\n",
       "Site7  0.5814134 -0.34919001  0.45732159\n",
       "Site8 -1.1180751 -1.12218941 -0.31595964\n",
       "Site9 -0.2163475  0.60772973 -0.69697450"
      ]
     },
     "metadata": {},
     "output_type": "display_data"
    }
   ],
   "source": [
    "siteMds3 <- cmdscale(archae, k=3)\n",
    "siteMds3"
   ]
  },
  {
   "cell_type": "markdown",
   "metadata": {},
   "source": [
    "## Problem 5"
   ]
  },
  {
   "cell_type": "markdown",
   "metadata": {},
   "source": [
    "(a) Twenty subjects were given each of three diets (in random order) and the subjects' blood pressures\n",
    "were measured at the end of each diet, so there were three blood pressure measurement associated\n",
    "with each subject.\n",
    "\n",
    "**Question**: Did the different treatments affect the subjects' blood pressure differently? **Repeated Measures**\n",
    "\n",
    "(b) Two varieties of chickweed are difficult to distinguish. Measurements on four variables were\n",
    "obtained for chickweed plants whose variety was known.\n",
    "\n",
    "**Question**: Use these observations to establish a rule for classifying a new candidate plant into\n",
    "one of the two varieties. **LDA**\n",
    "\n",
    "(c) Each of 50 eight-year-old girls and 50 eight-year-old boys were given a total of 10 tests. Five of\n",
    "these tests had to do with language and five had to do with mathematical reasoning.\n",
    "\n",
    "**Question**: Do scores differ between boys and girls? **Two-sample $T^2$**\n",
    "\n",
    "**Question**: Combining the boys and girls, what combination of the language tests is most asso-\n",
    "ciated with some combination of the math tests? **CCA**\n",
    "\n",
    "(d) Daily measurements of seven pollution-related variables were recorded over an extended period\n",
    "of time at a single location in Los Angeles.\n",
    "\n",
    "**Question**: Find a low-dimensional representation for these variables that captures most of the\n",
    "variability. **PCA**\n",
    "\n",
    "**Question**: Test whether the pollution on weekends differed from that on weekdays. **Two-sample $T^2$**\n",
    "\n",
    "(e) For each of a sample of 42 new microwaves made by a certain manufacturer, the amount of\n",
    "radiation emitted when the door of the microwave is closed and the amount of radiation emitted\n",
    "when the door of the microwave is opened are measured.\n",
    "\n",
    "**Question**: Construct a confidence interval for the difference in amount of radiation emitted un-\n",
    "der these two conditions. **t-test (paired differences)**\n",
    "\n",
    "(f) A sample of 50 married couples was obtained. The wife and the husband each answered four\n",
    "questions regarding their relationship on a scale of 0 to 10.\n",
    "\n",
    "**Question**: Do the wife's answers tend to be similar to the husband's answers, and in what way\n",
    "are they most similar? That is, what combination of the wife's answers is most similar to what\n",
    "combination of the husband's answers? **One-sample $T^2$ and CCA**\n",
    "\n",
    "(g) The standardized scores for each of the ten events in the decathlon were obtained for each of 50\n",
    "entrants.\n",
    "\n",
    "**Question**: Can the variation in the scores be explained by three underlying athletic abilities, and\n",
    "how might these abilities be described? **Factor Analysis**"
   ]
  },
  {
   "cell_type": "markdown",
   "metadata": {},
   "source": [
    "(h) For 15 different species of predator fish, data were gathered on several aspects of their diet.\n",
    "\n",
    "**Question**: How can these species of fish be grouped based on similarities in their diet? **Clustering**\n",
    "\n",
    "(i) Calcite content was measured at 25 equally-spaced locations along the leg bone for each of seven\n",
    "Tyrannosaurus Rex skeletons and also for each of five skeletons of a newly-discovered type of\n",
    "dinosaur.\n",
    "\n",
    "**Question**: Do the calcite concentrations at these locations differ between the two dinosaur\n",
    "species? **Two-sample $T^2$**\n",
    "\n",
    "**Question**: Combining the dinosaur species, is calcite concentration the same at all of the mea-\n",
    "sured locations in the leg bone? **Repeated Measures**\n",
    "\n",
    "**Question**: Based on these measurements, construct a rule for classifying a new bone as coming\n",
    "from a Tyrannosaurus Rex or from the newly-discovered species. **LDA**\n",
    "\n",
    "(j) Blood samples from 40 patients were obtained and each divided into six subsamples, which were\n",
    "sent to six different laboratories to have iron content measured.\n",
    "\n",
    "**Question**: Do the six different laboratory results have the same means? **Repeated Measures**\n",
    "\n",
    "(k) Measurements on six accounting and financial variables were obtained from a sample of insurance\n",
    "companies that were distressed (close to bankrupt) and an independent sample of insurance com-\n",
    "panies that were solvent.\n",
    "\n",
    "**Question**: Establish a rule for classifying future insurance companies as solvent or distressed\n",
    "based on these variables. **LDA**\n",
    "\n",
    "(l) DNA analysis was performed on hair specimens from each of 100 mummies taken from Egyptian\n",
    "pyramids. For each mummy, twenty variables concerning the DNA sequence were measured.\n",
    "\n",
    "**Question**: Based on the measured variables, identify groups of mummies that are related to each\n",
    "other (have similar values of the variables). **Clustering**\n",
    "\n",
    "**Question**: Based on the distances between these variables, construct a two-dimensional plot of\n",
    "the mummies to visualize the groupings. **MDS**\n",
    "\n",
    "(m) SAT subject test scores are obtained for a random sample of 100 12th graders who took Math,\n",
    "Biology, Literature, and World History subject tests.\n",
    "\n",
    "**Question**: Test whether the average score for all four tests is 500. **One-sample t-test**\n",
    "\n",
    "**Question**: Test whether the average scores are equal for all four tests. **Repeated Measures**\n",
    "\n",
    "(n) A wildlife ecologist measured tail length and wing length for a sample of 45 female hook-billed\n",
    "kites and 45 male hook-billed kites.\n",
    "\n",
    "**Question**: Are average tail length and wing length the same for female and male hook-billed\n",
    "kites? **Two-sample $T^2$**\n",
    "\n",
    "(o) Several measurements were obtained on chief executive officers (CEO) of companies, regarding\n",
    "the degree to which the officers took risks. Several additional measurements were available on the\n",
    "success of the company under their leadership.\n",
    "\n",
    "**Question**: What aspects of risk-taking propensity of the CEO are associated with which aspects\n",
    "of company success? **Multivariate Multiple Regression**\n",
    "\n",
    "**Question**: What combination of risk-taking propensities displays the greatest variation between\n",
    "CEOs? **PCA**\n",
    "\n",
    "(p) The age, diameter, and height were measured for a sample of trees that contained eagle roost sites\n",
    "and for an independent sample of trees that did not contain eagle roost sites.\n",
    "\n",
    "**Question**: Construct confidence intervals for the difference in age, difference in diameter, and\n",
    "difference in height between roosting trees and non-roosting trees. **Bonferroni**\n",
    "\n",
    "**Question**: Determine a rule for classifying a new tree as a likely roosting site or unlikely roosting\n",
    "site, based on these three variables. **LDA**\n",
    "\n",
    "(q) For all of the NBA rookies who started in 2000, data were collected on their free-throw percentages\n",
    "each year for the first five years of their NBA careers.\n",
    "\n",
    "**Question**: Does average free-throw percentage change over these five years? **Repeated Measures**\n",
    "\n",
    "(r) Twelve measurements were taken on fossilized skull measurements from 20 kinds of squirrels. The\n",
    "goal of the analysis was to order the 20 squirrels chronologically, on the basis of the similarities\n",
    "between the skull measurements for different squirrels.\n",
    "\n",
    "**Question**: Find a one-dimensional representation of the 20 squirrels that best captures the\n",
    "differences between the measured variables. **PCA**\n",
    "\n",
    "(s) The protein, fat content, calories, and Vitamin A content were measured for each of ten brands\n",
    "of hot dogs.\n",
    "\n",
    "**Question**: Group the brands of hot dogs based on their nutritional content. **Clustering**\n",
    "\n",
    "**Question**: What combination of these nutritional measurements captures the greatest difference\n",
    "between the hot dog brands? **PCA**\n",
    "\n",
    "(t) Measurements were obtained on five pre-college predictor variables and four college performance\n",
    "variables for each of several hundred students.\n",
    "\n",
    "**Question**: What combination of pre-college variables is most associated with a combination of\n",
    "college performance? **CCA**\n",
    "\n",
    "**Question**: Combining the two variable sets, are there a few underlying abilities that explain the\n",
    "pre-college and college performance? **Factor Analysis**"
   ]
  },
  {
   "cell_type": "code",
   "execution_count": null,
   "metadata": {},
   "outputs": [],
   "source": []
  }
 ],
 "metadata": {
  "kernelspec": {
   "display_name": "R",
   "language": "R",
   "name": "ir"
  },
  "language_info": {
   "codemirror_mode": "r",
   "file_extension": ".r",
   "mimetype": "text/x-r-source",
   "name": "R",
   "pygments_lexer": "r",
   "version": "3.6.1"
  }
 },
 "nbformat": 4,
 "nbformat_minor": 4
}
