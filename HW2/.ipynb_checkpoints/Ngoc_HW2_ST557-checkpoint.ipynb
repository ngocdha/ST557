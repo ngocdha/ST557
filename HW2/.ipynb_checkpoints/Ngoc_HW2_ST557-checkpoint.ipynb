{
 "cells": [
  {
   "cell_type": "markdown",
   "metadata": {},
   "source": [
    "# Ngoc Ha\n",
    "# HW 2 - ST 557"
   ]
  },
  {
   "cell_type": "markdown",
   "metadata": {},
   "source": [
    "## Problem 5"
   ]
  },
  {
   "cell_type": "markdown",
   "metadata": {},
   "source": [
    "$r_Q = \\frac{\\sum_{i=1}^n(x_{(j)}-\\bar{x})(q_{(j)}-\\bar{q})}{\\sqrt{\\sum_{i=1}^n(x_{(j)}-\\bar{x})^2}\\sqrt{\\sum_{i=1}^n(q_{(j)}-\\bar{q})^2}}$; where $q_{(j)}=\\phi^{-1}\\left(\\frac{j-\\frac{1}{2}}{n}\\right)$"
   ]
  },
  {
   "cell_type": "markdown",
   "metadata": {},
   "source": [
    "### Prepare functions"
   ]
  },
  {
   "cell_type": "code",
   "execution_count": 1,
   "metadata": {},
   "outputs": [],
   "source": [
    "inv_cdf <- function(i,n){\n",
    "    return(qnorm((i-0.5)/n))\n",
    "}"
   ]
  },
  {
   "cell_type": "code",
   "execution_count": 2,
   "metadata": {},
   "outputs": [],
   "source": [
    "sampDiffVec <- function(sample){\n",
    "    return(as.matrix(sort(sample)-mean(sample)))\n",
    "}"
   ]
  },
  {
   "cell_type": "code",
   "execution_count": 3,
   "metadata": {},
   "outputs": [],
   "source": [
    "theoDiffVec <- function(n){\n",
    "    quantiles = rep(0,n)\n",
    "    for (i in c(1:n)){\n",
    "        quantiles[i] = inv_cdf(i,n)\n",
    "    }\n",
    "    return(as.matrix(quantiles-mean(quantiles)))\n",
    "}"
   ]
  },
  {
   "cell_type": "code",
   "execution_count": 4,
   "metadata": {},
   "outputs": [],
   "source": [
    "r_Q <- function(sampDiffVec, theoDiffVec){\n",
    "    return((t(sampDiffVec)%*%theoDiffVec)/(norm(sampDiffVec, type='2')*norm(theoDiffVec, type='2')))\n",
    "}"
   ]
  },
  {
   "cell_type": "markdown",
   "metadata": {},
   "source": [
    "### (5a)"
   ]
  },
  {
   "cell_type": "code",
   "execution_count": 5,
   "metadata": {},
   "outputs": [],
   "source": [
    "rQVec_a <- rep(0,10000)\n",
    "for (i in c(1:10000)){\n",
    "    samp <- runif(10)\n",
    "    rQVec_a[i] <- r_Q(sampDiffVec(samp),theoDiffVec(length(samp)))\n",
    "}"
   ]
  },
  {
   "cell_type": "code",
   "execution_count": 6,
   "metadata": {},
   "outputs": [
    {
     "name": "stdout",
     "output_type": "stream",
     "text": [
      "Part a's rejection rate: 0.056"
     ]
    }
   ],
   "source": [
    "cat(\"Part a's rejection rate:\", length(rQVec_a[rQVec_a<0.9198])/length(rQVec_a))"
   ]
  },
  {
   "cell_type": "markdown",
   "metadata": {},
   "source": [
    "### (5b)"
   ]
  },
  {
   "cell_type": "code",
   "execution_count": 11,
   "metadata": {},
   "outputs": [],
   "source": [
    "rQVec_b <- rep(0,10000)\n",
    "for (i in c(1:10000)){\n",
    "    samp <- rchisq(n=5,df=5)\n",
    "    rQVec_b[i] <- r_Q(sampDiffVec(samp),theoDiffVec(length(samp)))\n",
    "}"
   ]
  },
  {
   "cell_type": "code",
   "execution_count": 12,
   "metadata": {},
   "outputs": [
    {
     "name": "stdout",
     "output_type": "stream",
     "text": [
      "Part b's rejection rate: 0.0847"
     ]
    }
   ],
   "source": [
    "cat(\"Part b's rejection rate:\", length(rQVec_b[rQVec_b<0.8788])/length(rQVec_b))"
   ]
  },
  {
   "cell_type": "markdown",
   "metadata": {},
   "source": [
    "### (5c)"
   ]
  },
  {
   "cell_type": "code",
   "execution_count": 9,
   "metadata": {},
   "outputs": [],
   "source": [
    "rQVec_c <- rep(0,10000)\n",
    "for (i in c(1:10000)){\n",
    "    samp <- rchisq(n=20,df=2)\n",
    "    rQVec_c[i] <- r_Q(sampDiffVec(samp),theoDiffVec(length(samp)))\n",
    "}"
   ]
  },
  {
   "cell_type": "code",
   "execution_count": 10,
   "metadata": {},
   "outputs": [
    {
     "name": "stdout",
     "output_type": "stream",
     "text": [
      "Part c's rejection rate: 0.8067"
     ]
    }
   ],
   "source": [
    "cat(\"Part c's rejection rate:\", length(rQVec_c[rQVec_c<0.9508])/length(rQVec_c))"
   ]
  }
 ],
 "metadata": {
  "kernelspec": {
   "display_name": "R",
   "language": "R",
   "name": "ir"
  },
  "language_info": {
   "codemirror_mode": "r",
   "file_extension": ".r",
   "mimetype": "text/x-r-source",
   "name": "R",
   "pygments_lexer": "r",
   "version": "3.6.1"
  }
 },
 "nbformat": 4,
 "nbformat_minor": 4
}
