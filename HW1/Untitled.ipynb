{
 "cells": [
  {
   "cell_type": "markdown",
   "metadata": {},
   "source": [
    "# Ngoc Ha\n",
    "# ST 557 - HW 1"
   ]
  },
  {
   "cell_type": "code",
   "execution_count": 1,
   "metadata": {},
   "outputs": [],
   "source": [
    "library(readr)"
   ]
  },
  {
   "cell_type": "markdown",
   "metadata": {},
   "source": [
    "## Problem 1"
   ]
  },
  {
   "cell_type": "markdown",
   "metadata": {},
   "source": [
    "### (1a,b)"
   ]
  },
  {
   "cell_type": "code",
   "execution_count": 2,
   "metadata": {},
   "outputs": [
    {
     "data": {
      "text/html": [
       "<table>\n",
       "<thead><tr><th scope=col>X</th><th scope=col>Y</th></tr></thead>\n",
       "<tbody>\n",
       "\t<tr><td>-1.54</td><td> 0.46</td></tr>\n",
       "\t<tr><td>-4.25</td><td>-1.23</td></tr>\n",
       "\t<tr><td>-0.85</td><td> 0.34</td></tr>\n",
       "\t<tr><td>-2.90</td><td>-0.94</td></tr>\n",
       "\t<tr><td>-1.09</td><td>-0.84</td></tr>\n",
       "\t<tr><td>-5.92</td><td>-0.70</td></tr>\n",
       "</tbody>\n",
       "</table>\n"
      ],
      "text/latex": [
       "\\begin{tabular}{r|ll}\n",
       " X & Y\\\\\n",
       "\\hline\n",
       "\t -1.54 &  0.46\\\\\n",
       "\t -4.25 & -1.23\\\\\n",
       "\t -0.85 &  0.34\\\\\n",
       "\t -2.90 & -0.94\\\\\n",
       "\t -1.09 & -0.84\\\\\n",
       "\t -5.92 & -0.70\\\\\n",
       "\\end{tabular}\n"
      ],
      "text/markdown": [
       "\n",
       "| X | Y |\n",
       "|---|---|\n",
       "| -1.54 |  0.46 |\n",
       "| -4.25 | -1.23 |\n",
       "| -0.85 |  0.34 |\n",
       "| -2.90 | -0.94 |\n",
       "| -1.09 | -0.84 |\n",
       "| -5.92 | -0.70 |\n",
       "\n"
      ],
      "text/plain": [
       "  X     Y    \n",
       "1 -1.54  0.46\n",
       "2 -4.25 -1.23\n",
       "3 -0.85  0.34\n",
       "4 -2.90 -0.94\n",
       "5 -1.09 -0.84\n",
       "6 -5.92 -0.70"
      ]
     },
     "metadata": {},
     "output_type": "display_data"
    }
   ],
   "source": [
    "data1 <- read_csv('HW1-1.csv', col_types = cols(\n",
    "  X = col_double(),\n",
    "  Y = col_double()\n",
    "))\n",
    "head(data1)"
   ]
  },
  {
   "cell_type": "code",
   "execution_count": 3,
   "metadata": {},
   "outputs": [],
   "source": [
    "sampMean1 = c(mean(data1$X), mean(data1$Y))"
   ]
  },
  {
   "cell_type": "code",
   "execution_count": 4,
   "metadata": {},
   "outputs": [
    {
     "data": {
      "image/png": "[encoded data removed]",
      "text/plain": [
       "Plot with title \"X vs Y\""
      ]
     },
     "metadata": {},
     "output_type": "display_data"
    }
   ],
   "source": [
    "plot(data1$X, data1$Y, main = 'X vs Y', xlab = 'X', ylab = 'Y')\n",
    "points(sampMean1[1], sampMean1[2], pch = 16, col =2)"
   ]
  },
  {
   "cell_type": "markdown",
   "metadata": {},
   "source": [
    "### (1c) Covariance matrix"
   ]
  },
  {
   "cell_type": "code",
   "execution_count": 5,
   "metadata": {},
   "outputs": [
    {
     "data": {
      "text/html": [
       "<table>\n",
       "<thead><tr><th></th><th scope=col>X</th><th scope=col>Y</th></tr></thead>\n",
       "<tbody>\n",
       "\t<tr><th scope=row>X</th><td>10.140227</td><td>2.852078 </td></tr>\n",
       "\t<tr><th scope=row>Y</th><td> 2.852078</td><td>1.668133 </td></tr>\n",
       "</tbody>\n",
       "</table>\n"
      ],
      "text/latex": [
       "\\begin{tabular}{r|ll}\n",
       "  & X & Y\\\\\n",
       "\\hline\n",
       "\tX & 10.140227 & 2.852078 \\\\\n",
       "\tY &  2.852078 & 1.668133 \\\\\n",
       "\\end{tabular}\n"
      ],
      "text/markdown": [
       "\n",
       "| <!--/--> | X | Y |\n",
       "|---|---|---|\n",
       "| X | 10.140227 | 2.852078  |\n",
       "| Y |  2.852078 | 1.668133  |\n",
       "\n"
      ],
      "text/plain": [
       "  X         Y       \n",
       "X 10.140227 2.852078\n",
       "Y  2.852078 1.668133"
      ]
     },
     "metadata": {},
     "output_type": "display_data"
    }
   ],
   "source": [
    "covar1 <- var(data1)\n",
    "covar1"
   ]
  },
  {
   "cell_type": "markdown",
   "metadata": {},
   "source": [
    "### (1d) Eigendecomposition"
   ]
  },
  {
   "cell_type": "code",
   "execution_count": 6,
   "metadata": {},
   "outputs": [
    {
     "data": {
      "text/plain": [
       "eigen() decomposition\n",
       "$values\n",
       "[1] 11.0108859  0.7974741\n",
       "\n",
       "$vectors\n",
       "           [,1]       [,2]\n",
       "[1,] -0.9564274  0.2919702\n",
       "[2,] -0.2919702 -0.9564274\n"
      ]
     },
     "metadata": {},
     "output_type": "display_data"
    }
   ],
   "source": [
    "eigendecomp1 <- eigen(covar1)\n",
    "eigendecomp1"
   ]
  },
  {
   "cell_type": "markdown",
   "metadata": {},
   "source": [
    "### (1e)"
   ]
  },
  {
   "cell_type": "code",
   "execution_count": 7,
   "metadata": {},
   "outputs": [
    {
     "data": {
      "image/png": "[encoded data removed]",
      "text/plain": [
       "Plot with title \"X vs Y\""
      ]
     },
     "metadata": {},
     "output_type": "display_data"
    }
   ],
   "source": [
    "plot(data1$X, data1$Y, main = 'X vs Y', xlab = 'X', ylab = 'Y')\n",
    "points(sampMean1[1], sampMean1[2], pch = 16, col =2)\n",
    "arrows(sampMean1[1], sampMean1[2], sampMean1[1]+eigendecomp1$vectors[,1][1], sampMean1[2]+eigendecomp1$vectors[,1][2])"
   ]
  },
  {
   "cell_type": "markdown",
   "metadata": {},
   "source": [
    "The eigenvector with the largest eigenvalue is the direction along which the data set has the maximum variance."
   ]
  },
  {
   "cell_type": "markdown",
   "metadata": {},
   "source": [
    "## Problem 2"
   ]
  },
  {
   "cell_type": "markdown",
   "metadata": {},
   "source": [
    "### (2a,b)"
   ]
  },
  {
   "cell_type": "code",
   "execution_count": 8,
   "metadata": {},
   "outputs": [
    {
     "data": {
      "text/html": [
       "<table>\n",
       "<thead><tr><th scope=col>X</th><th scope=col>Y</th></tr></thead>\n",
       "<tbody>\n",
       "\t<tr><td>-1.54</td><td>1.96 </td></tr>\n",
       "\t<tr><td>-4.25</td><td>4.17 </td></tr>\n",
       "\t<tr><td>-0.85</td><td>1.13 </td></tr>\n",
       "\t<tr><td>-2.90</td><td>2.79 </td></tr>\n",
       "\t<tr><td>-1.09</td><td>0.80 </td></tr>\n",
       "\t<tr><td>-5.92</td><td>6.31 </td></tr>\n",
       "</tbody>\n",
       "</table>\n"
      ],
      "text/latex": [
       "\\begin{tabular}{r|ll}\n",
       " X & Y\\\\\n",
       "\\hline\n",
       "\t -1.54 & 1.96 \\\\\n",
       "\t -4.25 & 4.17 \\\\\n",
       "\t -0.85 & 1.13 \\\\\n",
       "\t -2.90 & 2.79 \\\\\n",
       "\t -1.09 & 0.80 \\\\\n",
       "\t -5.92 & 6.31 \\\\\n",
       "\\end{tabular}\n"
      ],
      "text/markdown": [
       "\n",
       "| X | Y |\n",
       "|---|---|\n",
       "| -1.54 | 1.96  |\n",
       "| -4.25 | 4.17  |\n",
       "| -0.85 | 1.13  |\n",
       "| -2.90 | 2.79  |\n",
       "| -1.09 | 0.80  |\n",
       "| -5.92 | 6.31  |\n",
       "\n"
      ],
      "text/plain": [
       "  X     Y   \n",
       "1 -1.54 1.96\n",
       "2 -4.25 4.17\n",
       "3 -0.85 1.13\n",
       "4 -2.90 2.79\n",
       "5 -1.09 0.80\n",
       "6 -5.92 6.31"
      ]
     },
     "metadata": {},
     "output_type": "display_data"
    }
   ],
   "source": [
    "data2 <- read_csv('HW1-2.csv', col_types = cols(\n",
    "  X = col_double(),\n",
    "  Y = col_double()\n",
    "))\n",
    "head(data2)"
   ]
  },
  {
   "cell_type": "code",
   "execution_count": 9,
   "metadata": {},
   "outputs": [],
   "source": [
    "sampMean2 = c(mean(data2$X), mean(data2$Y))"
   ]
  },
  {
   "cell_type": "code",
   "execution_count": 10,
   "metadata": {},
   "outputs": [
    {
     "data": {
      "image/png": "[encoded data removed]",
      "text/plain": [
       "Plot with title \"X vs Y\""
      ]
     },
     "metadata": {},
     "output_type": "display_data"
    }
   ],
   "source": [
    "plot(data2$X, data2$Y, main = 'X vs Y', xlab = 'X', ylab = 'Y')\n",
    "points(sampMean2[1], sampMean2[2], pch = 16, col =2)"
   ]
  },
  {
   "cell_type": "markdown",
   "metadata": {},
   "source": [
    "### (2c) Covariance matrix"
   ]
  },
  {
   "cell_type": "code",
   "execution_count": 11,
   "metadata": {},
   "outputs": [
    {
     "data": {
      "text/html": [
       "<table>\n",
       "<thead><tr><th></th><th scope=col>X</th><th scope=col>Y</th></tr></thead>\n",
       "<tbody>\n",
       "\t<tr><th scope=row>X</th><td>10.140227</td><td>-9.983968</td></tr>\n",
       "\t<tr><th scope=row>Y</th><td>-9.983968</td><td>10.046978</td></tr>\n",
       "</tbody>\n",
       "</table>\n"
      ],
      "text/latex": [
       "\\begin{tabular}{r|ll}\n",
       "  & X & Y\\\\\n",
       "\\hline\n",
       "\tX & 10.140227 & -9.983968\\\\\n",
       "\tY & -9.983968 & 10.046978\\\\\n",
       "\\end{tabular}\n"
      ],
      "text/markdown": [
       "\n",
       "| <!--/--> | X | Y |\n",
       "|---|---|---|\n",
       "| X | 10.140227 | -9.983968 |\n",
       "| Y | -9.983968 | 10.046978 |\n",
       "\n"
      ],
      "text/plain": [
       "  X         Y        \n",
       "X 10.140227 -9.983968\n",
       "Y -9.983968 10.046978"
      ]
     },
     "metadata": {},
     "output_type": "display_data"
    }
   ],
   "source": [
    "covar2 <- var(data2)\n",
    "covar2"
   ]
  },
  {
   "cell_type": "markdown",
   "metadata": {},
   "source": [
    "### (2d) Eigendecomposition"
   ]
  },
  {
   "cell_type": "code",
   "execution_count": 12,
   "metadata": {},
   "outputs": [
    {
     "data": {
      "text/plain": [
       "eigen() decomposition\n",
       "$values\n",
       "[1] 20.0776798  0.1095252\n",
       "\n",
       "$vectors\n",
       "           [,1]       [,2]\n",
       "[1,] -0.7087559 -0.7054538\n",
       "[2,]  0.7054538 -0.7087559\n"
      ]
     },
     "metadata": {},
     "output_type": "display_data"
    }
   ],
   "source": [
    "eigendecomp2 <- eigen(covar2)\n",
    "eigendecomp2"
   ]
  },
  {
   "cell_type": "markdown",
   "metadata": {},
   "source": [
    "### (2e)"
   ]
  },
  {
   "cell_type": "code",
   "execution_count": 13,
   "metadata": {},
   "outputs": [
    {
     "data": {
      "image/png": "[encoded data removed]",
      "text/plain": [
       "Plot with title \"X vs Y\""
      ]
     },
     "metadata": {},
     "output_type": "display_data"
    }
   ],
   "source": [
    "plot(data2$X, data2$Y, main = 'X vs Y', xlab = 'X', ylab = 'Y')\n",
    "points(sampMean2[1], sampMean2[2], pch = 16, col =2)\n",
    "arrows(sampMean2[1], sampMean2[2], sampMean2[1] + eigendecomp2$vectors[,1][1], sampMean2[2] + eigendecomp2$vectors[,1][2])"
   ]
  },
  {
   "cell_type": "markdown",
   "metadata": {},
   "source": [
    "The eigenvector with the largest eigenvalue is the direction along which the data set has the maximum variance."
   ]
  },
  {
   "cell_type": "markdown",
   "metadata": {},
   "source": [
    "## Problem 3"
   ]
  },
  {
   "cell_type": "code",
   "execution_count": 14,
   "metadata": {},
   "outputs": [
    {
     "name": "stdout",
     "output_type": "stream",
     "text": [
      "       [,1]   [,2]   [,3]   [,4] [,5]\n",
      "[1,]  5.125  3.875  2.125 -1.125    0\n",
      "[2,]  3.875  5.125 -1.125  2.125    0\n",
      "[3,]  2.125 -1.125  5.125  3.875    0\n",
      "[4,] -1.125  2.125  3.875  5.125    0\n",
      "[5,]  0.000  0.000  0.000  0.000   -3\n"
     ]
    }
   ],
   "source": [
    "A = cbind(c(5.125, 3.875, 2.125, -1.125, 0.000), c(3.875, 5.125, -1.125, 2.125, 0.000), c(2.125, -1.125, 5.125, 3.875, 0.000), c(-1.125, 2.125, 3.875, 5.125, 0.000), c(0.000, 0.000, 0.000, 0.000, -3.000))\n",
    "print(A)"
   ]
  },
  {
   "cell_type": "markdown",
   "metadata": {},
   "source": [
    "### (a)"
   ]
  },
  {
   "cell_type": "code",
   "execution_count": 15,
   "metadata": {},
   "outputs": [
    {
     "data": {
      "text/plain": [
       "eigen() decomposition\n",
       "$values\n",
       "[1] 10.0  8.0  4.5 -2.0 -3.0\n",
       "\n",
       "$vectors\n",
       "     [,1] [,2] [,3] [,4] [,5]\n",
       "[1,]  0.5 -0.5 -0.5  0.5    0\n",
       "[2,]  0.5 -0.5  0.5 -0.5    0\n",
       "[3,]  0.5  0.5 -0.5 -0.5    0\n",
       "[4,]  0.5  0.5  0.5  0.5    0\n",
       "[5,]  0.0  0.0  0.0  0.0    1\n"
      ]
     },
     "metadata": {},
     "output_type": "display_data"
    }
   ],
   "source": [
    "eigen(A)"
   ]
  },
  {
   "cell_type": "markdown",
   "metadata": {},
   "source": [
    "### (b)"
   ]
  },
  {
   "cell_type": "markdown",
   "metadata": {},
   "source": [
    "A is *not* positive definite.\n",
    "\n",
    "Since $v^TAv = \\lambda v^Tv = \\lambda ||v||$ and $||v|| > 0$, we have:\n",
    "\n",
    "$v^TAv < 0 \\iff \\lambda < 0 \\iff \\lambda \\in \\{-2.0, -3.0\\}$"
   ]
  },
  {
   "cell_type": "code",
   "execution_count": 16,
   "metadata": {},
   "outputs": [
    {
     "data": {
      "text/html": [
       "<table>\n",
       "<tbody>\n",
       "\t<tr><td>-2</td></tr>\n",
       "</tbody>\n",
       "</table>\n"
      ],
      "text/latex": [
       "\\begin{tabular}{l}\n",
       "\t -2\\\\\n",
       "\\end{tabular}\n"
      ],
      "text/markdown": [
       "\n",
       "| -2 |\n",
       "\n"
      ],
      "text/plain": [
       "     [,1]\n",
       "[1,] -2  "
      ]
     },
     "metadata": {},
     "output_type": "display_data"
    }
   ],
   "source": [
    "x <- c(0.5, -0.5, -0.5, 0.5, 0.0) # eigenvector with corresponding eigenvalue -2.0\n",
    "t(x)%*%A%*%x"
   ]
  },
  {
   "cell_type": "markdown",
   "metadata": {},
   "source": [
    "### (c)"
   ]
  },
  {
   "cell_type": "markdown",
   "metadata": {},
   "source": [
    "$x = 4v_1 + 2v_5$, where $v_1$ is the eigenvector corresponding to the largest eigenvalue $\\lambda_1$ of A, and $v_5$ is the eigenvector corresponding to the smallest eigenvalue $\\lambda_5$ of A."
   ]
  },
  {
   "cell_type": "markdown",
   "metadata": {},
   "source": [
    "$Ax = A(4v_1 + 2v_5) = 4Av_1 + 2Av_5 = 4\\lambda_1v_1 + 2\\lambda_5v_5$"
   ]
  },
  {
   "cell_type": "markdown",
   "metadata": {},
   "source": [
    "## Problem 4"
   ]
  },
  {
   "cell_type": "code",
   "execution_count": 17,
   "metadata": {},
   "outputs": [
    {
     "data": {
      "text/html": [
       "<table>\n",
       "<thead><tr><th scope=col>Sepal.Length</th><th scope=col>Sepal.Width</th><th scope=col>Petal.Length</th><th scope=col>Petal.Width</th><th scope=col>Species</th></tr></thead>\n",
       "<tbody>\n",
       "\t<tr><td>5.1</td><td>3.5</td><td>1.4</td><td>0.2</td><td>1  </td></tr>\n",
       "\t<tr><td>4.9</td><td>3.0</td><td>1.4</td><td>0.2</td><td>1  </td></tr>\n",
       "\t<tr><td>4.7</td><td>3.2</td><td>1.3</td><td>0.2</td><td>1  </td></tr>\n",
       "\t<tr><td>4.6</td><td>3.1</td><td>1.5</td><td>0.2</td><td>1  </td></tr>\n",
       "\t<tr><td>5.0</td><td>3.6</td><td>1.4</td><td>0.2</td><td>1  </td></tr>\n",
       "\t<tr><td>5.4</td><td>3.9</td><td>1.7</td><td>0.4</td><td>1  </td></tr>\n",
       "</tbody>\n",
       "</table>\n"
      ],
      "text/latex": [
       "\\begin{tabular}{r|lllll}\n",
       " Sepal.Length & Sepal.Width & Petal.Length & Petal.Width & Species\\\\\n",
       "\\hline\n",
       "\t 5.1 & 3.5 & 1.4 & 0.2 & 1  \\\\\n",
       "\t 4.9 & 3.0 & 1.4 & 0.2 & 1  \\\\\n",
       "\t 4.7 & 3.2 & 1.3 & 0.2 & 1  \\\\\n",
       "\t 4.6 & 3.1 & 1.5 & 0.2 & 1  \\\\\n",
       "\t 5.0 & 3.6 & 1.4 & 0.2 & 1  \\\\\n",
       "\t 5.4 & 3.9 & 1.7 & 0.4 & 1  \\\\\n",
       "\\end{tabular}\n"
      ],
      "text/markdown": [
       "\n",
       "| Sepal.Length | Sepal.Width | Petal.Length | Petal.Width | Species |\n",
       "|---|---|---|---|---|\n",
       "| 5.1 | 3.5 | 1.4 | 0.2 | 1   |\n",
       "| 4.9 | 3.0 | 1.4 | 0.2 | 1   |\n",
       "| 4.7 | 3.2 | 1.3 | 0.2 | 1   |\n",
       "| 4.6 | 3.1 | 1.5 | 0.2 | 1   |\n",
       "| 5.0 | 3.6 | 1.4 | 0.2 | 1   |\n",
       "| 5.4 | 3.9 | 1.7 | 0.4 | 1   |\n",
       "\n"
      ],
      "text/plain": [
       "  Sepal.Length Sepal.Width Petal.Length Petal.Width Species\n",
       "1 5.1          3.5         1.4          0.2         1      \n",
       "2 4.9          3.0         1.4          0.2         1      \n",
       "3 4.7          3.2         1.3          0.2         1      \n",
       "4 4.6          3.1         1.5          0.2         1      \n",
       "5 5.0          3.6         1.4          0.2         1      \n",
       "6 5.4          3.9         1.7          0.4         1      "
      ]
     },
     "metadata": {},
     "output_type": "display_data"
    }
   ],
   "source": [
    "iris = read.csv('IrisData.csv')\n",
    "head(iris)"
   ]
  },
  {
   "cell_type": "markdown",
   "metadata": {},
   "source": [
    "### (4a) sample mean vector"
   ]
  },
  {
   "cell_type": "code",
   "execution_count": 18,
   "metadata": {},
   "outputs": [
    {
     "data": {
      "text/html": [
       "<dl class=dl-horizontal>\n",
       "\t<dt>Sepal.Length</dt>\n",
       "\t\t<dd>5.84333333333333</dd>\n",
       "\t<dt>Sepal.Width</dt>\n",
       "\t\t<dd>3.05733333333333</dd>\n",
       "\t<dt>Petal.Length</dt>\n",
       "\t\t<dd>3.758</dd>\n",
       "\t<dt>Petal.Width</dt>\n",
       "\t\t<dd>1.19933333333333</dd>\n",
       "</dl>\n"
      ],
      "text/latex": [
       "\\begin{description*}\n",
       "\\item[Sepal.Length] 5.84333333333333\n",
       "\\item[Sepal.Width] 3.05733333333333\n",
       "\\item[Petal.Length] 3.758\n",
       "\\item[Petal.Width] 1.19933333333333\n",
       "\\end{description*}\n"
      ],
      "text/markdown": [
       "Sepal.Length\n",
       ":   5.84333333333333Sepal.Width\n",
       ":   3.05733333333333Petal.Length\n",
       ":   3.758Petal.Width\n",
       ":   1.19933333333333\n",
       "\n"
      ],
      "text/plain": [
       "Sepal.Length  Sepal.Width Petal.Length  Petal.Width \n",
       "    5.843333     3.057333     3.758000     1.199333 "
      ]
     },
     "metadata": {},
     "output_type": "display_data"
    }
   ],
   "source": [
    "sapply(iris[,1:4], mean)"
   ]
  },
  {
   "cell_type": "markdown",
   "metadata": {},
   "source": [
    "### (4b) sample mean vector for each vector"
   ]
  },
  {
   "cell_type": "markdown",
   "metadata": {},
   "source": [
    "**Species 1**"
   ]
  },
  {
   "cell_type": "code",
   "execution_count": 19,
   "metadata": {},
   "outputs": [
    {
     "name": "stdout",
     "output_type": "stream",
     "text": [
      "Sepal.Length  Sepal.Width Petal.Length  Petal.Width \n",
      "       5.006        3.428        1.462        0.246 \n"
     ]
    }
   ],
   "source": [
    "meanVec1 <- sapply(iris[iris$Species == 1,1:4], mean)\n",
    "print(meanVec1)"
   ]
  },
  {
   "cell_type": "markdown",
   "metadata": {},
   "source": [
    "**Species 2**"
   ]
  },
  {
   "cell_type": "code",
   "execution_count": 20,
   "metadata": {},
   "outputs": [
    {
     "name": "stdout",
     "output_type": "stream",
     "text": [
      "Sepal.Length  Sepal.Width Petal.Length  Petal.Width \n",
      "       5.936        2.770        4.260        1.326 \n"
     ]
    }
   ],
   "source": [
    "meanVec2 <- sapply(iris[iris$Species == 2,1:4], mean)\n",
    "print(meanVec2)"
   ]
  },
  {
   "cell_type": "markdown",
   "metadata": {},
   "source": [
    "**Species 3**"
   ]
  },
  {
   "cell_type": "code",
   "execution_count": 21,
   "metadata": {},
   "outputs": [
    {
     "name": "stdout",
     "output_type": "stream",
     "text": [
      "Sepal.Length  Sepal.Width Petal.Length  Petal.Width \n",
      "       6.588        2.974        5.552        2.026 \n"
     ]
    }
   ],
   "source": [
    "meanVec3 <- sapply(iris[iris$Species == 3,1:4], mean)\n",
    "print(meanVec3)"
   ]
  },
  {
   "cell_type": "markdown",
   "metadata": {},
   "source": [
    "### (4c) sample correlation matrix"
   ]
  },
  {
   "cell_type": "code",
   "execution_count": 22,
   "metadata": {},
   "outputs": [
    {
     "data": {
      "text/html": [
       "<table>\n",
       "<thead><tr><th></th><th scope=col>Sepal.Length</th><th scope=col>Sepal.Width</th><th scope=col>Petal.Length</th><th scope=col>Petal.Width</th></tr></thead>\n",
       "<tbody>\n",
       "\t<tr><th scope=row>Sepal.Length</th><td> 1.0000000</td><td>-0.1175698</td><td> 0.8717538</td><td> 0.8179411</td></tr>\n",
       "\t<tr><th scope=row>Sepal.Width</th><td>-0.1175698</td><td> 1.0000000</td><td>-0.4284401</td><td>-0.3661259</td></tr>\n",
       "\t<tr><th scope=row>Petal.Length</th><td> 0.8717538</td><td>-0.4284401</td><td> 1.0000000</td><td> 0.9628654</td></tr>\n",
       "\t<tr><th scope=row>Petal.Width</th><td> 0.8179411</td><td>-0.3661259</td><td> 0.9628654</td><td> 1.0000000</td></tr>\n",
       "</tbody>\n",
       "</table>\n"
      ],
      "text/latex": [
       "\\begin{tabular}{r|llll}\n",
       "  & Sepal.Length & Sepal.Width & Petal.Length & Petal.Width\\\\\n",
       "\\hline\n",
       "\tSepal.Length &  1.0000000 & -0.1175698 &  0.8717538 &  0.8179411\\\\\n",
       "\tSepal.Width & -0.1175698 &  1.0000000 & -0.4284401 & -0.3661259\\\\\n",
       "\tPetal.Length &  0.8717538 & -0.4284401 &  1.0000000 &  0.9628654\\\\\n",
       "\tPetal.Width &  0.8179411 & -0.3661259 &  0.9628654 &  1.0000000\\\\\n",
       "\\end{tabular}\n"
      ],
      "text/markdown": [
       "\n",
       "| <!--/--> | Sepal.Length | Sepal.Width | Petal.Length | Petal.Width |\n",
       "|---|---|---|---|---|\n",
       "| Sepal.Length |  1.0000000 | -0.1175698 |  0.8717538 |  0.8179411 |\n",
       "| Sepal.Width | -0.1175698 |  1.0000000 | -0.4284401 | -0.3661259 |\n",
       "| Petal.Length |  0.8717538 | -0.4284401 |  1.0000000 |  0.9628654 |\n",
       "| Petal.Width |  0.8179411 | -0.3661259 |  0.9628654 |  1.0000000 |\n",
       "\n"
      ],
      "text/plain": [
       "             Sepal.Length Sepal.Width Petal.Length Petal.Width\n",
       "Sepal.Length  1.0000000   -0.1175698   0.8717538    0.8179411 \n",
       "Sepal.Width  -0.1175698    1.0000000  -0.4284401   -0.3661259 \n",
       "Petal.Length  0.8717538   -0.4284401   1.0000000    0.9628654 \n",
       "Petal.Width   0.8179411   -0.3661259   0.9628654    1.0000000 "
      ]
     },
     "metadata": {},
     "output_type": "display_data"
    }
   ],
   "source": [
    "cor(iris[,1:4])"
   ]
  },
  {
   "cell_type": "markdown",
   "metadata": {},
   "source": [
    "*Petal Length* and *Petal Width* are most highly correlated."
   ]
  },
  {
   "cell_type": "markdown",
   "metadata": {},
   "source": [
    "### (4d) individual sample correlation matrix"
   ]
  },
  {
   "cell_type": "markdown",
   "metadata": {},
   "source": [
    "**Species 1**"
   ]
  },
  {
   "cell_type": "code",
   "execution_count": 23,
   "metadata": {},
   "outputs": [
    {
     "data": {
      "text/html": [
       "<table>\n",
       "<thead><tr><th></th><th scope=col>Sepal.Length</th><th scope=col>Sepal.Width</th><th scope=col>Petal.Length</th><th scope=col>Petal.Width</th></tr></thead>\n",
       "<tbody>\n",
       "\t<tr><th scope=row>Sepal.Length</th><td>1.0000000</td><td>0.7425467</td><td>0.2671758</td><td>0.2780984</td></tr>\n",
       "\t<tr><th scope=row>Sepal.Width</th><td>0.7425467</td><td>1.0000000</td><td>0.1777000</td><td>0.2327520</td></tr>\n",
       "\t<tr><th scope=row>Petal.Length</th><td>0.2671758</td><td>0.1777000</td><td>1.0000000</td><td>0.3316300</td></tr>\n",
       "\t<tr><th scope=row>Petal.Width</th><td>0.2780984</td><td>0.2327520</td><td>0.3316300</td><td>1.0000000</td></tr>\n",
       "</tbody>\n",
       "</table>\n"
      ],
      "text/latex": [
       "\\begin{tabular}{r|llll}\n",
       "  & Sepal.Length & Sepal.Width & Petal.Length & Petal.Width\\\\\n",
       "\\hline\n",
       "\tSepal.Length & 1.0000000 & 0.7425467 & 0.2671758 & 0.2780984\\\\\n",
       "\tSepal.Width & 0.7425467 & 1.0000000 & 0.1777000 & 0.2327520\\\\\n",
       "\tPetal.Length & 0.2671758 & 0.1777000 & 1.0000000 & 0.3316300\\\\\n",
       "\tPetal.Width & 0.2780984 & 0.2327520 & 0.3316300 & 1.0000000\\\\\n",
       "\\end{tabular}\n"
      ],
      "text/markdown": [
       "\n",
       "| <!--/--> | Sepal.Length | Sepal.Width | Petal.Length | Petal.Width |\n",
       "|---|---|---|---|---|\n",
       "| Sepal.Length | 1.0000000 | 0.7425467 | 0.2671758 | 0.2780984 |\n",
       "| Sepal.Width | 0.7425467 | 1.0000000 | 0.1777000 | 0.2327520 |\n",
       "| Petal.Length | 0.2671758 | 0.1777000 | 1.0000000 | 0.3316300 |\n",
       "| Petal.Width | 0.2780984 | 0.2327520 | 0.3316300 | 1.0000000 |\n",
       "\n"
      ],
      "text/plain": [
       "             Sepal.Length Sepal.Width Petal.Length Petal.Width\n",
       "Sepal.Length 1.0000000    0.7425467   0.2671758    0.2780984  \n",
       "Sepal.Width  0.7425467    1.0000000   0.1777000    0.2327520  \n",
       "Petal.Length 0.2671758    0.1777000   1.0000000    0.3316300  \n",
       "Petal.Width  0.2780984    0.2327520   0.3316300    1.0000000  "
      ]
     },
     "metadata": {},
     "output_type": "display_data"
    }
   ],
   "source": [
    "cor(iris[iris$Species == 1,1:4])"
   ]
  },
  {
   "cell_type": "markdown",
   "metadata": {},
   "source": [
    "**Species 2**"
   ]
  },
  {
   "cell_type": "code",
   "execution_count": 24,
   "metadata": {},
   "outputs": [
    {
     "data": {
      "text/html": [
       "<table>\n",
       "<thead><tr><th></th><th scope=col>Sepal.Length</th><th scope=col>Sepal.Width</th><th scope=col>Petal.Length</th><th scope=col>Petal.Width</th></tr></thead>\n",
       "<tbody>\n",
       "\t<tr><th scope=row>Sepal.Length</th><td>1.0000000</td><td>0.5259107</td><td>0.7540490</td><td>0.5464611</td></tr>\n",
       "\t<tr><th scope=row>Sepal.Width</th><td>0.5259107</td><td>1.0000000</td><td>0.5605221</td><td>0.6639987</td></tr>\n",
       "\t<tr><th scope=row>Petal.Length</th><td>0.7540490</td><td>0.5605221</td><td>1.0000000</td><td>0.7866681</td></tr>\n",
       "\t<tr><th scope=row>Petal.Width</th><td>0.5464611</td><td>0.6639987</td><td>0.7866681</td><td>1.0000000</td></tr>\n",
       "</tbody>\n",
       "</table>\n"
      ],
      "text/latex": [
       "\\begin{tabular}{r|llll}\n",
       "  & Sepal.Length & Sepal.Width & Petal.Length & Petal.Width\\\\\n",
       "\\hline\n",
       "\tSepal.Length & 1.0000000 & 0.5259107 & 0.7540490 & 0.5464611\\\\\n",
       "\tSepal.Width & 0.5259107 & 1.0000000 & 0.5605221 & 0.6639987\\\\\n",
       "\tPetal.Length & 0.7540490 & 0.5605221 & 1.0000000 & 0.7866681\\\\\n",
       "\tPetal.Width & 0.5464611 & 0.6639987 & 0.7866681 & 1.0000000\\\\\n",
       "\\end{tabular}\n"
      ],
      "text/markdown": [
       "\n",
       "| <!--/--> | Sepal.Length | Sepal.Width | Petal.Length | Petal.Width |\n",
       "|---|---|---|---|---|\n",
       "| Sepal.Length | 1.0000000 | 0.5259107 | 0.7540490 | 0.5464611 |\n",
       "| Sepal.Width | 0.5259107 | 1.0000000 | 0.5605221 | 0.6639987 |\n",
       "| Petal.Length | 0.7540490 | 0.5605221 | 1.0000000 | 0.7866681 |\n",
       "| Petal.Width | 0.5464611 | 0.6639987 | 0.7866681 | 1.0000000 |\n",
       "\n"
      ],
      "text/plain": [
       "             Sepal.Length Sepal.Width Petal.Length Petal.Width\n",
       "Sepal.Length 1.0000000    0.5259107   0.7540490    0.5464611  \n",
       "Sepal.Width  0.5259107    1.0000000   0.5605221    0.6639987  \n",
       "Petal.Length 0.7540490    0.5605221   1.0000000    0.7866681  \n",
       "Petal.Width  0.5464611    0.6639987   0.7866681    1.0000000  "
      ]
     },
     "metadata": {},
     "output_type": "display_data"
    }
   ],
   "source": [
    "cor(iris[iris$Species == 2,1:4])"
   ]
  },
  {
   "cell_type": "markdown",
   "metadata": {},
   "source": [
    "**Species 3**"
   ]
  },
  {
   "cell_type": "code",
   "execution_count": 25,
   "metadata": {},
   "outputs": [
    {
     "data": {
      "text/html": [
       "<table>\n",
       "<thead><tr><th></th><th scope=col>Sepal.Length</th><th scope=col>Sepal.Width</th><th scope=col>Petal.Length</th><th scope=col>Petal.Width</th></tr></thead>\n",
       "<tbody>\n",
       "\t<tr><th scope=row>Sepal.Length</th><td>1.0000000</td><td>0.4572278</td><td>0.8642247</td><td>0.2811077</td></tr>\n",
       "\t<tr><th scope=row>Sepal.Width</th><td>0.4572278</td><td>1.0000000</td><td>0.4010446</td><td>0.5377280</td></tr>\n",
       "\t<tr><th scope=row>Petal.Length</th><td>0.8642247</td><td>0.4010446</td><td>1.0000000</td><td>0.3221082</td></tr>\n",
       "\t<tr><th scope=row>Petal.Width</th><td>0.2811077</td><td>0.5377280</td><td>0.3221082</td><td>1.0000000</td></tr>\n",
       "</tbody>\n",
       "</table>\n"
      ],
      "text/latex": [
       "\\begin{tabular}{r|llll}\n",
       "  & Sepal.Length & Sepal.Width & Petal.Length & Petal.Width\\\\\n",
       "\\hline\n",
       "\tSepal.Length & 1.0000000 & 0.4572278 & 0.8642247 & 0.2811077\\\\\n",
       "\tSepal.Width & 0.4572278 & 1.0000000 & 0.4010446 & 0.5377280\\\\\n",
       "\tPetal.Length & 0.8642247 & 0.4010446 & 1.0000000 & 0.3221082\\\\\n",
       "\tPetal.Width & 0.2811077 & 0.5377280 & 0.3221082 & 1.0000000\\\\\n",
       "\\end{tabular}\n"
      ],
      "text/markdown": [
       "\n",
       "| <!--/--> | Sepal.Length | Sepal.Width | Petal.Length | Petal.Width |\n",
       "|---|---|---|---|---|\n",
       "| Sepal.Length | 1.0000000 | 0.4572278 | 0.8642247 | 0.2811077 |\n",
       "| Sepal.Width | 0.4572278 | 1.0000000 | 0.4010446 | 0.5377280 |\n",
       "| Petal.Length | 0.8642247 | 0.4010446 | 1.0000000 | 0.3221082 |\n",
       "| Petal.Width | 0.2811077 | 0.5377280 | 0.3221082 | 1.0000000 |\n",
       "\n"
      ],
      "text/plain": [
       "             Sepal.Length Sepal.Width Petal.Length Petal.Width\n",
       "Sepal.Length 1.0000000    0.4572278   0.8642247    0.2811077  \n",
       "Sepal.Width  0.4572278    1.0000000   0.4010446    0.5377280  \n",
       "Petal.Length 0.8642247    0.4010446   1.0000000    0.3221082  \n",
       "Petal.Width  0.2811077    0.5377280   0.3221082    1.0000000  "
      ]
     },
     "metadata": {},
     "output_type": "display_data"
    }
   ],
   "source": [
    "cor(iris[iris$Species == 3,1:4])"
   ]
  },
  {
   "cell_type": "markdown",
   "metadata": {},
   "source": [
    "*Petal Length* and *Petal Width* are no longer the most highly correlated pair of variables across all species."
   ]
  },
  {
   "cell_type": "markdown",
   "metadata": {},
   "source": [
    "### (4e)"
   ]
  },
  {
   "cell_type": "code",
   "execution_count": 26,
   "metadata": {},
   "outputs": [
    {
     "data": {
      "image/png": "[encoded data removed]",
      "text/plain": [
       "plot without title"
      ]
     },
     "metadata": {},
     "output_type": "display_data"
    }
   ],
   "source": [
    "pairs(iris[,1:4], col = iris$Species)"
   ]
  },
  {
   "cell_type": "markdown",
   "metadata": {},
   "source": [
    "There are distinct groups of flowers.\n",
    "\n",
    "I can completely predict Species 1 just by using Petal width as they have distinctly small petal widths; Species 2 & 3 would be a little more tricky if petal width is around 1.5.\n",
    "\n",
    "I would choose **petal width** and **petal length**, as the groups seem most \"separated\" when plotting with petal width and length."
   ]
  },
  {
   "cell_type": "markdown",
   "metadata": {},
   "source": [
    "## Problem 5"
   ]
  },
  {
   "cell_type": "markdown",
   "metadata": {},
   "source": [
    "Let $A$ be any $n \\times p$ matrix, for arbitrary dimensions n and p, and let $B$ be the product matrix\n",
    "$B = A^TA$"
   ]
  },
  {
   "cell_type": "markdown",
   "metadata": {},
   "source": [
    "### (5a) Show that B is symmetric"
   ]
  },
  {
   "cell_type": "markdown",
   "metadata": {},
   "source": [
    "$B^T = A^T(A^T)^T = A^TA = B \\iff B$ is symmetric"
   ]
  },
  {
   "cell_type": "markdown",
   "metadata": {},
   "source": [
    "### (5b) Show that $B$ is postitive semi-definite: $x^TBx \\geq 0$ $\\forall  x \\in \\mathbb{R}^p$"
   ]
  },
  {
   "cell_type": "markdown",
   "metadata": {},
   "source": [
    "$x^TBx = x^TA^TAx = (Ax)^TAx = ||Ax||^2 >= 0$ $\\forall  x \\in \\mathbb{R}^p$"
   ]
  },
  {
   "cell_type": "markdown",
   "metadata": {},
   "source": [
    "### (5c) $S = \\frac{1}{n-1} (X-\\bar{X})^T(X-\\bar{X})$. Argue that S is positive-definite."
   ]
  },
  {
   "cell_type": "markdown",
   "metadata": {},
   "source": [
    "The sample covariance matrix $S$ has the form $A^TA$ (scaled by a constant factor), so it is positive semi-definite."
   ]
  },
  {
   "cell_type": "code",
   "execution_count": null,
   "metadata": {},
   "outputs": [],
   "source": []
  }
 ],
 "metadata": {
  "kernelspec": {
   "display_name": "R",
   "language": "R",
   "name": "ir"
  },
  "language_info": {
   "codemirror_mode": "r",
   "file_extension": ".r",
   "mimetype": "text/x-r-source",
   "name": "R",
   "pygments_lexer": "r",
   "version": "3.6.1"
  }
 },
 "nbformat": 4,
 "nbformat_minor": 4
}
