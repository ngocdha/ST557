{
 "cells": [
  {
   "cell_type": "markdown",
   "metadata": {},
   "source": [
    "# Ngoc Ha\n",
    "# HW 4 - ST 557"
   ]
  },
  {
   "cell_type": "markdown",
   "metadata": {},
   "source": [
    "## Problem 1"
   ]
  },
  {
   "cell_type": "code",
   "execution_count": 1,
   "metadata": {},
   "outputs": [
    {
     "data": {
      "text/html": [
       "<table>\n",
       "<thead><tr><th scope=col>Subject</th><th scope=col>PRE1</th><th scope=col>PRE2</th><th scope=col>POST1</th><th scope=col>POST2</th></tr></thead>\n",
       "<tbody>\n",
       "\t<tr><td>1 </td><td> 4</td><td> 3</td><td> 5</td><td>4 </td></tr>\n",
       "\t<tr><td>2 </td><td> 6</td><td> 5</td><td> 9</td><td>5 </td></tr>\n",
       "\t<tr><td>3 </td><td> 9</td><td> 4</td><td> 5</td><td>3 </td></tr>\n",
       "\t<tr><td>4 </td><td>12</td><td> 6</td><td> 8</td><td>5 </td></tr>\n",
       "\t<tr><td>5 </td><td>16</td><td> 5</td><td>10</td><td>9 </td></tr>\n",
       "\t<tr><td>6 </td><td>15</td><td>13</td><td> 9</td><td>8 </td></tr>\n",
       "</tbody>\n",
       "</table>\n"
      ],
      "text/latex": [
       "\\begin{tabular}{r|lllll}\n",
       " Subject & PRE1 & PRE2 & POST1 & POST2\\\\\n",
       "\\hline\n",
       "\t 1  &  4 &  3 &  5 & 4 \\\\\n",
       "\t 2  &  6 &  5 &  9 & 5 \\\\\n",
       "\t 3  &  9 &  4 &  5 & 3 \\\\\n",
       "\t 4  & 12 &  6 &  8 & 5 \\\\\n",
       "\t 5  & 16 &  5 & 10 & 9 \\\\\n",
       "\t 6  & 15 & 13 &  9 & 8 \\\\\n",
       "\\end{tabular}\n"
      ],
      "text/markdown": [
       "\n",
       "| Subject | PRE1 | PRE2 | POST1 | POST2 |\n",
       "|---|---|---|---|---|\n",
       "| 1  |  4 |  3 |  5 | 4  |\n",
       "| 2  |  6 |  5 |  9 | 5  |\n",
       "| 3  |  9 |  4 |  5 | 3  |\n",
       "| 4  | 12 |  6 |  8 | 5  |\n",
       "| 5  | 16 |  5 | 10 | 9  |\n",
       "| 6  | 15 | 13 |  9 | 8  |\n",
       "\n"
      ],
      "text/plain": [
       "  Subject PRE1 PRE2 POST1 POST2\n",
       "1 1        4    3    5    4    \n",
       "2 2        6    5    9    5    \n",
       "3 3        9    4    5    3    \n",
       "4 4       12    6    8    5    \n",
       "5 5       16    5   10    9    \n",
       "6 6       15   13    9    8    "
      ]
     },
     "metadata": {},
     "output_type": "display_data"
    }
   ],
   "source": [
    "reading_data <- read.csv('ReadingTest.csv')\n",
    "head(reading_data)"
   ]
  },
  {
   "cell_type": "code",
   "execution_count": 2,
   "metadata": {},
   "outputs": [],
   "source": [
    "pre  <- cbind(reading_data$PRE1,  reading_data$PRE2)\n",
    "post <- cbind(reading_data$POST1, reading_data$POST2)"
   ]
  },
  {
   "cell_type": "code",
   "execution_count": 3,
   "metadata": {},
   "outputs": [
    {
     "name": "stdout",
     "output_type": "stream",
     "text": [
      "Before: 9.787879 5.106061 \n",
      "After:  8.075758 6.712121"
     ]
    }
   ],
   "source": [
    "preMean <- c(mean(pre[,1]),mean(pre[,2]))\n",
    "postMean <- c(mean(post[,1]),mean(post[,2]))\n",
    "cat(\"Before:\", preMean, \"\\n\")\n",
    "cat(\"After: \", postMean)"
   ]
  },
  {
   "cell_type": "markdown",
   "metadata": {},
   "source": [
    "### (1a)\n",
    "\n",
    "Paired test is appropriate to test the hypothesis $H_0: \\mu_1 = \\mu_2$ vs $H_1: \\mu_1 \\neq \\mu_2$, because test scores before and after come from the same sample, under 2 different conditions."
   ]
  },
  {
   "cell_type": "markdown",
   "metadata": {},
   "source": [
    "### (1b)"
   ]
  },
  {
   "cell_type": "code",
   "execution_count": 4,
   "metadata": {},
   "outputs": [],
   "source": [
    "n = length(pre)\n",
    "p = 2\n",
    "alpha = 0.05\n",
    "diff <- pre-post\n",
    "mu1 <- mean(diff[,1])\n",
    "mu2 <- mean(diff[,2])\n",
    "sampDiffMean <- c(mu1,mu2)\n",
    "sampDiffCov  <- var(diff)"
   ]
  },
  {
   "cell_type": "code",
   "execution_count": 5,
   "metadata": {},
   "outputs": [
    {
     "name": "stdout",
     "output_type": "stream",
     "text": [
      "Test statistic: 74.94971 Critical level: 6.178845 \n",
      "Reject Null: TRUE"
     ]
    }
   ],
   "source": [
    "Tstat <- n*t(sampDiffMean)%*%solve(sampDiffCov)%*%sampDiffMean\n",
    "crit <- p*(n-1)/(n-p)*qf(1-alpha,p,n-p)\n",
    "decision = Tstat>crit\n",
    "cat(\"Test statistic:\", Tstat, \"Critical level:\", crit, \"\\n\")\n",
    "cat(\"Reject Null:\", decision)"
   ]
  },
  {
   "cell_type": "markdown",
   "metadata": {},
   "source": [
    "### (1c)"
   ]
  },
  {
   "cell_type": "code",
   "execution_count": 6,
   "metadata": {},
   "outputs": [
    {
     "name": "stdout",
     "output_type": "stream",
     "text": [
      "95% simultaneous Bonferroni confidence intervals:\n",
      "Test 1: 0.8629862 2.561256 Test 2: -2.473941 -0.7381799"
     ]
    }
   ],
   "source": [
    "alpha_Bon = alpha/p\n",
    "test1_bon <- t.test(diff[,1],alternative=c(\"two.sided\"),conf.level=1-alpha_Bon)\n",
    "test2_bon <- t.test(diff[,2],alternative=c(\"two.sided\"),conf.level=1-alpha_Bon)\n",
    "cat(\"95% simultaneous Bonferroni confidence intervals:\\n\")\n",
    "cat(\"Test 1:\", test1_bon$conf, \"Test 2:\", test2_bon$conf)"
   ]
  },
  {
   "cell_type": "markdown",
   "metadata": {},
   "source": [
    "### (1d)"
   ]
  },
  {
   "cell_type": "code",
   "execution_count": 7,
   "metadata": {},
   "outputs": [
    {
     "data": {
      "text/plain": [
       "eigen() decomposition\n",
       "$values\n",
       "[1] 9.765824 8.715528\n",
       "\n",
       "$vectors\n",
       "           [,1]       [,2]\n",
       "[1,] -0.5548990 -0.8319177\n",
       "[2,]  0.8319177 -0.5548990\n"
      ]
     },
     "metadata": {},
     "output_type": "display_data"
    }
   ],
   "source": [
    "eiDec <- eigen(sampDiffCov)\n",
    "eiVec1 <- eiDec$vectors[,1]\n",
    "eiVec2 <- eiDec$vectors[,2]\n",
    "eiVal1 <- eiDec$values[1]\n",
    "eiVal2 <- eiDec$values[2]\n",
    "eiDec"
   ]
  },
  {
   "cell_type": "code",
   "execution_count": 8,
   "metadata": {},
   "outputs": [],
   "source": [
    "scale1 <- sqrt(eiDec$values[1]*p*(n-1)/(n*(n-p))*df(1-alpha, df1=p, df2=n-p))\n",
    "scale2 <- sqrt(eiDec$values[2]*p*(n-1)/(n*(n-p))*df(1-alpha, df1=p, df2=n-p))"
   ]
  },
  {
   "cell_type": "code",
   "execution_count": 9,
   "metadata": {},
   "outputs": [
    {
     "data": {
      "image/png": "[encoded data removed]",
      "text/plain": [
       "plot without title"
      ]
     },
     "metadata": {},
     "output_type": "display_data"
    }
   ],
   "source": [
    "options(repr.plot.width=5, repr.plot.height=5)\n",
    "muTest.1 <- seq(min(diff[,1]), max(diff[,1]), 0.1)\n",
    "muTest.2 <- seq(min(diff[,2]), max(diff[,2]), 0.1)\n",
    "Tstats <- matrix(0, nrow=length(muTest.1), ncol=length(muTest.2))\n",
    "for(i in 1:length(muTest.1)){\n",
    "    for(j in 1:length(muTest.2)){\n",
    "        muTest <- c(muTest.1[i], muTest.2[j])\n",
    "        Tstats[i,j] <- n*t(sampDiffMean - muTest) %*% solve(sampDiffCov) %*% (sampDiffMean - muTest)\n",
    "    }\n",
    "}\n",
    "par(mar=c(4,4,1,1))\n",
    "# Plot the data, and superimpose the confidence ellipsoids\n",
    "# using the contour() function.\n",
    "plot(diff, xlab=\"Test 1\", ylab=\"Test 2\")\n",
    "points(mu1, mu2, pch=16, col=2)\n",
    "contour(muTest.1, muTest.2, Tstats, levels=(n-1)*p/(n-p)*qf(1-alpha, p, n-p), drawlabels=T, add=T, labels=95)"
   ]
  },
  {
   "cell_type": "markdown",
   "metadata": {},
   "source": [
    "## Problem 2"
   ]
  },
  {
   "cell_type": "markdown",
   "metadata": {},
   "source": [
    "### (2a)"
   ]
  },
  {
   "cell_type": "code",
   "execution_count": 10,
   "metadata": {},
   "outputs": [
    {
     "data": {
      "text/html": [
       "<table>\n",
       "<thead><tr><th scope=col>X1950s</th><th scope=col>X1960s</th><th scope=col>X1970s</th><th scope=col>X1980s</th><th scope=col>X1990s</th><th scope=col>X2000s</th></tr></thead>\n",
       "<tbody>\n",
       "\t<tr><td>10.903</td><td>10.999</td><td>11.006</td><td>11.220</td><td>11.661</td><td>11.466</td></tr>\n",
       "\t<tr><td>11.319</td><td>11.405</td><td>11.360</td><td>11.462</td><td>11.980</td><td>11.825</td></tr>\n",
       "\t<tr><td>10.927</td><td>10.873</td><td>10.854</td><td>10.980</td><td>11.330</td><td>11.086</td></tr>\n",
       "\t<tr><td>11.303</td><td>11.271</td><td>11.108</td><td>11.316</td><td>11.869</td><td>11.599</td></tr>\n",
       "\t<tr><td>11.138</td><td>11.239</td><td>11.196</td><td>11.602</td><td>11.945</td><td>11.767</td></tr>\n",
       "\t<tr><td> 9.448</td><td> 9.620</td><td> 9.321</td><td> 9.532</td><td> 9.774</td><td> 9.734</td></tr>\n",
       "</tbody>\n",
       "</table>\n"
      ],
      "text/latex": [
       "\\begin{tabular}{r|llllll}\n",
       " X1950s & X1960s & X1970s & X1980s & X1990s & X2000s\\\\\n",
       "\\hline\n",
       "\t 10.903 & 10.999 & 11.006 & 11.220 & 11.661 & 11.466\\\\\n",
       "\t 11.319 & 11.405 & 11.360 & 11.462 & 11.980 & 11.825\\\\\n",
       "\t 10.927 & 10.873 & 10.854 & 10.980 & 11.330 & 11.086\\\\\n",
       "\t 11.303 & 11.271 & 11.108 & 11.316 & 11.869 & 11.599\\\\\n",
       "\t 11.138 & 11.239 & 11.196 & 11.602 & 11.945 & 11.767\\\\\n",
       "\t  9.448 &  9.620 &  9.321 &  9.532 &  9.774 &  9.734\\\\\n",
       "\\end{tabular}\n"
      ],
      "text/markdown": [
       "\n",
       "| X1950s | X1960s | X1970s | X1980s | X1990s | X2000s |\n",
       "|---|---|---|---|---|---|\n",
       "| 10.903 | 10.999 | 11.006 | 11.220 | 11.661 | 11.466 |\n",
       "| 11.319 | 11.405 | 11.360 | 11.462 | 11.980 | 11.825 |\n",
       "| 10.927 | 10.873 | 10.854 | 10.980 | 11.330 | 11.086 |\n",
       "| 11.303 | 11.271 | 11.108 | 11.316 | 11.869 | 11.599 |\n",
       "| 11.138 | 11.239 | 11.196 | 11.602 | 11.945 | 11.767 |\n",
       "|  9.448 |  9.620 |  9.321 |  9.532 |  9.774 |  9.734 |\n",
       "\n"
      ],
      "text/plain": [
       "  X1950s X1960s X1970s X1980s X1990s X2000s\n",
       "1 10.903 10.999 11.006 11.220 11.661 11.466\n",
       "2 11.319 11.405 11.360 11.462 11.980 11.825\n",
       "3 10.927 10.873 10.854 10.980 11.330 11.086\n",
       "4 11.303 11.271 11.108 11.316 11.869 11.599\n",
       "5 11.138 11.239 11.196 11.602 11.945 11.767\n",
       "6  9.448  9.620  9.321  9.532  9.774  9.734"
      ]
     },
     "metadata": {},
     "output_type": "display_data"
    }
   ],
   "source": [
    "tempData <- read.csv('TempData.csv')\n",
    "head(tempData)"
   ]
  },
  {
   "cell_type": "code",
   "execution_count": 11,
   "metadata": {},
   "outputs": [],
   "source": [
    "n <- dim(tempData)[1]\n",
    "q <- dim(tempData)[2]"
   ]
  },
  {
   "cell_type": "code",
   "execution_count": 12,
   "metadata": {},
   "outputs": [],
   "source": [
    "alpha = 0.05\n",
    "sampMean <- apply(tempData,2,mean)\n",
    "covar <- var(tempData)\n",
    "C <- rbind(c(1, -1, 0, 0, 0, 0), c(1, 0, -1, 0, 0, 0), c(1, 0, 0, -1, 0, 0), c(1, 0, 0, 0, -1, 0), c(1, -1, 0, 0, 0, -1))"
   ]
  },
  {
   "cell_type": "code",
   "execution_count": 13,
   "metadata": {},
   "outputs": [
    {
     "name": "stdout",
     "output_type": "stream",
     "text": [
      "Test statistic: 2612.187 Critical level: 6.178845 \n",
      "Reject Null: TRUE"
     ]
    }
   ],
   "source": [
    "Tstat <- n*t(sampMean)%*%t(C)%*%solve(C%*%covar%*%t(C))%*%C%*%sampMean\n",
    "critLevel <- (q-1)*(n-1)/(n-q+1)*qf(1-alpha, df1=q-1, df2=n-q+1)\n",
    "decision = Tstat>crit\n",
    "cat(\"Test statistic:\", Tstat, \"Critical level:\", crit, \"\\n\")\n",
    "cat(\"Reject Null:\", decision)"
   ]
  },
  {
   "cell_type": "markdown",
   "metadata": {},
   "source": [
    "### (2b)"
   ]
  },
  {
   "cell_type": "code",
   "execution_count": 14,
   "metadata": {},
   "outputs": [
    {
     "name": "stdout",
     "output_type": "stream",
     "text": [
      "Bonferroni simultaneous interval 1: 0.08955848 0.2316415 \n",
      "Bonferroni simultaneous interval 2: -0.07257532 0.1199753 \n",
      "Bonferroni simultaneous interval 3: 0.1652247 0.4388753 \n",
      "Bonferroni simultaneous interval 4: 0.5795466 0.8806534 \n",
      "Bonferroni simultaneous interval 5: 0.4245939 0.7960061 \n"
     ]
    }
   ],
   "source": [
    "alpha_Bon <- alpha/q\n",
    "test1_bon <- t.test(tempData[,2]-tempData[,1],alternative=c(\"two.sided\"),conf.level=1-alpha_Bon)\n",
    "test2_bon <- t.test(tempData[,3]-tempData[,1],alternative=c(\"two.sided\"),conf.level=1-alpha_Bon)\n",
    "test3_bon <- t.test(tempData[,4]-tempData[,1],alternative=c(\"two.sided\"),conf.level=1-alpha_Bon)\n",
    "test4_bon <- t.test(tempData[,5]-tempData[,1],alternative=c(\"two.sided\"),conf.level=1-alpha_Bon)\n",
    "test5_bon <- t.test(tempData[,6]-tempData[,1],alternative=c(\"two.sided\"),conf.level=1-alpha_Bon)\n",
    "cat(\"Bonferroni simultaneous interval 1:\", test1_bon$conf, \"\\n\")\n",
    "cat(\"Bonferroni simultaneous interval 2:\", test2_bon$conf, \"\\n\")\n",
    "cat(\"Bonferroni simultaneous interval 3:\", test3_bon$conf, \"\\n\")\n",
    "cat(\"Bonferroni simultaneous interval 4:\", test4_bon$conf, \"\\n\")\n",
    "cat(\"Bonferroni simultaneous interval 5:\", test5_bon$conf, \"\\n\")"
   ]
  },
  {
   "cell_type": "markdown",
   "metadata": {},
   "source": [
    "95% CI for $H_0: \\mu_3-\\mu_1 = 0$ includes 0. No other CI contains 0.\n",
    "\n",
    "Conclusion: average temperature in Corvallis does not stay constant over the past 60 years."
   ]
  },
  {
   "cell_type": "markdown",
   "metadata": {},
   "source": [
    "## Problem 3"
   ]
  },
  {
   "cell_type": "markdown",
   "metadata": {},
   "source": [
    "### (3a)"
   ]
  },
  {
   "cell_type": "code",
   "execution_count": 15,
   "metadata": {},
   "outputs": [
    {
     "data": {
      "text/html": [
       "<table>\n",
       "<thead><tr><th scope=col>FreeAgent</th><th scope=col>BatAvg</th><th scope=col>OBP</th><th scope=col>Runs</th><th scope=col>Hits</th><th scope=col>Doubles</th><th scope=col>Triples</th><th scope=col>HRs</th><th scope=col>RBI</th><th scope=col>Walks</th><th scope=col>StrikeOuts</th><th scope=col>SB</th><th scope=col>Errors</th></tr></thead>\n",
       "<tbody>\n",
       "\t<tr><td>0    </td><td>0.260</td><td>0.292</td><td>59   </td><td>128  </td><td>22   </td><td>7    </td><td>12   </td><td>50   </td><td>23   </td><td>64   </td><td>21   </td><td>21   </td></tr>\n",
       "\t<tr><td>0    </td><td>0.273</td><td>0.346</td><td>87   </td><td>169  </td><td>28   </td><td>5    </td><td> 8   </td><td>58   </td><td>70   </td><td>53   </td><td> 3   </td><td> 8   </td></tr>\n",
       "\t<tr><td>0    </td><td>0.228</td><td>0.279</td><td>16   </td><td> 38  </td><td> 7   </td><td>2    </td><td> 3   </td><td>21   </td><td>11   </td><td>32   </td><td> 2   </td><td> 3   </td></tr>\n",
       "\t<tr><td>0    </td><td>0.250</td><td>0.327</td><td>40   </td><td> 61  </td><td>11   </td><td>0    </td><td> 1   </td><td>18   </td><td>24   </td><td>26   </td><td>14   </td><td> 2   </td></tr>\n",
       "\t<tr><td>0    </td><td>0.203</td><td>0.240</td><td>39   </td><td> 64  </td><td>10   </td><td>1    </td><td>10   </td><td>33   </td><td>14   </td><td>96   </td><td>13   </td><td> 6   </td></tr>\n",
       "\t<tr><td>0    </td><td>0.262</td><td>0.283</td><td> 7   </td><td> 38  </td><td> 5   </td><td>0    </td><td> 0   </td><td>10   </td><td> 5   </td><td>18   </td><td> 2   </td><td> 7   </td></tr>\n",
       "</tbody>\n",
       "</table>\n"
      ],
      "text/latex": [
       "\\begin{tabular}{r|lllllllllllll}\n",
       " FreeAgent & BatAvg & OBP & Runs & Hits & Doubles & Triples & HRs & RBI & Walks & StrikeOuts & SB & Errors\\\\\n",
       "\\hline\n",
       "\t 0     & 0.260 & 0.292 & 59    & 128   & 22    & 7     & 12    & 50    & 23    & 64    & 21    & 21   \\\\\n",
       "\t 0     & 0.273 & 0.346 & 87    & 169   & 28    & 5     &  8    & 58    & 70    & 53    &  3    &  8   \\\\\n",
       "\t 0     & 0.228 & 0.279 & 16    &  38   &  7    & 2     &  3    & 21    & 11    & 32    &  2    &  3   \\\\\n",
       "\t 0     & 0.250 & 0.327 & 40    &  61   & 11    & 0     &  1    & 18    & 24    & 26    & 14    &  2   \\\\\n",
       "\t 0     & 0.203 & 0.240 & 39    &  64   & 10    & 1     & 10    & 33    & 14    & 96    & 13    &  6   \\\\\n",
       "\t 0     & 0.262 & 0.283 &  7    &  38   &  5    & 0     &  0    & 10    &  5    & 18    &  2    &  7   \\\\\n",
       "\\end{tabular}\n"
      ],
      "text/markdown": [
       "\n",
       "| FreeAgent | BatAvg | OBP | Runs | Hits | Doubles | Triples | HRs | RBI | Walks | StrikeOuts | SB | Errors |\n",
       "|---|---|---|---|---|---|---|---|---|---|---|---|---|\n",
       "| 0     | 0.260 | 0.292 | 59    | 128   | 22    | 7     | 12    | 50    | 23    | 64    | 21    | 21    |\n",
       "| 0     | 0.273 | 0.346 | 87    | 169   | 28    | 5     |  8    | 58    | 70    | 53    |  3    |  8    |\n",
       "| 0     | 0.228 | 0.279 | 16    |  38   |  7    | 2     |  3    | 21    | 11    | 32    |  2    |  3    |\n",
       "| 0     | 0.250 | 0.327 | 40    |  61   | 11    | 0     |  1    | 18    | 24    | 26    | 14    |  2    |\n",
       "| 0     | 0.203 | 0.240 | 39    |  64   | 10    | 1     | 10    | 33    | 14    | 96    | 13    |  6    |\n",
       "| 0     | 0.262 | 0.283 |  7    |  38   |  5    | 0     |  0    | 10    |  5    | 18    |  2    |  7    |\n",
       "\n"
      ],
      "text/plain": [
       "  FreeAgent BatAvg OBP   Runs Hits Doubles Triples HRs RBI Walks StrikeOuts SB\n",
       "1 0         0.260  0.292 59   128  22      7       12  50  23    64         21\n",
       "2 0         0.273  0.346 87   169  28      5        8  58  70    53          3\n",
       "3 0         0.228  0.279 16    38   7      2        3  21  11    32          2\n",
       "4 0         0.250  0.327 40    61  11      0        1  18  24    26         14\n",
       "5 0         0.203  0.240 39    64  10      1       10  33  14    96         13\n",
       "6 0         0.262  0.283  7    38   5      0        0  10   5    18          2\n",
       "  Errors\n",
       "1 21    \n",
       "2  8    \n",
       "3  3    \n",
       "4  2    \n",
       "5  6    \n",
       "6  7    "
      ]
     },
     "metadata": {},
     "output_type": "display_data"
    }
   ],
   "source": [
    "baseball <- read.csv('BaseballData.csv')\n",
    "head(baseball)"
   ]
  },
  {
   "cell_type": "markdown",
   "metadata": {},
   "source": [
    "A paired test is not appropriate because the data comes from different, independent players (i.e. they don't come in pairs). A two-sample test would be more appropriate."
   ]
  },
  {
   "cell_type": "markdown",
   "metadata": {},
   "source": [
    "### (3b)"
   ]
  },
  {
   "cell_type": "code",
   "execution_count": 16,
   "metadata": {},
   "outputs": [],
   "source": [
    "baseball0 <- baseball[baseball$FreeAgent == 0, 2:ncol(baseball)]\n",
    "baseball1 <- baseball[baseball$FreeAgent == 1, 2:ncol(baseball)]"
   ]
  },
  {
   "cell_type": "code",
   "execution_count": 17,
   "metadata": {},
   "outputs": [
    {
     "data": {
      "text/html": [
       "<table>\n",
       "<thead><tr><th></th><th scope=col>BatAvg</th><th scope=col>OBP</th><th scope=col>Runs</th><th scope=col>Hits</th><th scope=col>Doubles</th><th scope=col>Triples</th><th scope=col>HRs</th><th scope=col>RBI</th><th scope=col>Walks</th><th scope=col>StrikeOuts</th><th scope=col>SB</th><th scope=col>Errors</th></tr></thead>\n",
       "<tbody>\n",
       "\t<tr><th scope=row>BatAvg</th><td>0.001681337 </td><td>0.001593887 </td><td>   0.4020978</td><td>   0.871891 </td><td>  0.1622746 </td><td> 0.02232954 </td><td>  0.0648282 </td><td>   0.3790779</td><td>  0.2384808 </td><td>   0.1290740</td><td>  0.07016585</td><td>  0.02735795</td></tr>\n",
       "\t<tr><th scope=row>OBP</th><td>0.001593887 </td><td>0.002272110 </td><td>   0.5567157</td><td>   0.927463 </td><td>  0.1762044 </td><td> 0.02075187 </td><td>  0.1064637 </td><td>   0.4715535</td><td>  0.5593518 </td><td>   0.2703929</td><td>  0.09536063</td><td>  0.02669834</td></tr>\n",
       "\t<tr><th scope=row>Runs</th><td>0.402097766 </td><td>0.556715725 </td><td> 776.7007267</td><td>1361.935327 </td><td>250.7841779 </td><td>44.96768766 </td><td>144.1820221 </td><td> 661.0559186</td><td>530.4561040 </td><td> 676.0398966</td><td>183.06389309</td><td> 80.79898064</td></tr>\n",
       "\t<tr><th scope=row>Hits</th><td>0.871890967 </td><td>0.927463005 </td><td>1361.9353265</td><td>2741.478808 </td><td>494.2825684 </td><td>84.29434717 </td><td>250.0661854 </td><td>1279.4401551</td><td>919.7953470 </td><td>1269.0801102</td><td>301.25805980</td><td>170.89545432</td></tr>\n",
       "\t<tr><th scope=row>Doubles</th><td>0.162274570 </td><td>0.176204409 </td><td> 250.7841779</td><td> 494.282568 </td><td>108.1292982 </td><td>13.12963956 </td><td> 52.9903673 </td><td> 249.4052822</td><td>169.0643077 </td><td> 240.5384822</td><td> 46.87718870</td><td> 29.80110228</td></tr>\n",
       "\t<tr><th scope=row>Triples</th><td>0.022329537 </td><td>0.020751866 </td><td>  44.9676877</td><td>  84.294347 </td><td> 13.1296396 </td><td> 6.78447057 </td><td>  3.3391211 </td><td>  31.4605911</td><td> 23.4000878 </td><td>  37.7119202</td><td> 19.54482271</td><td>  4.40455055</td></tr>\n",
       "\t<tr><th scope=row>HRs</th><td>0.064828196 </td><td>0.106463737 </td><td> 144.1820221</td><td> 250.066185 </td><td> 52.9903673 </td><td> 3.33912110 </td><td> 60.8097352 </td><td> 185.7181388</td><td>113.5597961 </td><td> 190.1970931</td><td> 11.93298542</td><td> 10.14563722</td></tr>\n",
       "\t<tr><th scope=row>RBI</th><td>0.379077867 </td><td>0.471553456 </td><td> 661.0559186</td><td>1279.440155 </td><td>249.4052822 </td><td>31.46059113 </td><td>185.7181388 </td><td> 772.8763596</td><td>485.8329757 </td><td> 723.4059650</td><td>104.29905380</td><td> 67.54306687</td></tr>\n",
       "\t<tr><th scope=row>Walks</th><td>0.238480832 </td><td>0.559351778 </td><td> 530.4561040</td><td> 919.795347 </td><td>169.0643077 </td><td>23.40008779 </td><td>113.5597961 </td><td> 485.8329757</td><td>514.6047895 </td><td> 512.0438229</td><td>106.64224748</td><td> 54.32185534</td></tr>\n",
       "\t<tr><th scope=row>StrikeOuts</th><td>0.129073989 </td><td>0.270392869 </td><td> 676.0398966</td><td>1269.080110 </td><td>240.5384822 </td><td>37.71192021 </td><td>190.1970931 </td><td> 723.4059650</td><td>512.0438229 </td><td>1063.3990148</td><td>144.08852363</td><td> 92.18485100</td></tr>\n",
       "\t<tr><th scope=row>SB</th><td>0.070165854 </td><td>0.095360630 </td><td> 183.0638931</td><td> 301.258060 </td><td> 46.8771887 </td><td>19.54482271 </td><td> 11.9329854 </td><td> 104.2990538</td><td>106.6422475 </td><td> 144.0885236</td><td>129.46627323</td><td> 15.62976150</td></tr>\n",
       "\t<tr><th scope=row>Errors</th><td>0.027357948 </td><td>0.026698337 </td><td>  80.7989806</td><td> 170.895454 </td><td> 29.8011023 </td><td> 4.40455055 </td><td> 10.1456372 </td><td>  67.5430669</td><td> 54.3218553 </td><td>  92.1848510</td><td> 15.62976150</td><td> 38.46666342</td></tr>\n",
       "</tbody>\n",
       "</table>\n"
      ],
      "text/latex": [
       "\\begin{tabular}{r|llllllllllll}\n",
       "  & BatAvg & OBP & Runs & Hits & Doubles & Triples & HRs & RBI & Walks & StrikeOuts & SB & Errors\\\\\n",
       "\\hline\n",
       "\tBatAvg & 0.001681337  & 0.001593887  &    0.4020978 &    0.871891  &   0.1622746  &  0.02232954  &   0.0648282  &    0.3790779 &   0.2384808  &    0.1290740 &   0.07016585 &   0.02735795\\\\\n",
       "\tOBP & 0.001593887  & 0.002272110  &    0.5567157 &    0.927463  &   0.1762044  &  0.02075187  &   0.1064637  &    0.4715535 &   0.5593518  &    0.2703929 &   0.09536063 &   0.02669834\\\\\n",
       "\tRuns & 0.402097766  & 0.556715725  &  776.7007267 & 1361.935327  & 250.7841779  & 44.96768766  & 144.1820221  &  661.0559186 & 530.4561040  &  676.0398966 & 183.06389309 &  80.79898064\\\\\n",
       "\tHits & 0.871890967  & 0.927463005  & 1361.9353265 & 2741.478808  & 494.2825684  & 84.29434717  & 250.0661854  & 1279.4401551 & 919.7953470  & 1269.0801102 & 301.25805980 & 170.89545432\\\\\n",
       "\tDoubles & 0.162274570  & 0.176204409  &  250.7841779 &  494.282568  & 108.1292982  & 13.12963956  &  52.9903673  &  249.4052822 & 169.0643077  &  240.5384822 &  46.87718870 &  29.80110228\\\\\n",
       "\tTriples & 0.022329537  & 0.020751866  &   44.9676877 &   84.294347  &  13.1296396  &  6.78447057  &   3.3391211  &   31.4605911 &  23.4000878  &   37.7119202 &  19.54482271 &   4.40455055\\\\\n",
       "\tHRs & 0.064828196  & 0.106463737  &  144.1820221 &  250.066185  &  52.9903673  &  3.33912110  &  60.8097352  &  185.7181388 & 113.5597961  &  190.1970931 &  11.93298542 &  10.14563722\\\\\n",
       "\tRBI & 0.379077867  & 0.471553456  &  661.0559186 & 1279.440155  & 249.4052822  & 31.46059113  & 185.7181388  &  772.8763596 & 485.8329757  &  723.4059650 & 104.29905380 &  67.54306687\\\\\n",
       "\tWalks & 0.238480832  & 0.559351778  &  530.4561040 &  919.795347  & 169.0643077  & 23.40008779  & 113.5597961  &  485.8329757 & 514.6047895  &  512.0438229 & 106.64224748 &  54.32185534\\\\\n",
       "\tStrikeOuts & 0.129073989  & 0.270392869  &  676.0398966 & 1269.080110  & 240.5384822  & 37.71192021  & 190.1970931  &  723.4059650 & 512.0438229  & 1063.3990148 & 144.08852363 &  92.18485100\\\\\n",
       "\tSB & 0.070165854  & 0.095360630  &  183.0638931 &  301.258060  &  46.8771887  & 19.54482271  &  11.9329854  &  104.2990538 & 106.6422475  &  144.0885236 & 129.46627323 &  15.62976150\\\\\n",
       "\tErrors & 0.027357948  & 0.026698337  &   80.7989806 &  170.895454  &  29.8011023  &  4.40455055  &  10.1456372  &   67.5430669 &  54.3218553  &   92.1848510 &  15.62976150 &  38.46666342\\\\\n",
       "\\end{tabular}\n"
      ],
      "text/markdown": [
       "\n",
       "| <!--/--> | BatAvg | OBP | Runs | Hits | Doubles | Triples | HRs | RBI | Walks | StrikeOuts | SB | Errors |\n",
       "|---|---|---|---|---|---|---|---|---|---|---|---|---|\n",
       "| BatAvg | 0.001681337  | 0.001593887  |    0.4020978 |    0.871891  |   0.1622746  |  0.02232954  |   0.0648282  |    0.3790779 |   0.2384808  |    0.1290740 |   0.07016585 |   0.02735795 |\n",
       "| OBP | 0.001593887  | 0.002272110  |    0.5567157 |    0.927463  |   0.1762044  |  0.02075187  |   0.1064637  |    0.4715535 |   0.5593518  |    0.2703929 |   0.09536063 |   0.02669834 |\n",
       "| Runs | 0.402097766  | 0.556715725  |  776.7007267 | 1361.935327  | 250.7841779  | 44.96768766  | 144.1820221  |  661.0559186 | 530.4561040  |  676.0398966 | 183.06389309 |  80.79898064 |\n",
       "| Hits | 0.871890967  | 0.927463005  | 1361.9353265 | 2741.478808  | 494.2825684  | 84.29434717  | 250.0661854  | 1279.4401551 | 919.7953470  | 1269.0801102 | 301.25805980 | 170.89545432 |\n",
       "| Doubles | 0.162274570  | 0.176204409  |  250.7841779 |  494.282568  | 108.1292982  | 13.12963956  |  52.9903673  |  249.4052822 | 169.0643077  |  240.5384822 |  46.87718870 |  29.80110228 |\n",
       "| Triples | 0.022329537  | 0.020751866  |   44.9676877 |   84.294347  |  13.1296396  |  6.78447057  |   3.3391211  |   31.4605911 |  23.4000878  |   37.7119202 |  19.54482271 |   4.40455055 |\n",
       "| HRs | 0.064828196  | 0.106463737  |  144.1820221 |  250.066185  |  52.9903673  |  3.33912110  |  60.8097352  |  185.7181388 | 113.5597961  |  190.1970931 |  11.93298542 |  10.14563722 |\n",
       "| RBI | 0.379077867  | 0.471553456  |  661.0559186 | 1279.440155  | 249.4052822  | 31.46059113  | 185.7181388  |  772.8763596 | 485.8329757  |  723.4059650 | 104.29905380 |  67.54306687 |\n",
       "| Walks | 0.238480832  | 0.559351778  |  530.4561040 |  919.795347  | 169.0643077  | 23.40008779  | 113.5597961  |  485.8329757 | 514.6047895  |  512.0438229 | 106.64224748 |  54.32185534 |\n",
       "| StrikeOuts | 0.129073989  | 0.270392869  |  676.0398966 | 1269.080110  | 240.5384822  | 37.71192021  | 190.1970931  |  723.4059650 | 512.0438229  | 1063.3990148 | 144.08852363 |  92.18485100 |\n",
       "| SB | 0.070165854  | 0.095360630  |  183.0638931 |  301.258060  |  46.8771887  | 19.54482271  |  11.9329854  |  104.2990538 | 106.6422475  |  144.0885236 | 129.46627323 |  15.62976150 |\n",
       "| Errors | 0.027357948  | 0.026698337  |   80.7989806 |  170.895454  |  29.8011023  |  4.40455055  |  10.1456372  |   67.5430669 |  54.3218553  |   92.1848510 |  15.62976150 |  38.46666342 |\n",
       "\n"
      ],
      "text/plain": [
       "           BatAvg      OBP         Runs         Hits        Doubles    \n",
       "BatAvg     0.001681337 0.001593887    0.4020978    0.871891   0.1622746\n",
       "OBP        0.001593887 0.002272110    0.5567157    0.927463   0.1762044\n",
       "Runs       0.402097766 0.556715725  776.7007267 1361.935327 250.7841779\n",
       "Hits       0.871890967 0.927463005 1361.9353265 2741.478808 494.2825684\n",
       "Doubles    0.162274570 0.176204409  250.7841779  494.282568 108.1292982\n",
       "Triples    0.022329537 0.020751866   44.9676877   84.294347  13.1296396\n",
       "HRs        0.064828196 0.106463737  144.1820221  250.066185  52.9903673\n",
       "RBI        0.379077867 0.471553456  661.0559186 1279.440155 249.4052822\n",
       "Walks      0.238480832 0.559351778  530.4561040  919.795347 169.0643077\n",
       "StrikeOuts 0.129073989 0.270392869  676.0398966 1269.080110 240.5384822\n",
       "SB         0.070165854 0.095360630  183.0638931  301.258060  46.8771887\n",
       "Errors     0.027357948 0.026698337   80.7989806  170.895454  29.8011023\n",
       "           Triples     HRs         RBI          Walks       StrikeOuts  \n",
       "BatAvg      0.02232954   0.0648282    0.3790779   0.2384808    0.1290740\n",
       "OBP         0.02075187   0.1064637    0.4715535   0.5593518    0.2703929\n",
       "Runs       44.96768766 144.1820221  661.0559186 530.4561040  676.0398966\n",
       "Hits       84.29434717 250.0661854 1279.4401551 919.7953470 1269.0801102\n",
       "Doubles    13.12963956  52.9903673  249.4052822 169.0643077  240.5384822\n",
       "Triples     6.78447057   3.3391211   31.4605911  23.4000878   37.7119202\n",
       "HRs         3.33912110  60.8097352  185.7181388 113.5597961  190.1970931\n",
       "RBI        31.46059113 185.7181388  772.8763596 485.8329757  723.4059650\n",
       "Walks      23.40008779 113.5597961  485.8329757 514.6047895  512.0438229\n",
       "StrikeOuts 37.71192021 190.1970931  723.4059650 512.0438229 1063.3990148\n",
       "SB         19.54482271  11.9329854  104.2990538 106.6422475  144.0885236\n",
       "Errors      4.40455055  10.1456372   67.5430669  54.3218553   92.1848510\n",
       "           SB           Errors      \n",
       "BatAvg       0.07016585   0.02735795\n",
       "OBP          0.09536063   0.02669834\n",
       "Runs       183.06389309  80.79898064\n",
       "Hits       301.25805980 170.89545432\n",
       "Doubles     46.87718870  29.80110228\n",
       "Triples     19.54482271   4.40455055\n",
       "HRs         11.93298542  10.14563722\n",
       "RBI        104.29905380  67.54306687\n",
       "Walks      106.64224748  54.32185534\n",
       "StrikeOuts 144.08852363  92.18485100\n",
       "SB         129.46627323  15.62976150\n",
       "Errors      15.62976150  38.46666342"
      ]
     },
     "metadata": {},
     "output_type": "display_data"
    },
    {
     "data": {
      "text/html": [
       "<table>\n",
       "<thead><tr><th></th><th scope=col>BatAvg</th><th scope=col>OBP</th><th scope=col>Runs</th><th scope=col>Hits</th><th scope=col>Doubles</th><th scope=col>Triples</th><th scope=col>HRs</th><th scope=col>RBI</th><th scope=col>Walks</th><th scope=col>StrikeOuts</th><th scope=col>SB</th><th scope=col>Errors</th></tr></thead>\n",
       "<tbody>\n",
       "\t<tr><th scope=row>BatAvg</th><td>0.001384682 </td><td>0.001328429 </td><td>   0.6062737</td><td>   1.222733 </td><td>  0.2119166 </td><td> 0.03226899 </td><td>  0.08333459</td><td>   0.4641271</td><td>  0.2831319 </td><td>1.860021e-02</td><td>  0.1240902 </td><td> 0.04506340 </td></tr>\n",
       "\t<tr><th scope=row>OBP</th><td>0.001328429 </td><td>0.001994757 </td><td>   0.7503599</td><td>   1.101477 </td><td>  0.1869919 </td><td> 0.02553877 </td><td>  0.12579323</td><td>   0.5029809</td><td>  0.7180618 </td><td>2.720562e-01</td><td>  0.1621579 </td><td> 0.02876389 </td></tr>\n",
       "\t<tr><th scope=row>Runs</th><td>0.606273651 </td><td>0.750359948 </td><td> 755.9731231</td><td>1109.447368 </td><td>205.1219280 </td><td>30.81405005 </td><td>183.91353383</td><td> 601.7707328</td><td>510.8568062 </td><td>5.041301e+02</td><td>158.3909774 </td><td>28.07429020 </td></tr>\n",
       "\t<tr><th scope=row>Hits</th><td>1.222733083 </td><td>1.101477444 </td><td>1109.4473684</td><td>2057.424812 </td><td>377.8157895 </td><td>47.71428571 </td><td>261.82330827</td><td>1007.8646617</td><td>622.9172932 </td><td>6.465376e+02</td><td>175.0375940 </td><td>67.23308271 </td></tr>\n",
       "\t<tr><th scope=row>Doubles</th><td>0.211916564 </td><td>0.186991864 </td><td> 205.1219280</td><td> 377.815789 </td><td> 97.8272360 </td><td> 7.14151049 </td><td> 58.89849624</td><td> 211.4084839</td><td>111.4513523 </td><td>1.260599e+02</td><td> 15.3007519 </td><td> 8.35147570 </td></tr>\n",
       "\t<tr><th scope=row>Triples</th><td>0.032268993 </td><td>0.025538772 </td><td>  30.8140501</td><td>  47.714286 </td><td>  7.1415105 </td><td> 5.98069801 </td><td>  1.32330827</td><td>  11.6719785</td><td> 10.2764000 </td><td>1.134811e+01</td><td>  9.7142857 </td><td> 0.88744249 </td></tr>\n",
       "\t<tr><th scope=row>HRs</th><td>0.083334586 </td><td>0.125793233 </td><td> 183.9135338</td><td> 261.823308 </td><td> 58.8984962 </td><td> 1.32330827 </td><td>106.31203008</td><td> 262.9398496</td><td>130.8646617 </td><td>2.523797e+02</td><td> -1.0601504 </td><td> 6.44360902 </td></tr>\n",
       "\t<tr><th scope=row>RBI</th><td>0.464127146 </td><td>0.502980922 </td><td> 601.7707328</td><td>1007.864662 </td><td>211.4084839 </td><td>11.67197845 </td><td>262.93984962</td><td> 824.1815733</td><td>410.1511615 </td><td>6.092866e+02</td><td>  6.8947368 </td><td>29.28279654 </td></tr>\n",
       "\t<tr><th scope=row>Walks</th><td>0.283131859 </td><td>0.718061834 </td><td> 510.8568062</td><td> 622.917293 </td><td>111.4513523 </td><td>10.27639996 </td><td>130.86466165</td><td> 410.1511615</td><td>585.0178431 </td><td>4.690097e+02</td><td> 84.2706767 </td><td> 9.95735608 </td></tr>\n",
       "\t<tr><th scope=row>StrikeOuts</th><td>0.018600213 </td><td>0.272056167 </td><td> 504.1301201</td><td> 646.537594 </td><td>126.0598698 </td><td>11.34810908 </td><td>252.37969925</td><td> 609.2866121</td><td>469.0096510 </td><td>1.129432e+03</td><td> 47.1428571 </td><td>14.56458310 </td></tr>\n",
       "\t<tr><th scope=row>SB</th><td>0.124090226 </td><td>0.162157895 </td><td> 158.3909774</td><td> 175.037594 </td><td> 15.3007519 </td><td> 9.71428571 </td><td> -1.06015038</td><td>   6.8947368</td><td> 84.2706767 </td><td>4.714286e+01</td><td>146.1654135 </td><td> 6.15037594 </td></tr>\n",
       "\t<tr><th scope=row>Errors</th><td>0.045063405 </td><td>0.028763887 </td><td>  28.0742902</td><td>  67.233083 </td><td>  8.3514757 </td><td> 0.88744249 </td><td>  6.44360902</td><td>  29.2827965</td><td>  9.9573561 </td><td>1.456458e+01</td><td>  6.1503759 </td><td>30.31736057 </td></tr>\n",
       "</tbody>\n",
       "</table>\n"
      ],
      "text/latex": [
       "\\begin{tabular}{r|llllllllllll}\n",
       "  & BatAvg & OBP & Runs & Hits & Doubles & Triples & HRs & RBI & Walks & StrikeOuts & SB & Errors\\\\\n",
       "\\hline\n",
       "\tBatAvg & 0.001384682  & 0.001328429  &    0.6062737 &    1.222733  &   0.2119166  &  0.03226899  &   0.08333459 &    0.4641271 &   0.2831319  & 1.860021e-02 &   0.1240902  &  0.04506340 \\\\\n",
       "\tOBP & 0.001328429  & 0.001994757  &    0.7503599 &    1.101477  &   0.1869919  &  0.02553877  &   0.12579323 &    0.5029809 &   0.7180618  & 2.720562e-01 &   0.1621579  &  0.02876389 \\\\\n",
       "\tRuns & 0.606273651  & 0.750359948  &  755.9731231 & 1109.447368  & 205.1219280  & 30.81405005  & 183.91353383 &  601.7707328 & 510.8568062  & 5.041301e+02 & 158.3909774  & 28.07429020 \\\\\n",
       "\tHits & 1.222733083  & 1.101477444  & 1109.4473684 & 2057.424812  & 377.8157895  & 47.71428571  & 261.82330827 & 1007.8646617 & 622.9172932  & 6.465376e+02 & 175.0375940  & 67.23308271 \\\\\n",
       "\tDoubles & 0.211916564  & 0.186991864  &  205.1219280 &  377.815789  &  97.8272360  &  7.14151049  &  58.89849624 &  211.4084839 & 111.4513523  & 1.260599e+02 &  15.3007519  &  8.35147570 \\\\\n",
       "\tTriples & 0.032268993  & 0.025538772  &   30.8140501 &   47.714286  &   7.1415105  &  5.98069801  &   1.32330827 &   11.6719785 &  10.2764000  & 1.134811e+01 &   9.7142857  &  0.88744249 \\\\\n",
       "\tHRs & 0.083334586  & 0.125793233  &  183.9135338 &  261.823308  &  58.8984962  &  1.32330827  & 106.31203008 &  262.9398496 & 130.8646617  & 2.523797e+02 &  -1.0601504  &  6.44360902 \\\\\n",
       "\tRBI & 0.464127146  & 0.502980922  &  601.7707328 & 1007.864662  & 211.4084839  & 11.67197845  & 262.93984962 &  824.1815733 & 410.1511615  & 6.092866e+02 &   6.8947368  & 29.28279654 \\\\\n",
       "\tWalks & 0.283131859  & 0.718061834  &  510.8568062 &  622.917293  & 111.4513523  & 10.27639996  & 130.86466165 &  410.1511615 & 585.0178431  & 4.690097e+02 &  84.2706767  &  9.95735608 \\\\\n",
       "\tStrikeOuts & 0.018600213  & 0.272056167  &  504.1301201 &  646.537594  & 126.0598698  & 11.34810908  & 252.37969925 &  609.2866121 & 469.0096510  & 1.129432e+03 &  47.1428571  & 14.56458310 \\\\\n",
       "\tSB & 0.124090226  & 0.162157895  &  158.3909774 &  175.037594  &  15.3007519  &  9.71428571  &  -1.06015038 &    6.8947368 &  84.2706767  & 4.714286e+01 & 146.1654135  &  6.15037594 \\\\\n",
       "\tErrors & 0.045063405  & 0.028763887  &   28.0742902 &   67.233083  &   8.3514757  &  0.88744249  &   6.44360902 &   29.2827965 &   9.9573561  & 1.456458e+01 &   6.1503759  & 30.31736057 \\\\\n",
       "\\end{tabular}\n"
      ],
      "text/markdown": [
       "\n",
       "| <!--/--> | BatAvg | OBP | Runs | Hits | Doubles | Triples | HRs | RBI | Walks | StrikeOuts | SB | Errors |\n",
       "|---|---|---|---|---|---|---|---|---|---|---|---|---|\n",
       "| BatAvg | 0.001384682  | 0.001328429  |    0.6062737 |    1.222733  |   0.2119166  |  0.03226899  |   0.08333459 |    0.4641271 |   0.2831319  | 1.860021e-02 |   0.1240902  |  0.04506340  |\n",
       "| OBP | 0.001328429  | 0.001994757  |    0.7503599 |    1.101477  |   0.1869919  |  0.02553877  |   0.12579323 |    0.5029809 |   0.7180618  | 2.720562e-01 |   0.1621579  |  0.02876389  |\n",
       "| Runs | 0.606273651  | 0.750359948  |  755.9731231 | 1109.447368  | 205.1219280  | 30.81405005  | 183.91353383 |  601.7707328 | 510.8568062  | 5.041301e+02 | 158.3909774  | 28.07429020  |\n",
       "| Hits | 1.222733083  | 1.101477444  | 1109.4473684 | 2057.424812  | 377.8157895  | 47.71428571  | 261.82330827 | 1007.8646617 | 622.9172932  | 6.465376e+02 | 175.0375940  | 67.23308271  |\n",
       "| Doubles | 0.211916564  | 0.186991864  |  205.1219280 |  377.815789  |  97.8272360  |  7.14151049  |  58.89849624 |  211.4084839 | 111.4513523  | 1.260599e+02 |  15.3007519  |  8.35147570  |\n",
       "| Triples | 0.032268993  | 0.025538772  |   30.8140501 |   47.714286  |   7.1415105  |  5.98069801  |   1.32330827 |   11.6719785 |  10.2764000  | 1.134811e+01 |   9.7142857  |  0.88744249  |\n",
       "| HRs | 0.083334586  | 0.125793233  |  183.9135338 |  261.823308  |  58.8984962  |  1.32330827  | 106.31203008 |  262.9398496 | 130.8646617  | 2.523797e+02 |  -1.0601504  |  6.44360902  |\n",
       "| RBI | 0.464127146  | 0.502980922  |  601.7707328 | 1007.864662  | 211.4084839  | 11.67197845  | 262.93984962 |  824.1815733 | 410.1511615  | 6.092866e+02 |   6.8947368  | 29.28279654  |\n",
       "| Walks | 0.283131859  | 0.718061834  |  510.8568062 |  622.917293  | 111.4513523  | 10.27639996  | 130.86466165 |  410.1511615 | 585.0178431  | 4.690097e+02 |  84.2706767  |  9.95735608  |\n",
       "| StrikeOuts | 0.018600213  | 0.272056167  |  504.1301201 |  646.537594  | 126.0598698  | 11.34810908  | 252.37969925 |  609.2866121 | 469.0096510  | 1.129432e+03 |  47.1428571  | 14.56458310  |\n",
       "| SB | 0.124090226  | 0.162157895  |  158.3909774 |  175.037594  |  15.3007519  |  9.71428571  |  -1.06015038 |    6.8947368 |  84.2706767  | 4.714286e+01 | 146.1654135  |  6.15037594  |\n",
       "| Errors | 0.045063405  | 0.028763887  |   28.0742902 |   67.233083  |   8.3514757  |  0.88744249  |   6.44360902 |   29.2827965 |   9.9573561  | 1.456458e+01 |   6.1503759  | 30.31736057  |\n",
       "\n"
      ],
      "text/plain": [
       "           BatAvg      OBP         Runs         Hits        Doubles    \n",
       "BatAvg     0.001384682 0.001328429    0.6062737    1.222733   0.2119166\n",
       "OBP        0.001328429 0.001994757    0.7503599    1.101477   0.1869919\n",
       "Runs       0.606273651 0.750359948  755.9731231 1109.447368 205.1219280\n",
       "Hits       1.222733083 1.101477444 1109.4473684 2057.424812 377.8157895\n",
       "Doubles    0.211916564 0.186991864  205.1219280  377.815789  97.8272360\n",
       "Triples    0.032268993 0.025538772   30.8140501   47.714286   7.1415105\n",
       "HRs        0.083334586 0.125793233  183.9135338  261.823308  58.8984962\n",
       "RBI        0.464127146 0.502980922  601.7707328 1007.864662 211.4084839\n",
       "Walks      0.283131859 0.718061834  510.8568062  622.917293 111.4513523\n",
       "StrikeOuts 0.018600213 0.272056167  504.1301201  646.537594 126.0598698\n",
       "SB         0.124090226 0.162157895  158.3909774  175.037594  15.3007519\n",
       "Errors     0.045063405 0.028763887   28.0742902   67.233083   8.3514757\n",
       "           Triples     HRs          RBI          Walks       StrikeOuts  \n",
       "BatAvg      0.03226899   0.08333459    0.4641271   0.2831319 1.860021e-02\n",
       "OBP         0.02553877   0.12579323    0.5029809   0.7180618 2.720562e-01\n",
       "Runs       30.81405005 183.91353383  601.7707328 510.8568062 5.041301e+02\n",
       "Hits       47.71428571 261.82330827 1007.8646617 622.9172932 6.465376e+02\n",
       "Doubles     7.14151049  58.89849624  211.4084839 111.4513523 1.260599e+02\n",
       "Triples     5.98069801   1.32330827   11.6719785  10.2764000 1.134811e+01\n",
       "HRs         1.32330827 106.31203008  262.9398496 130.8646617 2.523797e+02\n",
       "RBI        11.67197845 262.93984962  824.1815733 410.1511615 6.092866e+02\n",
       "Walks      10.27639996 130.86466165  410.1511615 585.0178431 4.690097e+02\n",
       "StrikeOuts 11.34810908 252.37969925  609.2866121 469.0096510 1.129432e+03\n",
       "SB          9.71428571  -1.06015038    6.8947368  84.2706767 4.714286e+01\n",
       "Errors      0.88744249   6.44360902   29.2827965   9.9573561 1.456458e+01\n",
       "           SB          Errors     \n",
       "BatAvg       0.1240902  0.04506340\n",
       "OBP          0.1621579  0.02876389\n",
       "Runs       158.3909774 28.07429020\n",
       "Hits       175.0375940 67.23308271\n",
       "Doubles     15.3007519  8.35147570\n",
       "Triples      9.7142857  0.88744249\n",
       "HRs         -1.0601504  6.44360902\n",
       "RBI          6.8947368 29.28279654\n",
       "Walks       84.2706767  9.95735608\n",
       "StrikeOuts  47.1428571 14.56458310\n",
       "SB         146.1654135  6.15037594\n",
       "Errors       6.1503759 30.31736057"
      ]
     },
     "metadata": {},
     "output_type": "display_data"
    }
   ],
   "source": [
    "covar0 <- var(baseball0)\n",
    "covar1 <- var(baseball1)\n",
    "covar0\n",
    "covar1"
   ]
  },
  {
   "cell_type": "code",
   "execution_count": 18,
   "metadata": {},
   "outputs": [
    {
     "data": {
      "text/html": [
       "536625347621.708"
      ],
      "text/latex": [
       "536625347621.708"
      ],
      "text/markdown": [
       "536625347621.708"
      ],
      "text/plain": [
       "[1] 536625347622"
      ]
     },
     "metadata": {},
     "output_type": "display_data"
    },
    {
     "data": {
      "text/html": [
       "1236170570008.94"
      ],
      "text/latex": [
       "1236170570008.94"
      ],
      "text/markdown": [
       "1236170570008.94"
      ],
      "text/plain": [
       "[1] 1.236171e+12"
      ]
     },
     "metadata": {},
     "output_type": "display_data"
    },
    {
     "data": {
      "text/html": [
       "6212.72009254831"
      ],
      "text/latex": [
       "6212.72009254831"
      ],
      "text/markdown": [
       "6212.72009254831"
      ],
      "text/plain": [
       "[1] 6212.72"
      ]
     },
     "metadata": {},
     "output_type": "display_data"
    },
    {
     "data": {
      "text/html": [
       "5738.6350144968"
      ],
      "text/latex": [
       "5738.6350144968"
      ],
      "text/markdown": [
       "5738.6350144968"
      ],
      "text/plain": [
       "[1] 5738.635"
      ]
     },
     "metadata": {},
     "output_type": "display_data"
    }
   ],
   "source": [
    "det(covar0)\n",
    "det(covar1)\n",
    "sum(diag(covar0)) #trace\n",
    "sum(diag(covar1))"
   ]
  },
  {
   "cell_type": "markdown",
   "metadata": {},
   "source": [
    "The covariance matrices do *not* appear to be similar."
   ]
  },
  {
   "cell_type": "markdown",
   "metadata": {},
   "source": [
    "### (3c)"
   ]
  },
  {
   "cell_type": "code",
   "execution_count": 19,
   "metadata": {},
   "outputs": [],
   "source": [
    "p = dim(baseball0)[2]\n",
    "n = dim(baseball)[1]\n",
    "n0 = dim(baseball0)[1]\n",
    "n1 = dim(baseball1)[1]\n",
    "mu0 <- apply(baseball0,2,mean)\n",
    "mu1 <- apply(baseball1,2,mean)\n",
    "covar_pool <- ((n0-1)*covar0 + (n1-1)*covar1)/(n0+n1-2)"
   ]
  },
  {
   "cell_type": "code",
   "execution_count": 20,
   "metadata": {},
   "outputs": [
    {
     "name": "stdout",
     "output_type": "stream",
     "text": [
      "T2 statistic: 82.92731 Critical level: 22.11154 \n",
      "Reject Null: TRUE"
     ]
    }
   ],
   "source": [
    "alpha = 0.05\n",
    "Tstat <- t(mu0-mu1)%*%solve((1/n0+1/n1)*covar_pool)%*%(mu0-mu1)\n",
    "crit_level_c <- p*(n0+n1-2)/(n0+n1-p-1)*qf(1-alpha, p, n0+n1-p-1)\n",
    "reject = Tstat>crit_level_c\n",
    "cat(\"T2 statistic:\", Tstat, \"Critical level:\", crit_level_c, \"\\n\")\n",
    "cat(\"Reject Null:\", reject)"
   ]
  },
  {
   "cell_type": "markdown",
   "metadata": {},
   "source": [
    "### (3d)"
   ]
  },
  {
   "cell_type": "code",
   "execution_count": 21,
   "metadata": {},
   "outputs": [
    {
     "name": "stdout",
     "output_type": "stream",
     "text": [
      "T2 statistic: 85.04061 Critical level: 21.02607 \n",
      "Reject Null: TRUE"
     ]
    }
   ],
   "source": [
    "Tstat <- t(mu0-mu1)%*%solve((1/n0)*covar0+(1/n1)*covar1)%*%(mu0-mu1)\n",
    "crit_level_d <- qchisq(1-alpha,p)\n",
    "reject = Tstat>crit_level_d\n",
    "cat(\"T2 statistic:\", Tstat, \"Critical level:\", crit_level_d, \"\\n\")\n",
    "cat(\"Reject Null:\", reject)"
   ]
  },
  {
   "cell_type": "markdown",
   "metadata": {},
   "source": [
    "The decision did not change."
   ]
  },
  {
   "cell_type": "markdown",
   "metadata": {},
   "source": [
    "### (3e)"
   ]
  },
  {
   "cell_type": "markdown",
   "metadata": {},
   "source": [
    "Not reasonable to always perform both tests for equal and unequal covariance matrices, since that would double the probability of making a type I error."
   ]
  },
  {
   "cell_type": "markdown",
   "metadata": {},
   "source": [
    "### (3f)"
   ]
  },
  {
   "cell_type": "code",
   "execution_count": 22,
   "metadata": {},
   "outputs": [],
   "source": [
    "v = (p+p^2)/((1/n0*(sum(diag((1/n0*covar0%*%solve(1/n0*covar0+1/n1*covar1))^2))+(sum(diag(1/n0*covar0%*%solve(1/n0*covar0+1/n1*covar1))))^2))+(1/n1*(sum(diag((1/n1*covar1%*%solve(1/n0*covar0+1/n1*covar1))^2))+(sum(diag(1/n1*covar1%*%solve(1/n0*covar0+1/n1*covar1))))^2)))"
   ]
  },
  {
   "cell_type": "code",
   "execution_count": 23,
   "metadata": {},
   "outputs": [
    {
     "name": "stdout",
     "output_type": "stream",
     "text": [
      "Critical levels:\n",
      " Equal variance: 22.11154 \n",
      " Unequal variance (large sample): 21.02607 \n",
      " Unequal variance (moderate sample): 22.32848"
     ]
    }
   ],
   "source": [
    "crit_level_f <- (v*p)/(v-p+1)*qf(1-alpha,p,v-p+1)\n",
    "cat(\"Critical levels:\\n\", \"Equal variance:\", crit_level_c, \"\\n Unequal variance (large sample):\", crit_level_d, \"\\n Unequal variance (moderate sample):\", crit_level_f)"
   ]
  },
  {
   "cell_type": "markdown",
   "metadata": {},
   "source": [
    "For this problem, it doesn't matter which critical level is used."
   ]
  },
  {
   "cell_type": "markdown",
   "metadata": {},
   "source": [
    "## Problem 4"
   ]
  },
  {
   "cell_type": "markdown",
   "metadata": {},
   "source": [
    "### (4a)"
   ]
  },
  {
   "cell_type": "code",
   "execution_count": 24,
   "metadata": {},
   "outputs": [
    {
     "data": {
      "text/html": [
       "<table>\n",
       "<thead><tr><th scope=col>Year</th><th scope=col>MB</th><th scope=col>BH</th><th scope=col>BL</th><th scope=col>NH</th></tr></thead>\n",
       "<tbody>\n",
       "\t<tr><td>-4000</td><td>131  </td><td>138  </td><td> 89  </td><td>49   </td></tr>\n",
       "\t<tr><td>-4000</td><td>125  </td><td>131  </td><td> 92  </td><td>48   </td></tr>\n",
       "\t<tr><td>-4000</td><td>131  </td><td>132  </td><td> 99  </td><td>50   </td></tr>\n",
       "\t<tr><td>-4000</td><td>119  </td><td>132  </td><td> 96  </td><td>44   </td></tr>\n",
       "\t<tr><td>-4000</td><td>136  </td><td>143  </td><td>100  </td><td>54   </td></tr>\n",
       "\t<tr><td>-4000</td><td>138  </td><td>137  </td><td> 89  </td><td>56   </td></tr>\n",
       "</tbody>\n",
       "</table>\n"
      ],
      "text/latex": [
       "\\begin{tabular}{r|lllll}\n",
       " Year & MB & BH & BL & NH\\\\\n",
       "\\hline\n",
       "\t -4000 & 131   & 138   &  89   & 49   \\\\\n",
       "\t -4000 & 125   & 131   &  92   & 48   \\\\\n",
       "\t -4000 & 131   & 132   &  99   & 50   \\\\\n",
       "\t -4000 & 119   & 132   &  96   & 44   \\\\\n",
       "\t -4000 & 136   & 143   & 100   & 54   \\\\\n",
       "\t -4000 & 138   & 137   &  89   & 56   \\\\\n",
       "\\end{tabular}\n"
      ],
      "text/markdown": [
       "\n",
       "| Year | MB | BH | BL | NH |\n",
       "|---|---|---|---|---|\n",
       "| -4000 | 131   | 138   |  89   | 49    |\n",
       "| -4000 | 125   | 131   |  92   | 48    |\n",
       "| -4000 | 131   | 132   |  99   | 50    |\n",
       "| -4000 | 119   | 132   |  96   | 44    |\n",
       "| -4000 | 136   | 143   | 100   | 54    |\n",
       "| -4000 | 138   | 137   |  89   | 56    |\n",
       "\n"
      ],
      "text/plain": [
       "  Year  MB  BH  BL  NH\n",
       "1 -4000 131 138  89 49\n",
       "2 -4000 125 131  92 48\n",
       "3 -4000 131 132  99 50\n",
       "4 -4000 119 132  96 44\n",
       "5 -4000 136 143 100 54\n",
       "6 -4000 138 137  89 56"
      ]
     },
     "metadata": {},
     "output_type": "display_data"
    }
   ],
   "source": [
    "skull <- read.csv(\"SkullData.csv\")\n",
    "head(skull)"
   ]
  },
  {
   "cell_type": "code",
   "execution_count": 25,
   "metadata": {},
   "outputs": [],
   "source": [
    "BC4000 <- skull[skull$Year==-4000,2:5]\n",
    "BC3300 <- skull[skull$Year==-3300,2:5]\n",
    "BC1850 <- skull[skull$Year==-1850,2:5]\n",
    "BC200 <- skull[skull$Year==-200,2:5]\n",
    "AD150 <- skull[skull$Year==150,2:5]"
   ]
  },
  {
   "cell_type": "code",
   "execution_count": 26,
   "metadata": {},
   "outputs": [],
   "source": [
    "covar1 <- var(BC4000)\n",
    "covar2 <- var(BC3300)\n",
    "covar3 <- var(BC1850)\n",
    "covar4 <- var(BC200)\n",
    "covar5 <- var(AD150)"
   ]
  },
  {
   "cell_type": "code",
   "execution_count": 27,
   "metadata": {},
   "outputs": [
    {
     "data": {
      "text/html": [
       "96431.2959853298"
      ],
      "text/latex": [
       "96431.2959853298"
      ],
      "text/markdown": [
       "96431.2959853298"
      ],
      "text/plain": [
       "[1] 96431.3"
      ]
     },
     "metadata": {},
     "output_type": "display_data"
    },
    {
     "data": {
      "text/html": [
       "61827.9461650085"
      ],
      "text/latex": [
       "61827.9461650085"
      ],
      "text/markdown": [
       "61827.9461650085"
      ],
      "text/plain": [
       "[1] 61827.95"
      ]
     },
     "metadata": {},
     "output_type": "display_data"
    },
    {
     "data": {
      "text/html": [
       "74729.0725238389"
      ],
      "text/latex": [
       "74729.0725238389"
      ],
      "text/markdown": [
       "74729.0725238389"
      ],
      "text/plain": [
       "[1] 74729.07"
      ]
     },
     "metadata": {},
     "output_type": "display_data"
    },
    {
     "data": {
      "text/html": [
       "35211.6575797549"
      ],
      "text/latex": [
       "35211.6575797549"
      ],
      "text/markdown": [
       "35211.6575797549"
      ],
      "text/plain": [
       "[1] 35211.66"
      ]
     },
     "metadata": {},
     "output_type": "display_data"
    },
    {
     "data": {
      "text/html": [
       "189666.581818259"
      ],
      "text/latex": [
       "189666.581818259"
      ],
      "text/markdown": [
       "189666.581818259"
      ],
      "text/plain": [
       "[1] 189666.6"
      ]
     },
     "metadata": {},
     "output_type": "display_data"
    }
   ],
   "source": [
    "det(covar1)\n",
    "det(covar2)\n",
    "det(covar3)\n",
    "det(covar4)\n",
    "det(covar5)"
   ]
  },
  {
   "cell_type": "markdown",
   "metadata": {},
   "source": [
    "The covariance matrices do not seem to be similar."
   ]
  },
  {
   "cell_type": "markdown",
   "metadata": {},
   "source": [
    "### (4b)"
   ]
  },
  {
   "cell_type": "code",
   "execution_count": 28,
   "metadata": {},
   "outputs": [],
   "source": [
    "p = 4; k = 5; n = dim(skull)[1];\n",
    "n1 = dim(BC4000)[1]; n2 = dim(BC3300)[1]; n3 = dim(BC1850)[1]; n4 = dim(BC200)[1]; n5 = dim(AD150)[1]\n",
    "mu = apply(skull[,2:ncol(skull)],2,mean); mu1 = apply(BC4000[,2:ncol(BC4000)],2,mean);\n",
    "mu2 = apply(BC3300[,2:ncol(BC3300)],2,mean); mu3 = apply(BC1850[,2:ncol(BC1850)],2,mean);\n",
    "mu4 = apply(BC200[,2:ncol(BC200)],2,mean); mu5 = apply(AD150[,2:ncol(AD150)],2,mean);"
   ]
  },
  {
   "cell_type": "code",
   "execution_count": 29,
   "metadata": {},
   "outputs": [
    {
     "name": "stdout",
     "output_type": "stream",
     "text": [
      "Test statistic: 59.25903 \n",
      "Critical level: 26.29623 \n",
      "Reject Null: TRUE"
     ]
    }
   ],
   "source": [
    "alpha = 0.05\n",
    "W = (n1-1)*covar1 + (n2-1)*covar2 + (n3-1)*covar3 + (n4-1)*covar4 + (n5-1)*covar5\n",
    "T = (n-1)*var(skull[2:5])\n",
    "gamma <- det(W)/det(T)\n",
    "tstat <- -(n-1-(p+k)/2)*log(gamma)\n",
    "crit_level <- qchisq(1-0.05,p*(k-1))\n",
    "reject <- tstat > crit_level\n",
    "cat(\"Test statistic:\", tstat, \"\\nCritical level:\", crit_level, \"\\nReject Null:\", reject)"
   ]
  },
  {
   "cell_type": "markdown",
   "metadata": {},
   "source": [
    "Based on the test, we can conclude that skull size changed over this period of time. Therefore, **there is evidence** of interbreeding."
   ]
  },
  {
   "cell_type": "markdown",
   "metadata": {},
   "source": [
    "### (4c)"
   ]
  },
  {
   "cell_type": "code",
   "execution_count": 30,
   "metadata": {},
   "outputs": [
    {
     "data": {
      "text/html": [
       "<table>\n",
       "<tbody>\n",
       "\t<tr><td>3061.067</td><td>502.8267</td><td>3563.893</td></tr>\n",
       "\t<tr><td>3405.267</td><td>229.9067</td><td>3635.173</td></tr>\n",
       "\t<tr><td>3505.967</td><td>803.2933</td><td>4309.260</td></tr>\n",
       "\t<tr><td>1472.133</td><td> 61.2000</td><td>1533.333</td></tr>\n",
       "</tbody>\n",
       "</table>\n"
      ],
      "text/latex": [
       "\\begin{tabular}{lll}\n",
       "\t 3061.067 & 502.8267 & 3563.893\\\\\n",
       "\t 3405.267 & 229.9067 & 3635.173\\\\\n",
       "\t 3505.967 & 803.2933 & 4309.260\\\\\n",
       "\t 1472.133 &  61.2000 & 1533.333\\\\\n",
       "\\end{tabular}\n"
      ],
      "text/markdown": [
       "\n",
       "| 3061.067 | 502.8267 | 3563.893 |\n",
       "| 3405.267 | 229.9067 | 3635.173 |\n",
       "| 3505.967 | 803.2933 | 4309.260 |\n",
       "| 1472.133 |  61.2000 | 1533.333 |\n",
       "\n"
      ],
      "text/plain": [
       "     [,1]     [,2]     [,3]    \n",
       "[1,] 3061.067 502.8267 3563.893\n",
       "[2,] 3405.267 229.9067 3635.173\n",
       "[3,] 3505.967 803.2933 4309.260\n",
       "[4,] 1472.133  61.2000 1533.333"
      ]
     },
     "metadata": {},
     "output_type": "display_data"
    }
   ],
   "source": [
    "alpha_Bon <- alpha/p\n",
    "ssw <- matrix(0, 4, 1)\n",
    "for (i in c(1:4)){\n",
    "    ssw[i] <- (n1-1)*var(BC4000[,i])+(n2-1)*var(BC3300[,i])+(n3-1)*var(BC1850[,i])+(n4-1)*var(BC200[,i])+(n5-1)*var(AD150[,i])\n",
    "}\n",
    "sst <- matrix(0,4,1)\n",
    "for (j in c(1:4)){\n",
    "    sst[j] <- (n-1)*var(skull[,j+1])\n",
    "}\n",
    "ssb <- sst-ssw\n",
    "cbind(ssw,ssb,sst)"
   ]
  },
  {
   "cell_type": "code",
   "execution_count": 31,
   "metadata": {},
   "outputs": [
    {
     "data": {
      "text/html": [
       "<table>\n",
       "<tbody>\n",
       "\t<tr><td> TRUE</td></tr>\n",
       "\t<tr><td>FALSE</td></tr>\n",
       "\t<tr><td> TRUE</td></tr>\n",
       "\t<tr><td>FALSE</td></tr>\n",
       "</tbody>\n",
       "</table>\n"
      ],
      "text/latex": [
       "\\begin{tabular}{l}\n",
       "\t  TRUE\\\\\n",
       "\t FALSE\\\\\n",
       "\t  TRUE\\\\\n",
       "\t FALSE\\\\\n",
       "\\end{tabular}\n"
      ],
      "text/markdown": [
       "\n",
       "|  TRUE |\n",
       "| FALSE |\n",
       "|  TRUE |\n",
       "| FALSE |\n",
       "\n"
      ],
      "text/plain": [
       "     [,1] \n",
       "[1,]  TRUE\n",
       "[2,] FALSE\n",
       "[3,]  TRUE\n",
       "[4,] FALSE"
      ]
     },
     "metadata": {},
     "output_type": "display_data"
    }
   ],
   "source": [
    "Tstats <- (ssb/(k-1))/(ssw/(n-k))\n",
    "crit_level <- qf(1-alpha_Bon,k-1,n-k)\n",
    "reject <- Tstats > crit_level\n",
    "reject"
   ]
  },
  {
   "cell_type": "markdown",
   "metadata": {},
   "source": [
    "The Null is rejected (reject = TRUE) in 2 of the 4 univariate ANOVAs."
   ]
  },
  {
   "cell_type": "markdown",
   "metadata": {},
   "source": [
    "$\\alpha* = \\frac{\\alpha}{p}$\n",
    "\n",
    "Probability of Type I error is:\n",
    "\n",
    "$P_{H_0}(Reject H_0) = P_{H_0}(Reject \\ at \\ least \\ one \\ of \\ H_{0j})\n",
    "\\\\ \\ \\ \\ \\ \\ \\ \\ \\ \\ \\ \\ \\ \\ \\ \\ \\ \\ \\ \\ \\ \\ \\ \\ \\ \\  \\leq \\sum^{p}_{j=1}P_{H_0}(Reject H_{0j})\n",
    "\\\\ \\ \\ \\ \\ \\ \\ \\ \\ \\ \\ \\ \\ \\ \\ \\ \\ \\ \\ \\ \\ \\ \\ \\ \\ \\  = \\sum^p_{j=1}\\frac{\\alpha}{p}\n",
    "\\\\ \\ \\ \\ \\ \\ \\ \\ \\ \\ \\ \\ \\ \\ \\ \\ \\ \\ \\ \\ \\ \\ \\ \\ \\ \\  = \\alpha$\n",
    "\n",
    "Probability of type I error is controlled at level $\\alpha$"
   ]
  },
  {
   "cell_type": "markdown",
   "metadata": {},
   "source": [
    "## Problem 5"
   ]
  },
  {
   "cell_type": "code",
   "execution_count": 32,
   "metadata": {},
   "outputs": [
    {
     "data": {
      "text/html": [
       "<table>\n",
       "<thead><tr><th scope=col>Wind</th><th scope=col>SolarRad</th><th scope=col>NO2</th><th scope=col>O3</th></tr></thead>\n",
       "<tbody>\n",
       "\t<tr><td> 8 </td><td> 98</td><td>12 </td><td> 8 </td></tr>\n",
       "\t<tr><td> 7 </td><td>107</td><td> 9 </td><td> 5 </td></tr>\n",
       "\t<tr><td> 7 </td><td>103</td><td> 5 </td><td> 6 </td></tr>\n",
       "\t<tr><td>10 </td><td> 88</td><td> 8 </td><td>15 </td></tr>\n",
       "\t<tr><td> 6 </td><td> 91</td><td> 8 </td><td>10 </td></tr>\n",
       "\t<tr><td> 8 </td><td> 90</td><td>12 </td><td>12 </td></tr>\n",
       "</tbody>\n",
       "</table>\n"
      ],
      "text/latex": [
       "\\begin{tabular}{llll}\n",
       " Wind & SolarRad & NO2 & O3\\\\\n",
       "\\hline\n",
       "\t  8  &  98 & 12  &  8 \\\\\n",
       "\t  7  & 107 &  9  &  5 \\\\\n",
       "\t  7  & 103 &  5  &  6 \\\\\n",
       "\t 10  &  88 &  8  & 15 \\\\\n",
       "\t  6  &  91 &  8  & 10 \\\\\n",
       "\t  8  &  90 & 12  & 12 \\\\\n",
       "\\end{tabular}\n"
      ],
      "text/markdown": [
       "\n",
       "| Wind | SolarRad | NO2 | O3 |\n",
       "|---|---|---|---|\n",
       "|  8  |  98 | 12  |  8  |\n",
       "|  7  | 107 |  9  |  5  |\n",
       "|  7  | 103 |  5  |  6  |\n",
       "| 10  |  88 |  8  | 15  |\n",
       "|  6  |  91 |  8  | 10  |\n",
       "|  8  |  90 | 12  | 12  |\n",
       "\n"
      ],
      "text/plain": [
       "     Wind SolarRad NO2 O3\n",
       "[1,]  8    98      12   8\n",
       "[2,]  7   107       9   5\n",
       "[3,]  7   103       5   6\n",
       "[4,] 10    88       8  15\n",
       "[5,]  6    91       8  10\n",
       "[6,]  8    90      12  12"
      ]
     },
     "metadata": {},
     "output_type": "display_data"
    }
   ],
   "source": [
    "pollution <- as.matrix(read.csv('PollutionData.csv'))\n",
    "head(pollution)"
   ]
  },
  {
   "cell_type": "markdown",
   "metadata": {},
   "source": [
    "### (5a)"
   ]
  },
  {
   "cell_type": "code",
   "execution_count": 33,
   "metadata": {},
   "outputs": [
    {
     "data": {
      "text/plain": [
       "Response NO2 :\n",
       "\n",
       "Call:\n",
       "lm(formula = NO2 ~ x)\n",
       "\n",
       "Residuals:\n",
       "    Min      1Q  Median      3Q     Max \n",
       "-5.7521 -2.2053 -0.5917  1.6852 10.4623 \n",
       "\n",
       "Coefficients: (1 not defined because of singularities)\n",
       "            Estimate Std. Error t value Pr(>|t|)   \n",
       "(Intercept) 10.11454    3.62607   2.789  0.00813 **\n",
       "x                 NA         NA      NA       NA   \n",
       "xWind       -0.21129    0.33917  -0.623  0.53694   \n",
       "xSolarRad    0.02055    0.03094   0.664  0.51042   \n",
       "---\n",
       "Signif. codes:  0 '***' 0.001 '**' 0.01 '*' 0.05 '.' 0.1 ' ' 1\n",
       "\n",
       "Residual standard error: 3.416 on 39 degrees of freedom\n",
       "Multiple R-squared:  0.02311,\tAdjusted R-squared:  -0.02698 \n",
       "F-statistic: 0.4614 on 2 and 39 DF,  p-value: 0.6338\n",
       "\n",
       "\n",
       "Response O3 :\n",
       "\n",
       "Call:\n",
       "lm(formula = O3 ~ x)\n",
       "\n",
       "Residuals:\n",
       "    Min      1Q  Median      3Q     Max \n",
       "-7.9527 -3.5053 -0.2998  1.4703 14.7123 \n",
       "\n",
       "Coefficients: (1 not defined because of singularities)\n",
       "            Estimate Std. Error t value Pr(>|t|)  \n",
       "(Intercept)  8.27619    5.58044   1.483   0.1461  \n",
       "x                 NA         NA      NA       NA  \n",
       "xWind       -0.78682    0.52198  -1.507   0.1398  \n",
       "xSolarRad    0.09518    0.04761   1.999   0.0526 .\n",
       "---\n",
       "Signif. codes:  0 '***' 0.001 '**' 0.01 '*' 0.05 '.' 0.1 ' ' 1\n",
       "\n",
       "Residual standard error: 5.257 on 39 degrees of freedom\n",
       "Multiple R-squared:  0.1513,\tAdjusted R-squared:  0.1078 \n",
       "F-statistic: 3.476 on 2 and 39 DF,  p-value: 0.04082\n",
       "\n"
      ]
     },
     "metadata": {},
     "output_type": "display_data"
    }
   ],
   "source": [
    "n = nrow(pollution)\n",
    "x <- cbind(1,pollution[,1:2])\n",
    "y <- pollution[,3:4]\n",
    "p <- ncol(x)-1\n",
    "m <- ncol(y)\n",
    "mlr <- lm(y~x)\n",
    "sum <- summary(mlr)\n",
    "sum"
   ]
  },
  {
   "cell_type": "code",
   "execution_count": 34,
   "metadata": {},
   "outputs": [
    {
     "data": {
      "text/html": [
       "<table>\n",
       "<thead><tr><th></th><th scope=col>NO2</th><th scope=col>O3</th></tr></thead>\n",
       "<tbody>\n",
       "\t<tr><th scope=row></th><td>10.115</td><td> 8.276</td></tr>\n",
       "\t<tr><th scope=row>Wind</th><td>-0.211</td><td>-0.787</td></tr>\n",
       "\t<tr><th scope=row>SolarRad</th><td> 0.021</td><td> 0.095</td></tr>\n",
       "</tbody>\n",
       "</table>\n"
      ],
      "text/latex": [
       "\\begin{tabular}{r|ll}\n",
       "  & NO2 & O3\\\\\n",
       "\\hline\n",
       "\t & 10.115 &  8.276\\\\\n",
       "\tWind & -0.211 & -0.787\\\\\n",
       "\tSolarRad &  0.021 &  0.095\\\\\n",
       "\\end{tabular}\n"
      ],
      "text/markdown": [
       "\n",
       "| <!--/--> | NO2 | O3 |\n",
       "|---|---|---|\n",
       "|  | 10.115 |  8.276 |\n",
       "| Wind | -0.211 | -0.787 |\n",
       "| SolarRad |  0.021 |  0.095 |\n",
       "\n"
      ],
      "text/plain": [
       "         NO2    O3    \n",
       "         10.115  8.276\n",
       "Wind     -0.211 -0.787\n",
       "SolarRad  0.021  0.095"
      ]
     },
     "metadata": {},
     "output_type": "display_data"
    }
   ],
   "source": [
    "betaMat <- solve(t(x)%*%x) %*% t(x) %*% y\n",
    "round(betaMat, 3)"
   ]
  },
  {
   "cell_type": "code",
   "execution_count": 35,
   "metadata": {},
   "outputs": [
    {
     "data": {
      "text/html": [
       "<table>\n",
       "<thead><tr><th></th><th scope=col>NO2</th><th scope=col>O3</th></tr></thead>\n",
       "<tbody>\n",
       "\t<tr><th scope=row>NO2</th><td>455.1 </td><td>  82.9</td></tr>\n",
       "\t<tr><th scope=row>O3</th><td> 82.9 </td><td>1078.0</td></tr>\n",
       "</tbody>\n",
       "</table>\n"
      ],
      "text/latex": [
       "\\begin{tabular}{r|ll}\n",
       "  & NO2 & O3\\\\\n",
       "\\hline\n",
       "\tNO2 & 455.1  &   82.9\\\\\n",
       "\tO3 &  82.9  & 1078.0\\\\\n",
       "\\end{tabular}\n"
      ],
      "text/markdown": [
       "\n",
       "| <!--/--> | NO2 | O3 |\n",
       "|---|---|---|\n",
       "| NO2 | 455.1  |   82.9 |\n",
       "| O3 |  82.9  | 1078.0 |\n",
       "\n"
      ],
      "text/plain": [
       "    NO2   O3    \n",
       "NO2 455.1   82.9\n",
       "O3   82.9 1078.0"
      ]
     },
     "metadata": {},
     "output_type": "display_data"
    }
   ],
   "source": [
    "sigHat <- t(y-x%*%betaMat) %*% (y-x%*%betaMat)\n",
    "round(sigHat, 1)"
   ]
  },
  {
   "cell_type": "code",
   "execution_count": 36,
   "metadata": {},
   "outputs": [],
   "source": [
    "x1 <- x[,2]\n",
    "x2 <- x[,3]"
   ]
  },
  {
   "cell_type": "code",
   "execution_count": 37,
   "metadata": {},
   "outputs": [
    {
     "name": "stdout",
     "output_type": "stream",
     "text": [
      "Reject Null: TRUE"
     ]
    }
   ],
   "source": [
    "q <- 1\n",
    "alpha = 0.05\n",
    "betaMat1 <- solve(t(x1)%*%x1) %*% t(x1) %*% y\n",
    "sigHat1 <- t(y-x1%*%betaMat1) %*% (y-x1%*%betaMat1)\n",
    "Lambda1 <- det(sigHat)/det(sigHat1)\n",
    "stat1 <- -(n-p-1-0.5*(m-p+q+1))*log(Lambda1)\n",
    "crit <- qchisq(1-alpha,m*(p-q))\n",
    "reject1 <- stat1 > crit\n",
    "cat(\"Reject Null:\", reject1)"
   ]
  },
  {
   "cell_type": "markdown",
   "metadata": {},
   "source": [
    "Conclusion: $\\beta_2=0$ is not plausible"
   ]
  },
  {
   "cell_type": "markdown",
   "metadata": {},
   "source": [
    "### (5b)"
   ]
  },
  {
   "cell_type": "code",
   "execution_count": 38,
   "metadata": {},
   "outputs": [
    {
     "name": "stdout",
     "output_type": "stream",
     "text": [
      "Reject Null: TRUE"
     ]
    }
   ],
   "source": [
    "q <- 1\n",
    "betaMat2 <- solve(t(x2)%*%x2) %*% t(x2) %*% y\n",
    "sigHat2 <- t(y-x2%*%betaMat2) %*% (y-x2%*%betaMat2)\n",
    "Lambda2 <- det(sigHat)/det(sigHat2)\n",
    "stat2 <- -(n-p-1-0.5*(m-p+q+1))*log(Lambda2)\n",
    "crit <- qchisq(1-alpha,m*(p-q))\n",
    "reject2 <- stat2 > crit\n",
    "cat(\"Reject Null:\", reject1)"
   ]
  },
  {
   "cell_type": "markdown",
   "metadata": {},
   "source": [
    "Conclusion: $\\beta_1=0$ is not plausible"
   ]
  },
  {
   "cell_type": "markdown",
   "metadata": {},
   "source": [
    "### (5c)"
   ]
  },
  {
   "cell_type": "code",
   "execution_count": 39,
   "metadata": {},
   "outputs": [
    {
     "name": "stdout",
     "output_type": "stream",
     "text": [
      "Reject Null: TRUE"
     ]
    }
   ],
   "source": [
    "q <- 2\n",
    "betaMat3 <- lm(y~1)$coef\n",
    "sigHat3 <- t(y-x[,1]%*%betaMat2) %*% (y-x[,1]%*%betaMat2)\n",
    "Lambda3 <- det(sigHat)/det(sigHat3)\n",
    "stat3 <- -(n-p-1-0.5*(m-p+q+1))*log(Lambda3)\n",
    "crit <- qchisq(1-alpha,m*(p-q))\n",
    "reject3 <- stat3 > crit\n",
    "cat(\"Reject Null:\", reject1)"
   ]
  },
  {
   "cell_type": "markdown",
   "metadata": {},
   "source": [
    "Conclusion: $\\beta_1=\\beta_2=0$ is not plausible. This is consistent with (a) and (b)."
   ]
  },
  {
   "cell_type": "code",
   "execution_count": null,
   "metadata": {},
   "outputs": [],
   "source": []
  }
 ],
 "metadata": {
  "kernelspec": {
   "display_name": "R",
   "language": "R",
   "name": "ir"
  },
  "language_info": {
   "codemirror_mode": "r",
   "file_extension": ".r",
   "mimetype": "text/x-r-source",
   "name": "R",
   "pygments_lexer": "r",
   "version": "3.6.1"
  }
 },
 "nbformat": 4,
 "nbformat_minor": 4
}
