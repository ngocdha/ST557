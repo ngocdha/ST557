{
 "cells": [
  {
   "cell_type": "code",
   "execution_count": null,
   "metadata": {},
   "outputs": [],
   "source": []
  },
  {
   "cell_type": "code",
   "execution_count": null,
   "metadata": {},
   "outputs": [],
   "source": [
    "red_raw <- read.csv(\"winequality-red.csv\")\n",
    "white_raw <- read.csv(\"winequality-white.csv\")\n",
    "# Add class labels and merge\n",
    "red_class <- red_raw\n",
    "white_class <- white_raw\n",
    "red_class[\"class\"] = 0\n",
    "white_class[\"class\"] = 1\n",
    "combined_class <- rbind(red_class,white_class)"
   ]
  },
  {
   "cell_type": "markdown",
   "metadata": {},
   "source": [
    "## Goal 1. Distinguish white wine from red wine"
   ]
  },
  {
   "cell_type": "markdown",
   "metadata": {},
   "source": [
    "### (1a) Testing the means"
   ]
  },
  {
   "cell_type": "markdown",
   "metadata": {},
   "source": [
    "#### Standardizating the attributes"
   ]
  },
  {
   "cell_type": "code",
   "execution_count": null,
   "metadata": {},
   "outputs": [],
   "source": [
    "combined_standardized <- combined_class\n",
    "combined_standardized[,1:11] <- scale(combined_class[1:11])\n",
    "head(combined_standardized)"
   ]
  },
  {
   "cell_type": "markdown",
   "metadata": {},
   "source": [
    "#### Comparing mean vectors"
   ]
  },
  {
   "cell_type": "code",
   "execution_count": null,
   "metadata": {},
   "outputs": [],
   "source": [
    "library(Hotelling)"
   ]
  },
  {
   "cell_type": "markdown",
   "metadata": {},
   "source": [
    "#### $H_0: \\mu_{red} = \\mu_{white}$\n",
    "#### $H_A: \\mu_{red} \\neq \\mu_{white}$"
   ]
  },
  {
   "cell_type": "code",
   "execution_count": null,
   "metadata": {},
   "outputs": [],
   "source": [
    "fit <- hotelling.test(combined_standardized[combined_standardized$class == 0,1:11], combined_standardized[combined_standardized$class == 1,1:11])\n",
    "cat(\"Hotelling's P-value:\", fit$pval)\n",
    "cat(\"\\nReject Null:\", fit$pval<0.05)"
   ]
  },
  {
   "cell_type": "markdown",
   "metadata": {},
   "source": [
    "**The mean vectors are different.**"
   ]
  },
  {
   "cell_type": "markdown",
   "metadata": {},
   "source": [
    "#### Attribute with biggest difference"
   ]
  },
  {
   "cell_type": "code",
   "execution_count": null,
   "metadata": {},
   "outputs": [],
   "source": [
    "library(MASS)"
   ]
  },
  {
   "cell_type": "code",
   "execution_count": null,
   "metadata": {},
   "outputs": [],
   "source": [
    "LDA <- lda(combined_standardized[,1:11], grouping = combined_standardized$class)\n",
    "t(LDA$scaling)"
   ]
  },
  {
   "cell_type": "markdown",
   "metadata": {},
   "source": [
    "**Density** has the biggest LDA coefficient <=> biggest difference in mean."
   ]
  },
  {
   "cell_type": "markdown",
   "metadata": {},
   "source": [
    "### (1b) Classification"
   ]
  },
  {
   "cell_type": "markdown",
   "metadata": {},
   "source": [
    "#### Split data into train/CV/test and standardize using train's mean and std"
   ]
  },
  {
   "cell_type": "code",
   "execution_count": null,
   "metadata": {},
   "outputs": [],
   "source": [
    "library(caret)"
   ]
  },
  {
   "cell_type": "code",
   "execution_count": null,
   "metadata": {},
   "outputs": [],
   "source": [
    "set.seed(1995) #randomization`\n",
    "\n",
    "#creating indices\n",
    "trainIndex <- createDataPartition(combined_class$pH,p=0.8,list=FALSE)\n",
    "\n",
    "#splitting data into training/testing data using the trainIndex object\n",
    "trainCombined <- combined_class[trainIndex,1:11] #training data (80% of data)\n",
    "classesTrainCombined <- combined_class[trainIndex,13]\n",
    "\n",
    "test <- combined_class[-trainIndex,1:11] #testing data (20% of data)\n",
    "classesTest <- combined_class[-trainIndex,13]\n",
    "\n",
    "set.seed(5) #randomization`\n",
    "\n",
    "#spliting trainCombined into train and CV for hyperparameter tuning\n",
    "cvIndex <- createDataPartition(trainCombined$pH,p=0.25,list=FALSE)\n",
    "\n",
    "cv <- trainCombined[cvIndex,]\n",
    "classesCV <- classesTrainCombined[cvIndex]\n",
    "\n",
    "train <- trainCombined[-cvIndex,]\n",
    "classesTrain <- classesTrainCombined[-cvIndex]"
   ]
  },
  {
   "cell_type": "code",
   "execution_count": null,
   "metadata": {},
   "outputs": [],
   "source": [
    "sd_train <- apply(train,2,sd)\n",
    "mean_train <- apply(train,2,mean)\n",
    "\n",
    "trainStd <- sweep(sweep(train, 2L, mean_train), 2, sd_train, \"/\")\n",
    "cvStd <- sweep(sweep(cv, 2L, mean_train), 2, sd_train, \"/\")\n",
    "testStd <- sweep(sweep(test, 2L, mean_train), 2, sd_train, \"/\")"
   ]
  },
  {
   "cell_type": "markdown",
   "metadata": {},
   "source": [
    "#### K-nearest neighbor"
   ]
  },
  {
   "cell_type": "code",
   "execution_count": null,
   "metadata": {},
   "outputs": [],
   "source": [
    "library(class)"
   ]
  },
  {
   "cell_type": "code",
   "execution_count": null,
   "metadata": {},
   "outputs": [],
   "source": [
    "kBest <- 1\n",
    "error <- 1.1\n",
    "for (i in 1:20){\n",
    "    predictedCV <- as.numeric(as.character(knn(trainStd, cvStd, cl=classesTrain, k = i)))\n",
    "    if (sum(abs(predictedCV-classesCV))/length(predicted)<error){\n",
    "        error <- sum(abs(predictedCV-classesCV))/length(predicted)\n",
    "        kBest <- i\n",
    "    }\n",
    "}\n",
    "cat(\"Optimal k =\", kBest)"
   ]
  },
  {
   "cell_type": "code",
   "execution_count": null,
   "metadata": {},
   "outputs": [],
   "source": [
    "predictedTest <- as.numeric(as.character(knn(trainStd, testStd, cl=classesTrain, k = 3)))\n",
    "cat(\"Apparent Error Rate:\", sum(abs(predictedTest-classesTest))/length(predictedTest))"
   ]
  },
  {
   "cell_type": "markdown",
   "metadata": {},
   "source": [
    "### (1c) Clustering"
   ]
  },
  {
   "cell_type": "markdown",
   "metadata": {},
   "source": [
    "#### K-means clustering"
   ]
  },
  {
   "cell_type": "code",
   "execution_count": null,
   "metadata": {},
   "outputs": [],
   "source": [
    "library(stats)"
   ]
  },
  {
   "cell_type": "code",
   "execution_count": null,
   "metadata": {},
   "outputs": [],
   "source": [
    "clusters <- kmeans(combined_standardized[,1:11],2)"
   ]
  },
  {
   "cell_type": "code",
   "execution_count": null,
   "metadata": {},
   "outputs": [],
   "source": [
    "# Gini Impurity for cluster 1\n",
    "classesC1 <- combined_standardized$class[clusters$cluster == 1]\n",
    "gini1 <- 1 - (sum(classesC1==0)/length(classesC1))^2 - (1-(sum(classesC1==0)/length(classesC1)))^2\n",
    "classesC2 <- combined_standardized$class[clusters$cluster == 2]\n",
    "gini2 <- 1 - (sum(classesC2==0)/length(classesC2))^2 - (1-(sum(classesC2==0)/length(classesC2)))^2"
   ]
  },
  {
   "cell_type": "code",
   "execution_count": null,
   "metadata": {},
   "outputs": [],
   "source": [
    "cat(\"Gini Impurity for Cluster 1:\", gini1)\n",
    "cat(\"\\nGini Impurity for Cluster 2:\", gini2)"
   ]
  },
  {
   "cell_type": "markdown",
   "metadata": {},
   "source": [
    "## Goal 2. Which variable  is most important to wine quality"
   ]
  },
  {
   "cell_type": "markdown",
   "metadata": {},
   "source": [
    "### (2a) MANOVA"
   ]
  },
  {
   "cell_type": "code",
   "execution_count": null,
   "metadata": {},
   "outputs": [],
   "source": [
    "redStd <- red_raw\n",
    "redStd[,1:11] <- scale(red_raw[,1:11])"
   ]
  },
  {
   "cell_type": "markdown",
   "metadata": {},
   "source": [
    "#### $H_0: \\mu_{low} = \\mu_{med} = \\mu_{high}$\n",
    "#### $H_A: \\mu_{low} \\neq \\mu_{med} \\neq \\mu_{high}$"
   ]
  },
  {
   "cell_type": "code",
   "execution_count": null,
   "metadata": {},
   "outputs": [],
   "source": [
    "maov <- summary(manova(cbind(fixed.acidity,volatile.acidity,citric.acid,residual.sugar,chlorides,free.sulfur.dioxide,total.sulfur.dioxide,density,pH,sulphates,alcohol)~as.factor(quality), data=redStd))\n",
    "maov"
   ]
  },
  {
   "cell_type": "markdown",
   "metadata": {},
   "source": [
    "**Reject the Null.**"
   ]
  },
  {
   "cell_type": "markdown",
   "metadata": {},
   "source": [
    "### (2b) Regression"
   ]
  },
  {
   "cell_type": "code",
   "execution_count": null,
   "metadata": {},
   "outputs": [],
   "source": [
    "set.seed(1995) #randomization`\n",
    "\n",
    "#creating indices\n",
    "trainIndex <- createDataPartition(red_raw$pH,p=0.8,list=FALSE)\n",
    "\n",
    "#splitting data into training/testing data using the trainIndex object\n",
    "redTrain <- red_raw[trainIndex,1:12] #training data (80% of data)\n",
    "\n",
    "redTest <- red_raw[-trainIndex,1:12] #testing data (20% of data)"
   ]
  },
  {
   "cell_type": "code",
   "execution_count": null,
   "metadata": {},
   "outputs": [],
   "source": [
    "redTrainQuality <- redTrain$quality\n",
    "redTestQuality <- redTest$quality\n",
    "sdRedTrain <- apply(redTrain[,1:11],2,sd)\n",
    "meanRedTrain <- apply(redTrain[,1:11],2,mean)\n",
    "\n",
    "redTrainStd <- sweep(sweep(redTrain[,1:11], 2L, meanRedTrain), 2, sdRedTrain, \"/\")\n",
    "redTestStd <- sweep(sweep(redTest[,1:11], 2L, meanRedTrain), 2, sdRedTrain, \"/\")\n",
    "\n",
    "redTrainStd['quality'] <- redTrainQuality\n",
    "redTestStd['quality'] <- redTestQuality"
   ]
  },
  {
   "cell_type": "markdown",
   "metadata": {},
   "source": [
    "#### Multiple Linear Regression"
   ]
  },
  {
   "cell_type": "code",
   "execution_count": null,
   "metadata": {},
   "outputs": [],
   "source": [
    "fitLM <- lm(quality~fixed.acidity+volatile.acidity+citric.acid+residual.sugar+chlorides+free.sulfur.dioxide+total.sulfur.dioxide+density+pH+sulphates+alcohol,data=redTrainStd)\n",
    "fitLM$coef"
   ]
  },
  {
   "cell_type": "code",
   "execution_count": null,
   "metadata": {},
   "outputs": [],
   "source": [
    "pred <- predict(fitLM,redTestStd[,1:11])\n",
    "sum((pred-redTestStd$quality)^2)/length(pred)"
   ]
  },
  {
   "cell_type": "markdown",
   "metadata": {},
   "source": [
    "#### Random Forests"
   ]
  },
  {
   "cell_type": "code",
   "execution_count": null,
   "metadata": {},
   "outputs": [],
   "source": [
    "library(randomForest)"
   ]
  },
  {
   "cell_type": "code",
   "execution_count": null,
   "metadata": {},
   "outputs": [],
   "source": [
    "fitRF <- randomForest(quality~.,data=redTrainStd)"
   ]
  },
  {
   "cell_type": "code",
   "execution_count": null,
   "metadata": {},
   "outputs": [],
   "source": [
    "pred <- predict(fitRF,redTestStd[,1:11])\n",
    "sum((pred-redTestStd$quality)^2)/length(pred)"
   ]
  },
  {
   "cell_type": "markdown",
   "metadata": {},
   "source": [
    "### (2c) Regression on PCA"
   ]
  },
  {
   "cell_type": "code",
   "execution_count": null,
   "metadata": {},
   "outputs": [],
   "source": [
    "loadings <- prcomp(redTrainStd[,1:11])$rotation[,1:2]"
   ]
  },
  {
   "cell_type": "code",
   "execution_count": null,
   "metadata": {},
   "outputs": [],
   "source": [
    "PCA_train <- as.data.frame(as.matrix(redTrainStd[,1:11])%*%loadings)\n",
    "PCA_train['quality'] <- redTrainStd$quality\n",
    "PCA_test <- as.data.frame(as.matrix(redTestStd[,1:11])%*%loadings)\n",
    "PCA_test['quality'] <- redTestStd$quality"
   ]
  },
  {
   "cell_type": "code",
   "execution_count": null,
   "metadata": {},
   "outputs": [],
   "source": [
    "fitRFPCA <- randomForest(quality~.,data=PCA_train)"
   ]
  },
  {
   "cell_type": "code",
   "execution_count": null,
   "metadata": {},
   "outputs": [],
   "source": [
    "predPCA <- predict(fitRFPCA,PCA_test[,1:2])\n",
    "sum((predPCA-PCA_test$quality)^2)/length(predPCA)"
   ]
  },
  {
   "cell_type": "code",
   "execution_count": null,
   "metadata": {},
   "outputs": [],
   "source": []
  }
 ],
 "metadata": {
  "kernelspec": {
   "display_name": "R",
   "language": "R",
   "name": "ir"
  },
  "language_info": {
   "codemirror_mode": "r",
   "file_extension": ".r",
   "mimetype": "text/x-r-source",
   "name": "R",
   "pygments_lexer": "r",
   "version": "3.6.1"
  }
 },
 "nbformat": 4,
 "nbformat_minor": 4
}
