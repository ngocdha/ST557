{
 "cells": [
  {
   "cell_type": "markdown",
   "metadata": {},
   "source": [
    "# Ngoc Ha\n",
    "# ST 557 - HW 5"
   ]
  },
  {
   "cell_type": "markdown",
   "metadata": {},
   "source": [
    "## Problem 1"
   ]
  },
  {
   "cell_type": "code",
   "execution_count": 1,
   "metadata": {},
   "outputs": [
    {
     "data": {
      "text/html": [
       "<table>\n",
       "<thead><tr><th scope=col>Country</th><th scope=col>Abbrev</th><th scope=col>X100m.s</th><th scope=col>X200m.s</th><th scope=col>X400m.s</th><th scope=col>X800m.m</th><th scope=col>X1500m.m</th><th scope=col>X5000m.m</th><th scope=col>X10000m.m</th><th scope=col>Marathon.m</th></tr></thead>\n",
       "<tbody>\n",
       "\t<tr><td>Argentina</td><td>ARG      </td><td>10.39    </td><td>20.81    </td><td>46.84    </td><td>1.81     </td><td>3.70     </td><td>14.04    </td><td>29.36    </td><td>137.72   </td></tr>\n",
       "\t<tr><td>Australia</td><td>AUL      </td><td>10.31    </td><td>20.06    </td><td>44.84    </td><td>1.74     </td><td>3.57     </td><td>13.28    </td><td>27.66    </td><td>128.30   </td></tr>\n",
       "\t<tr><td>Austria  </td><td>AUS      </td><td>10.44    </td><td>20.81    </td><td>46.82    </td><td>1.79     </td><td>3.60     </td><td>13.26    </td><td>27.72    </td><td>135.90   </td></tr>\n",
       "\t<tr><td>Belgium  </td><td>BEL      </td><td>10.34    </td><td>20.68    </td><td>45.04    </td><td>1.73     </td><td>3.60     </td><td>13.22    </td><td>27.45    </td><td>129.95   </td></tr>\n",
       "\t<tr><td>Bermuda  </td><td>BER      </td><td>10.28    </td><td>20.58    </td><td>45.91    </td><td>1.80     </td><td>3.75     </td><td>14.68    </td><td>30.55    </td><td>146.62   </td></tr>\n",
       "\t<tr><td>Brazil   </td><td>BRA      </td><td>10.22    </td><td>20.43    </td><td>45.21    </td><td>1.73     </td><td>3.66     </td><td>13.62    </td><td>28.62    </td><td>133.13   </td></tr>\n",
       "</tbody>\n",
       "</table>\n"
      ],
      "text/latex": [
       "\\begin{tabular}{r|llllllllll}\n",
       " Country & Abbrev & X100m.s & X200m.s & X400m.s & X800m.m & X1500m.m & X5000m.m & X10000m.m & Marathon.m\\\\\n",
       "\\hline\n",
       "\t Argentina & ARG       & 10.39     & 20.81     & 46.84     & 1.81      & 3.70      & 14.04     & 29.36     & 137.72   \\\\\n",
       "\t Australia & AUL       & 10.31     & 20.06     & 44.84     & 1.74      & 3.57      & 13.28     & 27.66     & 128.30   \\\\\n",
       "\t Austria   & AUS       & 10.44     & 20.81     & 46.82     & 1.79      & 3.60      & 13.26     & 27.72     & 135.90   \\\\\n",
       "\t Belgium   & BEL       & 10.34     & 20.68     & 45.04     & 1.73      & 3.60      & 13.22     & 27.45     & 129.95   \\\\\n",
       "\t Bermuda   & BER       & 10.28     & 20.58     & 45.91     & 1.80      & 3.75      & 14.68     & 30.55     & 146.62   \\\\\n",
       "\t Brazil    & BRA       & 10.22     & 20.43     & 45.21     & 1.73      & 3.66      & 13.62     & 28.62     & 133.13   \\\\\n",
       "\\end{tabular}\n"
      ],
      "text/markdown": [
       "\n",
       "| Country | Abbrev | X100m.s | X200m.s | X400m.s | X800m.m | X1500m.m | X5000m.m | X10000m.m | Marathon.m |\n",
       "|---|---|---|---|---|---|---|---|---|---|\n",
       "| Argentina | ARG       | 10.39     | 20.81     | 46.84     | 1.81      | 3.70      | 14.04     | 29.36     | 137.72    |\n",
       "| Australia | AUL       | 10.31     | 20.06     | 44.84     | 1.74      | 3.57      | 13.28     | 27.66     | 128.30    |\n",
       "| Austria   | AUS       | 10.44     | 20.81     | 46.82     | 1.79      | 3.60      | 13.26     | 27.72     | 135.90    |\n",
       "| Belgium   | BEL       | 10.34     | 20.68     | 45.04     | 1.73      | 3.60      | 13.22     | 27.45     | 129.95    |\n",
       "| Bermuda   | BER       | 10.28     | 20.58     | 45.91     | 1.80      | 3.75      | 14.68     | 30.55     | 146.62    |\n",
       "| Brazil    | BRA       | 10.22     | 20.43     | 45.21     | 1.73      | 3.66      | 13.62     | 28.62     | 133.13    |\n",
       "\n"
      ],
      "text/plain": [
       "  Country   Abbrev X100m.s X200m.s X400m.s X800m.m X1500m.m X5000m.m X10000m.m\n",
       "1 Argentina ARG    10.39   20.81   46.84   1.81    3.70     14.04    29.36    \n",
       "2 Australia AUL    10.31   20.06   44.84   1.74    3.57     13.28    27.66    \n",
       "3 Austria   AUS    10.44   20.81   46.82   1.79    3.60     13.26    27.72    \n",
       "4 Belgium   BEL    10.34   20.68   45.04   1.73    3.60     13.22    27.45    \n",
       "5 Bermuda   BER    10.28   20.58   45.91   1.80    3.75     14.68    30.55    \n",
       "6 Brazil    BRA    10.22   20.43   45.21   1.73    3.66     13.62    28.62    \n",
       "  Marathon.m\n",
       "1 137.72    \n",
       "2 128.30    \n",
       "3 135.90    \n",
       "4 129.95    \n",
       "5 146.62    \n",
       "6 133.13    "
      ]
     },
     "metadata": {},
     "output_type": "display_data"
    }
   ],
   "source": [
    "track <- read.csv('TrackData.csv')\n",
    "head(track)"
   ]
  },
  {
   "cell_type": "markdown",
   "metadata": {},
   "source": [
    "### (1a)"
   ]
  },
  {
   "cell_type": "code",
   "execution_count": 2,
   "metadata": {},
   "outputs": [
    {
     "data": {
      "text/html": [
       "<table>\n",
       "<thead><tr><th></th><th scope=col>X100m.s</th><th scope=col>X200m.s</th><th scope=col>X400m.s</th><th scope=col>X800m.m</th><th scope=col>X1500m.m</th><th scope=col>X5000m.m</th><th scope=col>X10000m.m</th><th scope=col>Marathon.m</th></tr></thead>\n",
       "<tbody>\n",
       "\t<tr><th scope=row>X100m.s</th><td>0.12350249 </td><td>0.20902182 </td><td>0.43069956 </td><td>0.016920438</td><td>0.03836684 </td><td>0.17441020 </td><td> 0.4018455 </td><td> 1.6860122 </td></tr>\n",
       "\t<tr><th scope=row>X200m.s</th><td>0.20902182 </td><td>0.41557024 </td><td>0.79905603 </td><td>0.033115455</td><td>0.07788771 </td><td>0.35913859 </td><td> 0.8117114 </td><td> 3.5462096 </td></tr>\n",
       "\t<tr><th scope=row>X400m.s</th><td>0.43069956 </td><td>0.79905603 </td><td>2.12290020 </td><td>0.080743131</td><td>0.18974209 </td><td>0.90887976 </td><td> 2.0734155 </td><td> 9.4778570 </td></tr>\n",
       "\t<tr><th scope=row>X800m.m</th><td>0.01692044 </td><td>0.03311545 </td><td>0.08074313 </td><td>0.004055758</td><td>0.00911532 </td><td>0.04406209 </td><td> 0.1000493 </td><td> 0.4739033 </td></tr>\n",
       "\t<tr><th scope=row>X1500m.m</th><td>0.03836684 </td><td>0.07788771 </td><td>0.18974209 </td><td>0.009115320</td><td>0.02430774 </td><td>0.11592929 </td><td> 0.2634372 </td><td> 1.2451630 </td></tr>\n",
       "\t<tr><th scope=row>X5000m.m</th><td>0.17441020 </td><td>0.35913859 </td><td>0.90887976 </td><td>0.044062088</td><td>0.11592929 </td><td>0.64185811 </td><td> 1.4115480 </td><td> 6.8910485 </td></tr>\n",
       "\t<tr><th scope=row>X10000m.m</th><td>0.40184545 </td><td>0.81171145 </td><td>2.07341549 </td><td>0.100049327</td><td>0.26343721 </td><td>1.41154798 </td><td> 3.2678936 </td><td>15.7321815 </td></tr>\n",
       "\t<tr><th scope=row>Marathon.m</th><td>1.68601222 </td><td>3.54620963 </td><td>9.47785704 </td><td>0.473903333</td><td>1.24516296 </td><td>6.89104852 </td><td>15.7321815 </td><td>85.1381467 </td></tr>\n",
       "</tbody>\n",
       "</table>\n"
      ],
      "text/latex": [
       "\\begin{tabular}{r|llllllll}\n",
       "  & X100m.s & X200m.s & X400m.s & X800m.m & X1500m.m & X5000m.m & X10000m.m & Marathon.m\\\\\n",
       "\\hline\n",
       "\tX100m.s & 0.12350249  & 0.20902182  & 0.43069956  & 0.016920438 & 0.03836684  & 0.17441020  &  0.4018455  &  1.6860122 \\\\\n",
       "\tX200m.s & 0.20902182  & 0.41557024  & 0.79905603  & 0.033115455 & 0.07788771  & 0.35913859  &  0.8117114  &  3.5462096 \\\\\n",
       "\tX400m.s & 0.43069956  & 0.79905603  & 2.12290020  & 0.080743131 & 0.18974209  & 0.90887976  &  2.0734155  &  9.4778570 \\\\\n",
       "\tX800m.m & 0.01692044  & 0.03311545  & 0.08074313  & 0.004055758 & 0.00911532  & 0.04406209  &  0.1000493  &  0.4739033 \\\\\n",
       "\tX1500m.m & 0.03836684  & 0.07788771  & 0.18974209  & 0.009115320 & 0.02430774  & 0.11592929  &  0.2634372  &  1.2451630 \\\\\n",
       "\tX5000m.m & 0.17441020  & 0.35913859  & 0.90887976  & 0.044062088 & 0.11592929  & 0.64185811  &  1.4115480  &  6.8910485 \\\\\n",
       "\tX10000m.m & 0.40184545  & 0.81171145  & 2.07341549  & 0.100049327 & 0.26343721  & 1.41154798  &  3.2678936  & 15.7321815 \\\\\n",
       "\tMarathon.m & 1.68601222  & 3.54620963  & 9.47785704  & 0.473903333 & 1.24516296  & 6.89104852  & 15.7321815  & 85.1381467 \\\\\n",
       "\\end{tabular}\n"
      ],
      "text/markdown": [
       "\n",
       "| <!--/--> | X100m.s | X200m.s | X400m.s | X800m.m | X1500m.m | X5000m.m | X10000m.m | Marathon.m |\n",
       "|---|---|---|---|---|---|---|---|---|\n",
       "| X100m.s | 0.12350249  | 0.20902182  | 0.43069956  | 0.016920438 | 0.03836684  | 0.17441020  |  0.4018455  |  1.6860122  |\n",
       "| X200m.s | 0.20902182  | 0.41557024  | 0.79905603  | 0.033115455 | 0.07788771  | 0.35913859  |  0.8117114  |  3.5462096  |\n",
       "| X400m.s | 0.43069956  | 0.79905603  | 2.12290020  | 0.080743131 | 0.18974209  | 0.90887976  |  2.0734155  |  9.4778570  |\n",
       "| X800m.m | 0.01692044  | 0.03311545  | 0.08074313  | 0.004055758 | 0.00911532  | 0.04406209  |  0.1000493  |  0.4739033  |\n",
       "| X1500m.m | 0.03836684  | 0.07788771  | 0.18974209  | 0.009115320 | 0.02430774  | 0.11592929  |  0.2634372  |  1.2451630  |\n",
       "| X5000m.m | 0.17441020  | 0.35913859  | 0.90887976  | 0.044062088 | 0.11592929  | 0.64185811  |  1.4115480  |  6.8910485  |\n",
       "| X10000m.m | 0.40184545  | 0.81171145  | 2.07341549  | 0.100049327 | 0.26343721  | 1.41154798  |  3.2678936  | 15.7321815  |\n",
       "| Marathon.m | 1.68601222  | 3.54620963  | 9.47785704  | 0.473903333 | 1.24516296  | 6.89104852  | 15.7321815  | 85.1381467  |\n",
       "\n"
      ],
      "text/plain": [
       "           X100m.s    X200m.s    X400m.s    X800m.m     X1500m.m   X5000m.m  \n",
       "X100m.s    0.12350249 0.20902182 0.43069956 0.016920438 0.03836684 0.17441020\n",
       "X200m.s    0.20902182 0.41557024 0.79905603 0.033115455 0.07788771 0.35913859\n",
       "X400m.s    0.43069956 0.79905603 2.12290020 0.080743131 0.18974209 0.90887976\n",
       "X800m.m    0.01692044 0.03311545 0.08074313 0.004055758 0.00911532 0.04406209\n",
       "X1500m.m   0.03836684 0.07788771 0.18974209 0.009115320 0.02430774 0.11592929\n",
       "X5000m.m   0.17441020 0.35913859 0.90887976 0.044062088 0.11592929 0.64185811\n",
       "X10000m.m  0.40184545 0.81171145 2.07341549 0.100049327 0.26343721 1.41154798\n",
       "Marathon.m 1.68601222 3.54620963 9.47785704 0.473903333 1.24516296 6.89104852\n",
       "           X10000m.m  Marathon.m\n",
       "X100m.s     0.4018455  1.6860122\n",
       "X200m.s     0.8117114  3.5462096\n",
       "X400m.s     2.0734155  9.4778570\n",
       "X800m.m     0.1000493  0.4739033\n",
       "X1500m.m    0.2634372  1.2451630\n",
       "X5000m.m    1.4115480  6.8910485\n",
       "X10000m.m   3.2678936 15.7321815\n",
       "Marathon.m 15.7321815 85.1381467"
      ]
     },
     "metadata": {},
     "output_type": "display_data"
    },
    {
     "data": {
      "text/html": [
       "<table>\n",
       "<thead><tr><th></th><th scope=col>X100m.s</th><th scope=col>X200m.s</th><th scope=col>X400m.s</th><th scope=col>X800m.m</th><th scope=col>X1500m.m</th><th scope=col>X5000m.m</th><th scope=col>X10000m.m</th><th scope=col>Marathon.m</th></tr></thead>\n",
       "<tbody>\n",
       "\t<tr><th scope=row>X100m.s</th><td>1.0000000</td><td>0.9226384</td><td>0.8411468</td><td>0.7560278</td><td>0.7002382</td><td>0.6194618</td><td>0.6325389</td><td>0.5199490</td></tr>\n",
       "\t<tr><th scope=row>X200m.s</th><td>0.9226384</td><td>1.0000000</td><td>0.8507270</td><td>0.8066265</td><td>0.7749513</td><td>0.6953770</td><td>0.6965391</td><td>0.5961837</td></tr>\n",
       "\t<tr><th scope=row>X400m.s</th><td>0.8411468</td><td>0.8507270</td><td>1.0000000</td><td>0.8701714</td><td>0.8352694</td><td>0.7786139</td><td>0.7872045</td><td>0.7049905</td></tr>\n",
       "\t<tr><th scope=row>X800m.m</th><td>0.7560278</td><td>0.8066265</td><td>0.8701714</td><td>1.0000000</td><td>0.9180442</td><td>0.8635939</td><td>0.8690489</td><td>0.8064764</td></tr>\n",
       "\t<tr><th scope=row>X1500m.m</th><td>0.7002382</td><td>0.7749513</td><td>0.8352694</td><td>0.9180442</td><td>1.0000000</td><td>0.9281140</td><td>0.9346970</td><td>0.8655492</td></tr>\n",
       "\t<tr><th scope=row>X5000m.m</th><td>0.6194618</td><td>0.6953770</td><td>0.7786139</td><td>0.8635939</td><td>0.9281140</td><td>1.0000000</td><td>0.9746354</td><td>0.9321884</td></tr>\n",
       "\t<tr><th scope=row>X10000m.m</th><td>0.6325389</td><td>0.6965391</td><td>0.7872045</td><td>0.8690489</td><td>0.9346970</td><td>0.9746354</td><td>1.0000000</td><td>0.9431763</td></tr>\n",
       "\t<tr><th scope=row>Marathon.m</th><td>0.5199490</td><td>0.5961837</td><td>0.7049905</td><td>0.8064764</td><td>0.8655492</td><td>0.9321884</td><td>0.9431763</td><td>1.0000000</td></tr>\n",
       "</tbody>\n",
       "</table>\n"
      ],
      "text/latex": [
       "\\begin{tabular}{r|llllllll}\n",
       "  & X100m.s & X200m.s & X400m.s & X800m.m & X1500m.m & X5000m.m & X10000m.m & Marathon.m\\\\\n",
       "\\hline\n",
       "\tX100m.s & 1.0000000 & 0.9226384 & 0.8411468 & 0.7560278 & 0.7002382 & 0.6194618 & 0.6325389 & 0.5199490\\\\\n",
       "\tX200m.s & 0.9226384 & 1.0000000 & 0.8507270 & 0.8066265 & 0.7749513 & 0.6953770 & 0.6965391 & 0.5961837\\\\\n",
       "\tX400m.s & 0.8411468 & 0.8507270 & 1.0000000 & 0.8701714 & 0.8352694 & 0.7786139 & 0.7872045 & 0.7049905\\\\\n",
       "\tX800m.m & 0.7560278 & 0.8066265 & 0.8701714 & 1.0000000 & 0.9180442 & 0.8635939 & 0.8690489 & 0.8064764\\\\\n",
       "\tX1500m.m & 0.7002382 & 0.7749513 & 0.8352694 & 0.9180442 & 1.0000000 & 0.9281140 & 0.9346970 & 0.8655492\\\\\n",
       "\tX5000m.m & 0.6194618 & 0.6953770 & 0.7786139 & 0.8635939 & 0.9281140 & 1.0000000 & 0.9746354 & 0.9321884\\\\\n",
       "\tX10000m.m & 0.6325389 & 0.6965391 & 0.7872045 & 0.8690489 & 0.9346970 & 0.9746354 & 1.0000000 & 0.9431763\\\\\n",
       "\tMarathon.m & 0.5199490 & 0.5961837 & 0.7049905 & 0.8064764 & 0.8655492 & 0.9321884 & 0.9431763 & 1.0000000\\\\\n",
       "\\end{tabular}\n"
      ],
      "text/markdown": [
       "\n",
       "| <!--/--> | X100m.s | X200m.s | X400m.s | X800m.m | X1500m.m | X5000m.m | X10000m.m | Marathon.m |\n",
       "|---|---|---|---|---|---|---|---|---|\n",
       "| X100m.s | 1.0000000 | 0.9226384 | 0.8411468 | 0.7560278 | 0.7002382 | 0.6194618 | 0.6325389 | 0.5199490 |\n",
       "| X200m.s | 0.9226384 | 1.0000000 | 0.8507270 | 0.8066265 | 0.7749513 | 0.6953770 | 0.6965391 | 0.5961837 |\n",
       "| X400m.s | 0.8411468 | 0.8507270 | 1.0000000 | 0.8701714 | 0.8352694 | 0.7786139 | 0.7872045 | 0.7049905 |\n",
       "| X800m.m | 0.7560278 | 0.8066265 | 0.8701714 | 1.0000000 | 0.9180442 | 0.8635939 | 0.8690489 | 0.8064764 |\n",
       "| X1500m.m | 0.7002382 | 0.7749513 | 0.8352694 | 0.9180442 | 1.0000000 | 0.9281140 | 0.9346970 | 0.8655492 |\n",
       "| X5000m.m | 0.6194618 | 0.6953770 | 0.7786139 | 0.8635939 | 0.9281140 | 1.0000000 | 0.9746354 | 0.9321884 |\n",
       "| X10000m.m | 0.6325389 | 0.6965391 | 0.7872045 | 0.8690489 | 0.9346970 | 0.9746354 | 1.0000000 | 0.9431763 |\n",
       "| Marathon.m | 0.5199490 | 0.5961837 | 0.7049905 | 0.8064764 | 0.8655492 | 0.9321884 | 0.9431763 | 1.0000000 |\n",
       "\n"
      ],
      "text/plain": [
       "           X100m.s   X200m.s   X400m.s   X800m.m   X1500m.m  X5000m.m \n",
       "X100m.s    1.0000000 0.9226384 0.8411468 0.7560278 0.7002382 0.6194618\n",
       "X200m.s    0.9226384 1.0000000 0.8507270 0.8066265 0.7749513 0.6953770\n",
       "X400m.s    0.8411468 0.8507270 1.0000000 0.8701714 0.8352694 0.7786139\n",
       "X800m.m    0.7560278 0.8066265 0.8701714 1.0000000 0.9180442 0.8635939\n",
       "X1500m.m   0.7002382 0.7749513 0.8352694 0.9180442 1.0000000 0.9281140\n",
       "X5000m.m   0.6194618 0.6953770 0.7786139 0.8635939 0.9281140 1.0000000\n",
       "X10000m.m  0.6325389 0.6965391 0.7872045 0.8690489 0.9346970 0.9746354\n",
       "Marathon.m 0.5199490 0.5961837 0.7049905 0.8064764 0.8655492 0.9321884\n",
       "           X10000m.m Marathon.m\n",
       "X100m.s    0.6325389 0.5199490 \n",
       "X200m.s    0.6965391 0.5961837 \n",
       "X400m.s    0.7872045 0.7049905 \n",
       "X800m.m    0.8690489 0.8064764 \n",
       "X1500m.m   0.9346970 0.8655492 \n",
       "X5000m.m   0.9746354 0.9321884 \n",
       "X10000m.m  1.0000000 0.9431763 \n",
       "Marathon.m 0.9431763 1.0000000 "
      ]
     },
     "metadata": {},
     "output_type": "display_data"
    }
   ],
   "source": [
    "distances <- track[,3:10]\n",
    "S <- cov(distances)\n",
    "R <- cor(distances)\n",
    "S\n",
    "R"
   ]
  },
  {
   "cell_type": "markdown",
   "metadata": {},
   "source": [
    "$R$ is more appropriate to use for PCA, as all the variables are on the same scale."
   ]
  },
  {
   "cell_type": "markdown",
   "metadata": {},
   "source": [
    "### (1b) Eigendecomposition of S"
   ]
  },
  {
   "cell_type": "code",
   "execution_count": 3,
   "metadata": {},
   "outputs": [
    {
     "data": {
      "text/plain": [
       "eigen() decomposition\n",
       "$values\n",
       "[1] 8.991362e+01 1.412626e+00 2.598442e-01 1.094203e-01 2.730060e-02\n",
       "[6] 1.273280e-02 2.243554e-03 4.455645e-04\n",
       "\n",
       "$vectors\n",
       "             [,1]        [,2]         [,3]         [,4]         [,5]\n",
       "[1,] -0.019865407 -0.21068958 -0.029041979 -0.358784470  0.190181784\n",
       "[2,] -0.041554499 -0.35892579 -0.018390126 -0.833534544 -0.048582165\n",
       "[3,] -0.110631838 -0.82786251 -0.377669011  0.396041212 -0.012020033\n",
       "[4,] -0.005487699 -0.02317490  0.005341591 -0.009568087 -0.011107487\n",
       "[5,] -0.014386822 -0.04465255  0.050004337 -0.015981502 -0.043222520\n",
       "[6,] -0.079308444 -0.12996134  0.336448522  0.018873808 -0.909186992\n",
       "[7,] -0.181098994 -0.29885393  0.848722695  0.134662690  0.364239482\n",
       "[8,] -0.972787446  0.18080736 -0.141872114 -0.028425488  0.006575083\n",
       "             [,6]         [,7]          [,8]\n",
       "[1,]  0.886865894 -0.052444908 -0.0139585779\n",
       "[2,] -0.409969944  0.062270182 -0.0037828046\n",
       "[3,] -0.047663812  0.020389912 -0.0094695712\n",
       "[4,] -0.007204523 -0.261227847  0.9648302746\n",
       "[5,] -0.067333230 -0.959092660 -0.2622644611\n",
       "[6,]  0.184076191  0.052548542 -0.0001130819\n",
       "[7,] -0.068113893  0.045771467  0.0045055042\n",
       "[8,]  0.003532208 -0.001055127 -0.0008700758\n"
      ]
     },
     "metadata": {},
     "output_type": "display_data"
    }
   ],
   "source": [
    "eiDecS <- eigen(S)\n",
    "eiDecS"
   ]
  },
  {
   "cell_type": "markdown",
   "metadata": {},
   "source": [
    "### (1c) Eigendecomposition of R\n"
   ]
  },
  {
   "cell_type": "code",
   "execution_count": 4,
   "metadata": {},
   "outputs": [
    {
     "data": {
      "text/plain": [
       "eigen() decomposition\n",
       "$values\n",
       "[1] 6.62214613 0.87761829 0.15932114 0.12404939 0.07988027 0.06796515 0.04641953\n",
       "[8] 0.02260010\n",
       "\n",
       "$vectors\n",
       "           [,1]        [,2]       [,3]        [,4]       [,5]       [,6]\n",
       "[1,] -0.3175565 -0.56687750  0.3322620 -0.12762827  0.2625555 -0.5937042\n",
       "[2,] -0.3369792 -0.46162589  0.3606567  0.25911576 -0.1539571  0.6561367\n",
       "[3,] -0.3556454 -0.24827331 -0.5604674 -0.65234077 -0.2183229  0.1566252\n",
       "[4,] -0.3686841 -0.01242993 -0.5324823  0.47999895  0.5400528 -0.0146918\n",
       "[5,] -0.3728099  0.13979665 -0.1534427  0.40451039 -0.4877151 -0.1578430\n",
       "[6,] -0.3643741  0.31203045  0.1897643 -0.02958755 -0.2539792 -0.1412987\n",
       "[7,] -0.3667726  0.30685985  0.1817517 -0.08006862 -0.1331764 -0.2190168\n",
       "[8,] -0.3419261  0.43896267  0.2632087 -0.29951213  0.4979283  0.3152849\n",
       "             [,7]          [,8]\n",
       "[1,]  0.136241260 -0.1055416752\n",
       "[2,] -0.112639528  0.0960543222\n",
       "[3,] -0.002853707  0.0001272032\n",
       "[4,] -0.238016094  0.0381651151\n",
       "[5,]  0.610011482 -0.1392909844\n",
       "[6,] -0.591298850 -0.5466969221\n",
       "[7,] -0.176871021  0.7967952190\n",
       "[8,]  0.398822209 -0.1581638575\n"
      ]
     },
     "metadata": {},
     "output_type": "display_data"
    }
   ],
   "source": [
    "eiDecR <- eigen(R)\n",
    "eiDecR"
   ]
  },
  {
   "cell_type": "markdown",
   "metadata": {},
   "source": [
    "### (1d)"
   ]
  },
  {
   "cell_type": "code",
   "execution_count": 5,
   "metadata": {},
   "outputs": [
    {
     "data": {
      "image/png": "[encoded data removed]",
      "text/plain": [
       "Plot with title \"Principal Component 4\""
      ]
     },
     "metadata": {},
     "output_type": "display_data"
    }
   ],
   "source": [
    "par(mfrow=c(2,2), oma=c(0,0,2,0))\n",
    "for(i in 1:4){\n",
    "    plot(1:8, eiDecS$vec[,i], xlab=\"Variable\", ylab=\"Loading\", main=paste(\"Principal Component \", i, sep=\"\"), ylim=c(-1, 1), col = 'blue')\n",
    "    points(1:8, eiDecR$vec[,i], xlab=\"Variable\", ylab=\"Loading\", main=paste(\"Principal Component \", i, sep=\"\"), ylim=c(-1, 1), col='red')\n",
    "    legend(\"topleft\", legend=c(\"S\", \"R\"), col=c(\"blue\", \"red\"), pch=21)\n",
    "\tabline(h=0)\n",
    "}\n",
    "mtext(\"Raw vs. Standardized Principal Components\", outer=T)"
   ]
  },
  {
   "cell_type": "markdown",
   "metadata": {},
   "source": [
    "### (1e)"
   ]
  },
  {
   "cell_type": "markdown",
   "metadata": {},
   "source": [
    "For $S$: marathon times (variable 8) dominate the covariances among running times, which makes sense a marathon is much longer than other formats."
   ]
  },
  {
   "cell_type": "markdown",
   "metadata": {},
   "source": [
    "### (1f)"
   ]
  },
  {
   "cell_type": "markdown",
   "metadata": {},
   "source": [
    "For $R$: the standardized loadings are roughly equal. This principal component shows how fast or slow a country is in general."
   ]
  },
  {
   "cell_type": "markdown",
   "metadata": {},
   "source": [
    "### (1g)"
   ]
  },
  {
   "cell_type": "markdown",
   "metadata": {},
   "source": [
    "The second principal components of $R$ seems to show the contrast between fast marathoners and fast sprinters."
   ]
  },
  {
   "cell_type": "markdown",
   "metadata": {},
   "source": [
    "### (1h)"
   ]
  },
  {
   "cell_type": "code",
   "execution_count": 6,
   "metadata": {},
   "outputs": [
    {
     "data": {
      "image/png": "[encoded data removed]",
      "text/plain": [
       "plot without title"
      ]
     },
     "metadata": {},
     "output_type": "display_data"
    }
   ],
   "source": [
    "options(repr.plot.width=8, repr.plot.height=4)\n",
    "par(mfrow=c(1,2), oma=c(0,0,0,0))\n",
    "plot(1:8, eiDecS$val, type=\"b\", xlab=\"Component\", ylab=\"Variance\")\n",
    "lines(1:8, eiDecR$val, type=\"b\", col='red')\n",
    "plot(1:8, cumsum(eiDecR$val)/sum(eiDecR$val), type=\"b\", col='red', xlab=\"# Components\", ylab=\"Cumulative Variance Explained\")\n",
    "lines(1:8, cumsum(eiDecS$val)/sum(eiDecS$val), type=\"b\")"
   ]
  },
  {
   "cell_type": "markdown",
   "metadata": {},
   "source": [
    "### (1i)"
   ]
  },
  {
   "cell_type": "markdown",
   "metadata": {},
   "source": [
    "I'd want to keep the first 3 principal components of R, as they explain 95% of the variance, and the variances seem to taper off starting from the 4th principal component."
   ]
  },
  {
   "cell_type": "markdown",
   "metadata": {},
   "source": [
    "## Problem 2"
   ]
  },
  {
   "cell_type": "code",
   "execution_count": 7,
   "metadata": {},
   "outputs": [
    {
     "data": {
      "text/html": [
       "<table>\n",
       "<thead><tr><th scope=col>JPMorgan</th><th scope=col>Citibank</th><th scope=col>WellsFargo</th><th scope=col>RoyalDutchShell</th><th scope=col>ExxonMobil</th></tr></thead>\n",
       "<tbody>\n",
       "\t<tr><td> 0.0130338</td><td>-0.0078431</td><td>-0.0031889</td><td>-0.0447693</td><td> 0.0052151</td></tr>\n",
       "\t<tr><td> 0.0084862</td><td> 0.0166886</td><td>-0.0062100</td><td> 0.0119560</td><td> 0.0134890</td></tr>\n",
       "\t<tr><td>-0.0179153</td><td>-0.0086393</td><td> 0.0100360</td><td> 0.0000000</td><td>-0.0061428</td></tr>\n",
       "\t<tr><td> 0.0215589</td><td>-0.0034858</td><td> 0.0174353</td><td>-0.0285917</td><td>-0.0069534</td></tr>\n",
       "\t<tr><td> 0.0108225</td><td> 0.0037167</td><td>-0.0101345</td><td> 0.0291900</td><td> 0.0409751</td></tr>\n",
       "\t<tr><td> 0.0101713</td><td>-0.0121978</td><td>-0.0083768</td><td> 0.0137083</td><td> 0.0029895</td></tr>\n",
       "</tbody>\n",
       "</table>\n"
      ],
      "text/latex": [
       "\\begin{tabular}{r|lllll}\n",
       " JPMorgan & Citibank & WellsFargo & RoyalDutchShell & ExxonMobil\\\\\n",
       "\\hline\n",
       "\t  0.0130338 & -0.0078431 & -0.0031889 & -0.0447693 &  0.0052151\\\\\n",
       "\t  0.0084862 &  0.0166886 & -0.0062100 &  0.0119560 &  0.0134890\\\\\n",
       "\t -0.0179153 & -0.0086393 &  0.0100360 &  0.0000000 & -0.0061428\\\\\n",
       "\t  0.0215589 & -0.0034858 &  0.0174353 & -0.0285917 & -0.0069534\\\\\n",
       "\t  0.0108225 &  0.0037167 & -0.0101345 &  0.0291900 &  0.0409751\\\\\n",
       "\t  0.0101713 & -0.0121978 & -0.0083768 &  0.0137083 &  0.0029895\\\\\n",
       "\\end{tabular}\n"
      ],
      "text/markdown": [
       "\n",
       "| JPMorgan | Citibank | WellsFargo | RoyalDutchShell | ExxonMobil |\n",
       "|---|---|---|---|---|\n",
       "|  0.0130338 | -0.0078431 | -0.0031889 | -0.0447693 |  0.0052151 |\n",
       "|  0.0084862 |  0.0166886 | -0.0062100 |  0.0119560 |  0.0134890 |\n",
       "| -0.0179153 | -0.0086393 |  0.0100360 |  0.0000000 | -0.0061428 |\n",
       "|  0.0215589 | -0.0034858 |  0.0174353 | -0.0285917 | -0.0069534 |\n",
       "|  0.0108225 |  0.0037167 | -0.0101345 |  0.0291900 |  0.0409751 |\n",
       "|  0.0101713 | -0.0121978 | -0.0083768 |  0.0137083 |  0.0029895 |\n",
       "\n"
      ],
      "text/plain": [
       "  JPMorgan   Citibank   WellsFargo RoyalDutchShell ExxonMobil\n",
       "1  0.0130338 -0.0078431 -0.0031889 -0.0447693       0.0052151\n",
       "2  0.0084862  0.0166886 -0.0062100  0.0119560       0.0134890\n",
       "3 -0.0179153 -0.0086393  0.0100360  0.0000000      -0.0061428\n",
       "4  0.0215589 -0.0034858  0.0174353 -0.0285917      -0.0069534\n",
       "5  0.0108225  0.0037167 -0.0101345  0.0291900       0.0409751\n",
       "6  0.0101713 -0.0121978 -0.0083768  0.0137083       0.0029895"
      ]
     },
     "metadata": {},
     "output_type": "display_data"
    }
   ],
   "source": [
    "nyse <- read.csv('NYSEData.csv')\n",
    "head(nyse)"
   ]
  },
  {
   "cell_type": "markdown",
   "metadata": {},
   "source": [
    "### (2a)"
   ]
  },
  {
   "cell_type": "code",
   "execution_count": 10,
   "metadata": {},
   "outputs": [
    {
     "data": {
      "text/plain": [
       "eigen() decomposition\n",
       "$values\n",
       "[1] 0.0013676780 0.0007011596 0.0002538024 0.0001426026 0.0001188868\n",
       "\n",
       "$vectors\n",
       "          [,1]       [,2]        [,3]       [,4]        [,5]\n",
       "[1,] 0.2228228  0.6252260  0.32611218 -0.6627590  0.11765952\n",
       "[2,] 0.3072900  0.5703900 -0.24959014  0.4140935 -0.58860803\n",
       "[3,] 0.1548103  0.3445049 -0.03763929  0.4970499  0.78030428\n",
       "[4,] 0.6389680 -0.2479475 -0.64249741 -0.3088689  0.14845546\n",
       "[5,] 0.6509044 -0.3218478  0.64586064  0.2163758 -0.09371777\n"
      ]
     },
     "metadata": {},
     "output_type": "display_data"
    }
   ],
   "source": [
    "S <- cov(nyse)\n",
    "eiDecS <- eigen(sampCov)\n",
    "eiDecS"
   ]
  },
  {
   "cell_type": "markdown",
   "metadata": {},
   "source": [
    "### (2b)"
   ]
  },
  {
   "cell_type": "code",
   "execution_count": 11,
   "metadata": {},
   "outputs": [
    {
     "name": "stdout",
     "output_type": "stream",
     "text": [
      "0.8988095 of total variance is explained by the first 3 principal components"
     ]
    }
   ],
   "source": [
    "propVar <- sum(eiDecS$values[1:3])/sum(eiDecS$values)\n",
    "cat(propVar, \"of total variance is explained by the first 3 principal components\")"
   ]
  },
  {
   "cell_type": "markdown",
   "metadata": {},
   "source": [
    "### (2c)"
   ]
  },
  {
   "cell_type": "code",
   "execution_count": 14,
   "metadata": {},
   "outputs": [
    {
     "data": {
      "image/png": "[encoded data removed]",
      "text/plain": [
       "Plot with title \"Principal Component 3\""
      ]
     },
     "metadata": {},
     "output_type": "display_data"
    }
   ],
   "source": [
    "options(repr.plot.width=9, repr.plot.height=4)\n",
    "par(mfrow=c(1,3), oma=c(0,0,2,0))\n",
    "for(i in 1:3){\n",
    "    plot(1:5, eiDecS$vec[,i], xlab=\"Variable\", ylab=\"Loading\", main=paste(\"Principal Component \", i, sep=\"\"), ylim=c(-1, 1), col = 'blue')\n",
    "\tabline(h=0)\n",
    "}\n",
    "mtext(\"First three Principal Components\", outer=T)"
   ]
  },
  {
   "cell_type": "markdown",
   "metadata": {},
   "source": [
    "First PC demonstrates the performance of the market in general. Second PC shows the contrast between stock performance of Finance sector and Energy sector. Third PC focuses on stocks with higher market capitalization (JP Morgan, Shell, Exxon)."
   ]
  },
  {
   "cell_type": "markdown",
   "metadata": {},
   "source": [
    "## Problem 4"
   ]
  },
  {
   "cell_type": "code",
   "execution_count": 1,
   "metadata": {},
   "outputs": [
    {
     "data": {
      "text/html": [
       "<table>\n",
       "<thead><tr><th></th><th scope=col>weight</th><th scope=col>height</th><th scope=col>physact</th><th scope=col>ldl</th><th scope=col>alb</th><th scope=col>crt</th><th scope=col>plt</th><th scope=col>sbp</th><th scope=col>aai</th><th scope=col>fev</th><th scope=col>dsst</th><th scope=col>atrophy</th></tr></thead>\n",
       "<tbody>\n",
       "\t<tr><th scope=row>weight</th><td> 1.000000000 </td><td> 0.54775881  </td><td>-0.02803745  </td><td> 0.003570772 </td><td>0.04673810   </td><td> 0.25399164  </td><td>-0.149446774 </td><td> 0.010460363 </td><td> 0.08738705  </td><td> 0.33625843  </td><td> 0.0572742821</td><td> 0.06488508  </td></tr>\n",
       "\t<tr><th scope=row>height</th><td> 0.547758814 </td><td> 1.00000000  </td><td> 0.06493509  </td><td>-0.156549811 </td><td>0.08819927   </td><td> 0.36485715  </td><td>-0.294760964 </td><td>-0.074941692 </td><td> 0.07299804  </td><td> 0.57702886  </td><td> 0.0209822766</td><td> 0.12153093  </td></tr>\n",
       "\t<tr><th scope=row>physact</th><td>-0.028037453 </td><td> 0.06493509  </td><td> 1.00000000  </td><td>-0.031756690 </td><td>0.01476370   </td><td>-0.02632625  </td><td>-0.009007918 </td><td> 0.002182684 </td><td> 0.07752272  </td><td> 0.10216126  </td><td>-0.0317582745</td><td>-0.08229819  </td></tr>\n",
       "\t<tr><th scope=row>ldl</th><td> 0.003570772 </td><td>-0.15654981  </td><td>-0.03175669  </td><td> 1.000000000 </td><td>0.12453340   </td><td>-0.13135504  </td><td> 0.196784543 </td><td>-0.030219314 </td><td>-0.05852988  </td><td>-0.06384960  </td><td> 0.0008064351</td><td>-0.01872189  </td></tr>\n",
       "\t<tr><th scope=row>alb</th><td> 0.046738095 </td><td> 0.08819927  </td><td> 0.01476370  </td><td> 0.124533399 </td><td>1.00000000   </td><td> 0.04428462  </td><td>-0.064295366 </td><td>-0.016708597 </td><td> 0.03102612  </td><td> 0.06547194  </td><td> 0.0687685606</td><td> 0.04777411  </td></tr>\n",
       "\t<tr><th scope=row>crt</th><td> 0.253991639 </td><td> 0.36485715  </td><td>-0.02632625  </td><td>-0.131355039 </td><td>0.04428462   </td><td> 1.00000000  </td><td>-0.154817028 </td><td>-0.001028755 </td><td>-0.04593571  </td><td> 0.22281622  </td><td>-0.1463814004</td><td> 0.15436572  </td></tr>\n",
       "</tbody>\n",
       "</table>\n"
      ],
      "text/latex": [
       "\\begin{tabular}{r|llllllllllll}\n",
       "  & weight & height & physact & ldl & alb & crt & plt & sbp & aai & fev & dsst & atrophy\\\\\n",
       "\\hline\n",
       "\tweight &  1.000000000  &  0.54775881   & -0.02803745   &  0.003570772  & 0.04673810    &  0.25399164   & -0.149446774  &  0.010460363  &  0.08738705   &  0.33625843   &  0.0572742821 &  0.06488508  \\\\\n",
       "\theight &  0.547758814  &  1.00000000   &  0.06493509   & -0.156549811  & 0.08819927    &  0.36485715   & -0.294760964  & -0.074941692  &  0.07299804   &  0.57702886   &  0.0209822766 &  0.12153093  \\\\\n",
       "\tphysact & -0.028037453  &  0.06493509   &  1.00000000   & -0.031756690  & 0.01476370    & -0.02632625   & -0.009007918  &  0.002182684  &  0.07752272   &  0.10216126   & -0.0317582745 & -0.08229819  \\\\\n",
       "\tldl &  0.003570772  & -0.15654981   & -0.03175669   &  1.000000000  & 0.12453340    & -0.13135504   &  0.196784543  & -0.030219314  & -0.05852988   & -0.06384960   &  0.0008064351 & -0.01872189  \\\\\n",
       "\talb &  0.046738095  &  0.08819927   &  0.01476370   &  0.124533399  & 1.00000000    &  0.04428462   & -0.064295366  & -0.016708597  &  0.03102612   &  0.06547194   &  0.0687685606 &  0.04777411  \\\\\n",
       "\tcrt &  0.253991639  &  0.36485715   & -0.02632625   & -0.131355039  & 0.04428462    &  1.00000000   & -0.154817028  & -0.001028755  & -0.04593571   &  0.22281622   & -0.1463814004 &  0.15436572  \\\\\n",
       "\\end{tabular}\n"
      ],
      "text/markdown": [
       "\n",
       "| <!--/--> | weight | height | physact | ldl | alb | crt | plt | sbp | aai | fev | dsst | atrophy |\n",
       "|---|---|---|---|---|---|---|---|---|---|---|---|---|\n",
       "| weight |  1.000000000  |  0.54775881   | -0.02803745   |  0.003570772  | 0.04673810    |  0.25399164   | -0.149446774  |  0.010460363  |  0.08738705   |  0.33625843   |  0.0572742821 |  0.06488508   |\n",
       "| height |  0.547758814  |  1.00000000   |  0.06493509   | -0.156549811  | 0.08819927    |  0.36485715   | -0.294760964  | -0.074941692  |  0.07299804   |  0.57702886   |  0.0209822766 |  0.12153093   |\n",
       "| physact | -0.028037453  |  0.06493509   |  1.00000000   | -0.031756690  | 0.01476370    | -0.02632625   | -0.009007918  |  0.002182684  |  0.07752272   |  0.10216126   | -0.0317582745 | -0.08229819   |\n",
       "| ldl |  0.003570772  | -0.15654981   | -0.03175669   |  1.000000000  | 0.12453340    | -0.13135504   |  0.196784543  | -0.030219314  | -0.05852988   | -0.06384960   |  0.0008064351 | -0.01872189   |\n",
       "| alb |  0.046738095  |  0.08819927   |  0.01476370   |  0.124533399  | 1.00000000    |  0.04428462   | -0.064295366  | -0.016708597  |  0.03102612   |  0.06547194   |  0.0687685606 |  0.04777411   |\n",
       "| crt |  0.253991639  |  0.36485715   | -0.02632625   | -0.131355039  | 0.04428462    |  1.00000000   | -0.154817028  | -0.001028755  | -0.04593571   |  0.22281622   | -0.1463814004 |  0.15436572   |\n",
       "\n"
      ],
      "text/plain": [
       "        weight       height      physact     ldl          alb       \n",
       "weight   1.000000000  0.54775881 -0.02803745  0.003570772 0.04673810\n",
       "height   0.547758814  1.00000000  0.06493509 -0.156549811 0.08819927\n",
       "physact -0.028037453  0.06493509  1.00000000 -0.031756690 0.01476370\n",
       "ldl      0.003570772 -0.15654981 -0.03175669  1.000000000 0.12453340\n",
       "alb      0.046738095  0.08819927  0.01476370  0.124533399 1.00000000\n",
       "crt      0.253991639  0.36485715 -0.02632625 -0.131355039 0.04428462\n",
       "        crt         plt          sbp          aai         fev        \n",
       "weight   0.25399164 -0.149446774  0.010460363  0.08738705  0.33625843\n",
       "height   0.36485715 -0.294760964 -0.074941692  0.07299804  0.57702886\n",
       "physact -0.02632625 -0.009007918  0.002182684  0.07752272  0.10216126\n",
       "ldl     -0.13135504  0.196784543 -0.030219314 -0.05852988 -0.06384960\n",
       "alb      0.04428462 -0.064295366 -0.016708597  0.03102612  0.06547194\n",
       "crt      1.00000000 -0.154817028 -0.001028755 -0.04593571  0.22281622\n",
       "        dsst          atrophy    \n",
       "weight   0.0572742821  0.06488508\n",
       "height   0.0209822766  0.12153093\n",
       "physact -0.0317582745 -0.08229819\n",
       "ldl      0.0008064351 -0.01872189\n",
       "alb      0.0687685606  0.04777411\n",
       "crt     -0.1463814004  0.15436572"
      ]
     },
     "metadata": {},
     "output_type": "display_data"
    }
   ],
   "source": [
    "corr <- as.matrix(read.csv('PhysioData.csv'))\n",
    "head(corr)"
   ]
  },
  {
   "cell_type": "markdown",
   "metadata": {},
   "source": [
    "### (4a)"
   ]
  },
  {
   "cell_type": "code",
   "execution_count": 2,
   "metadata": {},
   "outputs": [],
   "source": [
    "eiDecCor <- eigen(corr)"
   ]
  },
  {
   "cell_type": "markdown",
   "metadata": {},
   "source": [
    "#### i. m = 2"
   ]
  },
  {
   "cell_type": "code",
   "execution_count": 3,
   "metadata": {},
   "outputs": [
    {
     "data": {
      "text/html": [
       "<table>\n",
       "<thead><tr><th></th><th scope=col>Factor 1 Loadings</th><th scope=col>Factor 2 Loadings</th><th scope=col>Specific Variances</th></tr></thead>\n",
       "<tbody>\n",
       "\t<tr><th scope=row>weight</th><td>-1.0452745 </td><td>-0.1403353 </td><td>-0.11229274</td></tr>\n",
       "\t<tr><th scope=row>height</th><td>-1.3346010 </td><td>-0.1595277 </td><td>-0.80660894</td></tr>\n",
       "\t<tr><th scope=row>physact</th><td>-0.1265833 </td><td> 0.1814451 </td><td> 0.95105432</td></tr>\n",
       "\t<tr><th scope=row>ldl</th><td> 0.3651604 </td><td> 0.1599542 </td><td> 0.84107255</td></tr>\n",
       "\t<tr><th scope=row>alb</th><td>-0.2255166 </td><td> 0.0941445 </td><td> 0.94027907</td></tr>\n",
       "\t<tr><th scope=row>crt</th><td>-0.8112691 </td><td>-0.5135738 </td><td> 0.07808445</td></tr>\n",
       "\t<tr><th scope=row>plt</th><td> 0.7143848 </td><td> 0.1338270 </td><td> 0.47174474</td></tr>\n",
       "\t<tr><th scope=row>sbp</th><td> 0.2741563 </td><td>-0.7725324 </td><td> 0.32803205</td></tr>\n",
       "\t<tr><th scope=row>aai</th><td>-0.4325669 </td><td> 0.8560635 </td><td> 0.08004119</td></tr>\n",
       "\t<tr><th scope=row>fev</th><td>-1.1450629 </td><td> 0.2331262 </td><td>-0.36551677</td></tr>\n",
       "\t<tr><th scope=row>dsst</th><td>-0.1974087 </td><td> 0.7093896 </td><td> 0.45779616</td></tr>\n",
       "\t<tr><th scope=row>atrophy</th><td>-0.2404455 </td><td>-0.4284885 </td><td> 0.75858351</td></tr>\n",
       "</tbody>\n",
       "</table>\n"
      ],
      "text/latex": [
       "\\begin{tabular}{r|lll}\n",
       "  & Factor 1 Loadings & Factor 2 Loadings & Specific Variances\\\\\n",
       "\\hline\n",
       "\tweight & -1.0452745  & -0.1403353  & -0.11229274\\\\\n",
       "\theight & -1.3346010  & -0.1595277  & -0.80660894\\\\\n",
       "\tphysact & -0.1265833  &  0.1814451  &  0.95105432\\\\\n",
       "\tldl &  0.3651604  &  0.1599542  &  0.84107255\\\\\n",
       "\talb & -0.2255166  &  0.0941445  &  0.94027907\\\\\n",
       "\tcrt & -0.8112691  & -0.5135738  &  0.07808445\\\\\n",
       "\tplt &  0.7143848  &  0.1338270  &  0.47174474\\\\\n",
       "\tsbp &  0.2741563  & -0.7725324  &  0.32803205\\\\\n",
       "\taai & -0.4325669  &  0.8560635  &  0.08004119\\\\\n",
       "\tfev & -1.1450629  &  0.2331262  & -0.36551677\\\\\n",
       "\tdsst & -0.1974087  &  0.7093896  &  0.45779616\\\\\n",
       "\tatrophy & -0.2404455  & -0.4284885  &  0.75858351\\\\\n",
       "\\end{tabular}\n"
      ],
      "text/markdown": [
       "\n",
       "| <!--/--> | Factor 1 Loadings | Factor 2 Loadings | Specific Variances |\n",
       "|---|---|---|---|\n",
       "| weight | -1.0452745  | -0.1403353  | -0.11229274 |\n",
       "| height | -1.3346010  | -0.1595277  | -0.80660894 |\n",
       "| physact | -0.1265833  |  0.1814451  |  0.95105432 |\n",
       "| ldl |  0.3651604  |  0.1599542  |  0.84107255 |\n",
       "| alb | -0.2255166  |  0.0941445  |  0.94027907 |\n",
       "| crt | -0.8112691  | -0.5135738  |  0.07808445 |\n",
       "| plt |  0.7143848  |  0.1338270  |  0.47174474 |\n",
       "| sbp |  0.2741563  | -0.7725324  |  0.32803205 |\n",
       "| aai | -0.4325669  |  0.8560635  |  0.08004119 |\n",
       "| fev | -1.1450629  |  0.2331262  | -0.36551677 |\n",
       "| dsst | -0.1974087  |  0.7093896  |  0.45779616 |\n",
       "| atrophy | -0.2404455  | -0.4284885  |  0.75858351 |\n",
       "\n"
      ],
      "text/plain": [
       "        Factor 1 Loadings Factor 2 Loadings Specific Variances\n",
       "weight  -1.0452745        -0.1403353        -0.11229274       \n",
       "height  -1.3346010        -0.1595277        -0.80660894       \n",
       "physact -0.1265833         0.1814451         0.95105432       \n",
       "ldl      0.3651604         0.1599542         0.84107255       \n",
       "alb     -0.2255166         0.0941445         0.94027907       \n",
       "crt     -0.8112691        -0.5135738         0.07808445       \n",
       "plt      0.7143848         0.1338270         0.47174474       \n",
       "sbp      0.2741563        -0.7725324         0.32803205       \n",
       "aai     -0.4325669         0.8560635         0.08004119       \n",
       "fev     -1.1450629         0.2331262        -0.36551677       \n",
       "dsst    -0.1974087         0.7093896         0.45779616       \n",
       "atrophy -0.2404455        -0.4284885         0.75858351       "
      ]
     },
     "metadata": {},
     "output_type": "display_data"
    }
   ],
   "source": [
    "L2 <- cbind(eiDecCor$val[1]*eiDecCor$vec[,1], eiDecCor$val[2]*eiDecCor$vec[,2])\n",
    "errorCov2 <- corr - L2%*%t(L2)\n",
    "specVars2 <- diag(errorCov2)\n",
    "L2_table <- data.frame(L2,specVars2)\n",
    "colnames(L2_table) <- c(\"Factor 1 Loadings\",\"Factor 2 Loadings\",\"Specific Variances\")\n",
    "L2_table"
   ]
  },
  {
   "cell_type": "markdown",
   "metadata": {},
   "source": [
    "**Factor 1**: height, weight and fev contribute the most to factor 1. Interpretation: factor 1 correlates with the size of a person.\n",
    "\n",
    "**Factor 2** shows the contrast between **systolic blood pressure** vs. **ankle-to-arm sbp ratio** and **coginite performance**."
   ]
  },
  {
   "cell_type": "markdown",
   "metadata": {},
   "source": [
    "#### ii. m = 3"
   ]
  },
  {
   "cell_type": "code",
   "execution_count": 4,
   "metadata": {},
   "outputs": [
    {
     "data": {
      "text/html": [
       "<table>\n",
       "<thead><tr><th></th><th scope=col>Factor 1 Loadings</th><th scope=col>Factor 2 Loadings</th><th scope=col>Factor 3 Loadings</th><th scope=col>Specific Variances</th></tr></thead>\n",
       "<tbody>\n",
       "\t<tr><th scope=row>weight</th><td>-1.0452745  </td><td>-0.1403353  </td><td> 0.254226398</td><td>-0.17692380 </td></tr>\n",
       "\t<tr><th scope=row>height</th><td>-1.3346010  </td><td>-0.1595277  </td><td> 0.041405944</td><td>-0.80832339 </td></tr>\n",
       "\t<tr><th scope=row>physact</th><td>-0.1265833  </td><td> 0.1814451  </td><td>-0.351258636</td><td> 0.82767169 </td></tr>\n",
       "\t<tr><th scope=row>ldl</th><td> 0.3651604  </td><td> 0.1599542  </td><td> 0.756781166</td><td> 0.26835482 </td></tr>\n",
       "\t<tr><th scope=row>alb</th><td>-0.2255166  </td><td> 0.0941445  </td><td> 0.606733197</td><td> 0.57215390 </td></tr>\n",
       "\t<tr><th scope=row>crt</th><td>-0.8112691  </td><td>-0.5135738  </td><td>-0.007366511</td><td> 0.07803019 </td></tr>\n",
       "\t<tr><th scope=row>plt</th><td> 0.7143848  </td><td> 0.1338270  </td><td> 0.299009230</td><td> 0.38233822 </td></tr>\n",
       "\t<tr><th scope=row>sbp</th><td> 0.2741563  </td><td>-0.7725324  </td><td> 0.023902569</td><td> 0.32746072 </td></tr>\n",
       "\t<tr><th scope=row>aai</th><td>-0.4325669  </td><td> 0.8560635  </td><td>-0.156188604</td><td> 0.05564631 </td></tr>\n",
       "\t<tr><th scope=row>fev</th><td>-1.1450629  </td><td> 0.2331262  </td><td> 0.027012246</td><td>-0.36624644 </td></tr>\n",
       "\t<tr><th scope=row>dsst</th><td>-0.1974087  </td><td> 0.7093896  </td><td> 0.239375966</td><td> 0.40049530 </td></tr>\n",
       "\t<tr><th scope=row>atrophy</th><td>-0.2404455  </td><td>-0.4284885  </td><td> 0.326469376</td><td> 0.65200126 </td></tr>\n",
       "</tbody>\n",
       "</table>\n"
      ],
      "text/latex": [
       "\\begin{tabular}{r|llll}\n",
       "  & Factor 1 Loadings & Factor 2 Loadings & Factor 3 Loadings & Specific Variances\\\\\n",
       "\\hline\n",
       "\tweight & -1.0452745   & -0.1403353   &  0.254226398 & -0.17692380 \\\\\n",
       "\theight & -1.3346010   & -0.1595277   &  0.041405944 & -0.80832339 \\\\\n",
       "\tphysact & -0.1265833   &  0.1814451   & -0.351258636 &  0.82767169 \\\\\n",
       "\tldl &  0.3651604   &  0.1599542   &  0.756781166 &  0.26835482 \\\\\n",
       "\talb & -0.2255166   &  0.0941445   &  0.606733197 &  0.57215390 \\\\\n",
       "\tcrt & -0.8112691   & -0.5135738   & -0.007366511 &  0.07803019 \\\\\n",
       "\tplt &  0.7143848   &  0.1338270   &  0.299009230 &  0.38233822 \\\\\n",
       "\tsbp &  0.2741563   & -0.7725324   &  0.023902569 &  0.32746072 \\\\\n",
       "\taai & -0.4325669   &  0.8560635   & -0.156188604 &  0.05564631 \\\\\n",
       "\tfev & -1.1450629   &  0.2331262   &  0.027012246 & -0.36624644 \\\\\n",
       "\tdsst & -0.1974087   &  0.7093896   &  0.239375966 &  0.40049530 \\\\\n",
       "\tatrophy & -0.2404455   & -0.4284885   &  0.326469376 &  0.65200126 \\\\\n",
       "\\end{tabular}\n"
      ],
      "text/markdown": [
       "\n",
       "| <!--/--> | Factor 1 Loadings | Factor 2 Loadings | Factor 3 Loadings | Specific Variances |\n",
       "|---|---|---|---|---|\n",
       "| weight | -1.0452745   | -0.1403353   |  0.254226398 | -0.17692380  |\n",
       "| height | -1.3346010   | -0.1595277   |  0.041405944 | -0.80832339  |\n",
       "| physact | -0.1265833   |  0.1814451   | -0.351258636 |  0.82767169  |\n",
       "| ldl |  0.3651604   |  0.1599542   |  0.756781166 |  0.26835482  |\n",
       "| alb | -0.2255166   |  0.0941445   |  0.606733197 |  0.57215390  |\n",
       "| crt | -0.8112691   | -0.5135738   | -0.007366511 |  0.07803019  |\n",
       "| plt |  0.7143848   |  0.1338270   |  0.299009230 |  0.38233822  |\n",
       "| sbp |  0.2741563   | -0.7725324   |  0.023902569 |  0.32746072  |\n",
       "| aai | -0.4325669   |  0.8560635   | -0.156188604 |  0.05564631  |\n",
       "| fev | -1.1450629   |  0.2331262   |  0.027012246 | -0.36624644  |\n",
       "| dsst | -0.1974087   |  0.7093896   |  0.239375966 |  0.40049530  |\n",
       "| atrophy | -0.2404455   | -0.4284885   |  0.326469376 |  0.65200126  |\n",
       "\n"
      ],
      "text/plain": [
       "        Factor 1 Loadings Factor 2 Loadings Factor 3 Loadings\n",
       "weight  -1.0452745        -0.1403353         0.254226398     \n",
       "height  -1.3346010        -0.1595277         0.041405944     \n",
       "physact -0.1265833         0.1814451        -0.351258636     \n",
       "ldl      0.3651604         0.1599542         0.756781166     \n",
       "alb     -0.2255166         0.0941445         0.606733197     \n",
       "crt     -0.8112691        -0.5135738        -0.007366511     \n",
       "plt      0.7143848         0.1338270         0.299009230     \n",
       "sbp      0.2741563        -0.7725324         0.023902569     \n",
       "aai     -0.4325669         0.8560635        -0.156188604     \n",
       "fev     -1.1450629         0.2331262         0.027012246     \n",
       "dsst    -0.1974087         0.7093896         0.239375966     \n",
       "atrophy -0.2404455        -0.4284885         0.326469376     \n",
       "        Specific Variances\n",
       "weight  -0.17692380       \n",
       "height  -0.80832339       \n",
       "physact  0.82767169       \n",
       "ldl      0.26835482       \n",
       "alb      0.57215390       \n",
       "crt      0.07803019       \n",
       "plt      0.38233822       \n",
       "sbp      0.32746072       \n",
       "aai      0.05564631       \n",
       "fev     -0.36624644       \n",
       "dsst     0.40049530       \n",
       "atrophy  0.65200126       "
      ]
     },
     "metadata": {},
     "output_type": "display_data"
    }
   ],
   "source": [
    "L3 <- cbind(eiDecCor$val[1]*eiDecCor$vec[,1], eiDecCor$val[2]*eiDecCor$vec[,2], eiDecCor$val[3]*eiDecCor$vec[,3])\n",
    "errorCov3 <- corr - L3%*%t(L3)\n",
    "specVars3 <- diag(errorCov3)\n",
    "L3_table <- data.frame(L3,specVars3)\n",
    "colnames(L3_table) <- c(\"Factor 1 Loadings\",\"Factor 2 Loadings\",\"Factor 3 Loadings\",\"Specific Variances\")\n",
    "L3_table"
   ]
  },
  {
   "cell_type": "markdown",
   "metadata": {},
   "source": [
    "**Factor 3** correlates with the **cholesterol level** in the subject's blood."
   ]
  },
  {
   "cell_type": "markdown",
   "metadata": {},
   "source": [
    "### (4b)"
   ]
  },
  {
   "cell_type": "markdown",
   "metadata": {},
   "source": [
    "#### i. m = 2"
   ]
  },
  {
   "cell_type": "code",
   "execution_count": 5,
   "metadata": {},
   "outputs": [
    {
     "data": {
      "text/html": [
       "<table>\n",
       "<thead><tr><th></th><th scope=col>weight</th><th scope=col>height</th><th scope=col>physact</th><th scope=col>ldl</th><th scope=col>alb</th><th scope=col>crt</th><th scope=col>plt</th><th scope=col>sbp</th><th scope=col>aai</th><th scope=col>fev</th><th scope=col>dsst</th><th scope=col>atrophy</th></tr></thead>\n",
       "<tbody>\n",
       "\t<tr><th scope=row>weight</th><td> 0.000000e+00</td><td> 0.000000e+00</td><td> 1.040834e-17</td><td>-3.903128e-18</td><td>1.387779e-17 </td><td> 0.000000e+00</td><td> 2.775558e-17</td><td> 5.204170e-18</td><td> 0.000000e+00</td><td> 0.000000e+00</td><td> 0.000000e+00</td><td> 0.000000e+00</td></tr>\n",
       "\t<tr><th scope=row>height</th><td> 0.000000e+00</td><td> 0.000000e+00</td><td> 0.000000e+00</td><td> 0.000000e+00</td><td>0.000000e+00 </td><td>-5.551115e-17</td><td> 0.000000e+00</td><td> 0.000000e+00</td><td>-1.387779e-17</td><td> 0.000000e+00</td><td> 6.938894e-18</td><td>-2.775558e-17</td></tr>\n",
       "\t<tr><th scope=row>physact</th><td> 1.040834e-17</td><td> 0.000000e+00</td><td> 0.000000e+00</td><td> 0.000000e+00</td><td>0.000000e+00 </td><td> 0.000000e+00</td><td> 3.469447e-18</td><td>-1.040834e-17</td><td> 0.000000e+00</td><td> 0.000000e+00</td><td> 6.938894e-18</td><td> 0.000000e+00</td></tr>\n",
       "\t<tr><th scope=row>ldl</th><td>-3.903128e-18</td><td> 0.000000e+00</td><td> 0.000000e+00</td><td> 0.000000e+00</td><td>1.387779e-17 </td><td> 0.000000e+00</td><td> 0.000000e+00</td><td> 0.000000e+00</td><td> 0.000000e+00</td><td> 0.000000e+00</td><td> 3.361027e-18</td><td> 1.387779e-17</td></tr>\n",
       "\t<tr><th scope=row>alb</th><td> 1.387779e-17</td><td> 0.000000e+00</td><td> 0.000000e+00</td><td> 1.387779e-17</td><td>0.000000e+00 </td><td> 0.000000e+00</td><td> 0.000000e+00</td><td> 3.469447e-18</td><td> 1.040834e-17</td><td> 0.000000e+00</td><td> 0.000000e+00</td><td> 0.000000e+00</td></tr>\n",
       "\t<tr><th scope=row>crt</th><td> 0.000000e+00</td><td>-5.551115e-17</td><td> 0.000000e+00</td><td> 0.000000e+00</td><td>0.000000e+00 </td><td> 0.000000e+00</td><td> 0.000000e+00</td><td>-7.806256e-18</td><td> 0.000000e+00</td><td> 5.551115e-17</td><td> 0.000000e+00</td><td> 0.000000e+00</td></tr>\n",
       "\t<tr><th scope=row>plt</th><td> 2.775558e-17</td><td> 0.000000e+00</td><td> 3.469447e-18</td><td> 0.000000e+00</td><td>0.000000e+00 </td><td> 0.000000e+00</td><td> 0.000000e+00</td><td> 0.000000e+00</td><td> 0.000000e+00</td><td> 2.775558e-17</td><td>-3.469447e-18</td><td> 0.000000e+00</td></tr>\n",
       "\t<tr><th scope=row>sbp</th><td> 5.204170e-18</td><td> 0.000000e+00</td><td>-1.040834e-17</td><td> 0.000000e+00</td><td>3.469447e-18 </td><td>-7.806256e-18</td><td> 0.000000e+00</td><td> 0.000000e+00</td><td> 0.000000e+00</td><td> 0.000000e+00</td><td> 0.000000e+00</td><td>-6.938894e-18</td></tr>\n",
       "\t<tr><th scope=row>aai</th><td> 0.000000e+00</td><td>-1.387779e-17</td><td> 0.000000e+00</td><td> 0.000000e+00</td><td>1.040834e-17 </td><td> 0.000000e+00</td><td> 0.000000e+00</td><td> 0.000000e+00</td><td> 0.000000e+00</td><td> 2.775558e-17</td><td> 0.000000e+00</td><td> 0.000000e+00</td></tr>\n",
       "\t<tr><th scope=row>fev</th><td> 0.000000e+00</td><td> 0.000000e+00</td><td> 0.000000e+00</td><td> 0.000000e+00</td><td>0.000000e+00 </td><td> 5.551115e-17</td><td> 2.775558e-17</td><td> 0.000000e+00</td><td> 2.775558e-17</td><td> 0.000000e+00</td><td> 0.000000e+00</td><td>-8.673617e-18</td></tr>\n",
       "\t<tr><th scope=row>dsst</th><td> 0.000000e+00</td><td> 6.938894e-18</td><td> 6.938894e-18</td><td> 3.361027e-18</td><td>0.000000e+00 </td><td> 0.000000e+00</td><td>-3.469447e-18</td><td> 0.000000e+00</td><td> 0.000000e+00</td><td> 0.000000e+00</td><td> 0.000000e+00</td><td> 1.127570e-17</td></tr>\n",
       "\t<tr><th scope=row>atrophy</th><td> 0.000000e+00</td><td>-2.775558e-17</td><td> 0.000000e+00</td><td> 1.387779e-17</td><td>0.000000e+00 </td><td> 0.000000e+00</td><td> 0.000000e+00</td><td>-6.938894e-18</td><td> 0.000000e+00</td><td>-8.673617e-18</td><td> 1.127570e-17</td><td> 0.000000e+00</td></tr>\n",
       "</tbody>\n",
       "</table>\n"
      ],
      "text/latex": [
       "\\begin{tabular}{r|llllllllllll}\n",
       "  & weight & height & physact & ldl & alb & crt & plt & sbp & aai & fev & dsst & atrophy\\\\\n",
       "\\hline\n",
       "\tweight &  0.000000e+00 &  0.000000e+00 &  1.040834e-17 & -3.903128e-18 & 1.387779e-17  &  0.000000e+00 &  2.775558e-17 &  5.204170e-18 &  0.000000e+00 &  0.000000e+00 &  0.000000e+00 &  0.000000e+00\\\\\n",
       "\theight &  0.000000e+00 &  0.000000e+00 &  0.000000e+00 &  0.000000e+00 & 0.000000e+00  & -5.551115e-17 &  0.000000e+00 &  0.000000e+00 & -1.387779e-17 &  0.000000e+00 &  6.938894e-18 & -2.775558e-17\\\\\n",
       "\tphysact &  1.040834e-17 &  0.000000e+00 &  0.000000e+00 &  0.000000e+00 & 0.000000e+00  &  0.000000e+00 &  3.469447e-18 & -1.040834e-17 &  0.000000e+00 &  0.000000e+00 &  6.938894e-18 &  0.000000e+00\\\\\n",
       "\tldl & -3.903128e-18 &  0.000000e+00 &  0.000000e+00 &  0.000000e+00 & 1.387779e-17  &  0.000000e+00 &  0.000000e+00 &  0.000000e+00 &  0.000000e+00 &  0.000000e+00 &  3.361027e-18 &  1.387779e-17\\\\\n",
       "\talb &  1.387779e-17 &  0.000000e+00 &  0.000000e+00 &  1.387779e-17 & 0.000000e+00  &  0.000000e+00 &  0.000000e+00 &  3.469447e-18 &  1.040834e-17 &  0.000000e+00 &  0.000000e+00 &  0.000000e+00\\\\\n",
       "\tcrt &  0.000000e+00 & -5.551115e-17 &  0.000000e+00 &  0.000000e+00 & 0.000000e+00  &  0.000000e+00 &  0.000000e+00 & -7.806256e-18 &  0.000000e+00 &  5.551115e-17 &  0.000000e+00 &  0.000000e+00\\\\\n",
       "\tplt &  2.775558e-17 &  0.000000e+00 &  3.469447e-18 &  0.000000e+00 & 0.000000e+00  &  0.000000e+00 &  0.000000e+00 &  0.000000e+00 &  0.000000e+00 &  2.775558e-17 & -3.469447e-18 &  0.000000e+00\\\\\n",
       "\tsbp &  5.204170e-18 &  0.000000e+00 & -1.040834e-17 &  0.000000e+00 & 3.469447e-18  & -7.806256e-18 &  0.000000e+00 &  0.000000e+00 &  0.000000e+00 &  0.000000e+00 &  0.000000e+00 & -6.938894e-18\\\\\n",
       "\taai &  0.000000e+00 & -1.387779e-17 &  0.000000e+00 &  0.000000e+00 & 1.040834e-17  &  0.000000e+00 &  0.000000e+00 &  0.000000e+00 &  0.000000e+00 &  2.775558e-17 &  0.000000e+00 &  0.000000e+00\\\\\n",
       "\tfev &  0.000000e+00 &  0.000000e+00 &  0.000000e+00 &  0.000000e+00 & 0.000000e+00  &  5.551115e-17 &  2.775558e-17 &  0.000000e+00 &  2.775558e-17 &  0.000000e+00 &  0.000000e+00 & -8.673617e-18\\\\\n",
       "\tdsst &  0.000000e+00 &  6.938894e-18 &  6.938894e-18 &  3.361027e-18 & 0.000000e+00  &  0.000000e+00 & -3.469447e-18 &  0.000000e+00 &  0.000000e+00 &  0.000000e+00 &  0.000000e+00 &  1.127570e-17\\\\\n",
       "\tatrophy &  0.000000e+00 & -2.775558e-17 &  0.000000e+00 &  1.387779e-17 & 0.000000e+00  &  0.000000e+00 &  0.000000e+00 & -6.938894e-18 &  0.000000e+00 & -8.673617e-18 &  1.127570e-17 &  0.000000e+00\\\\\n",
       "\\end{tabular}\n"
      ],
      "text/markdown": [
       "\n",
       "| <!--/--> | weight | height | physact | ldl | alb | crt | plt | sbp | aai | fev | dsst | atrophy |\n",
       "|---|---|---|---|---|---|---|---|---|---|---|---|---|\n",
       "| weight |  0.000000e+00 |  0.000000e+00 |  1.040834e-17 | -3.903128e-18 | 1.387779e-17  |  0.000000e+00 |  2.775558e-17 |  5.204170e-18 |  0.000000e+00 |  0.000000e+00 |  0.000000e+00 |  0.000000e+00 |\n",
       "| height |  0.000000e+00 |  0.000000e+00 |  0.000000e+00 |  0.000000e+00 | 0.000000e+00  | -5.551115e-17 |  0.000000e+00 |  0.000000e+00 | -1.387779e-17 |  0.000000e+00 |  6.938894e-18 | -2.775558e-17 |\n",
       "| physact |  1.040834e-17 |  0.000000e+00 |  0.000000e+00 |  0.000000e+00 | 0.000000e+00  |  0.000000e+00 |  3.469447e-18 | -1.040834e-17 |  0.000000e+00 |  0.000000e+00 |  6.938894e-18 |  0.000000e+00 |\n",
       "| ldl | -3.903128e-18 |  0.000000e+00 |  0.000000e+00 |  0.000000e+00 | 1.387779e-17  |  0.000000e+00 |  0.000000e+00 |  0.000000e+00 |  0.000000e+00 |  0.000000e+00 |  3.361027e-18 |  1.387779e-17 |\n",
       "| alb |  1.387779e-17 |  0.000000e+00 |  0.000000e+00 |  1.387779e-17 | 0.000000e+00  |  0.000000e+00 |  0.000000e+00 |  3.469447e-18 |  1.040834e-17 |  0.000000e+00 |  0.000000e+00 |  0.000000e+00 |\n",
       "| crt |  0.000000e+00 | -5.551115e-17 |  0.000000e+00 |  0.000000e+00 | 0.000000e+00  |  0.000000e+00 |  0.000000e+00 | -7.806256e-18 |  0.000000e+00 |  5.551115e-17 |  0.000000e+00 |  0.000000e+00 |\n",
       "| plt |  2.775558e-17 |  0.000000e+00 |  3.469447e-18 |  0.000000e+00 | 0.000000e+00  |  0.000000e+00 |  0.000000e+00 |  0.000000e+00 |  0.000000e+00 |  2.775558e-17 | -3.469447e-18 |  0.000000e+00 |\n",
       "| sbp |  5.204170e-18 |  0.000000e+00 | -1.040834e-17 |  0.000000e+00 | 3.469447e-18  | -7.806256e-18 |  0.000000e+00 |  0.000000e+00 |  0.000000e+00 |  0.000000e+00 |  0.000000e+00 | -6.938894e-18 |\n",
       "| aai |  0.000000e+00 | -1.387779e-17 |  0.000000e+00 |  0.000000e+00 | 1.040834e-17  |  0.000000e+00 |  0.000000e+00 |  0.000000e+00 |  0.000000e+00 |  2.775558e-17 |  0.000000e+00 |  0.000000e+00 |\n",
       "| fev |  0.000000e+00 |  0.000000e+00 |  0.000000e+00 |  0.000000e+00 | 0.000000e+00  |  5.551115e-17 |  2.775558e-17 |  0.000000e+00 |  2.775558e-17 |  0.000000e+00 |  0.000000e+00 | -8.673617e-18 |\n",
       "| dsst |  0.000000e+00 |  6.938894e-18 |  6.938894e-18 |  3.361027e-18 | 0.000000e+00  |  0.000000e+00 | -3.469447e-18 |  0.000000e+00 |  0.000000e+00 |  0.000000e+00 |  0.000000e+00 |  1.127570e-17 |\n",
       "| atrophy |  0.000000e+00 | -2.775558e-17 |  0.000000e+00 |  1.387779e-17 | 0.000000e+00  |  0.000000e+00 |  0.000000e+00 | -6.938894e-18 |  0.000000e+00 | -8.673617e-18 |  1.127570e-17 |  0.000000e+00 |\n",
       "\n"
      ],
      "text/plain": [
       "        weight        height        physact       ldl           alb         \n",
       "weight   0.000000e+00  0.000000e+00  1.040834e-17 -3.903128e-18 1.387779e-17\n",
       "height   0.000000e+00  0.000000e+00  0.000000e+00  0.000000e+00 0.000000e+00\n",
       "physact  1.040834e-17  0.000000e+00  0.000000e+00  0.000000e+00 0.000000e+00\n",
       "ldl     -3.903128e-18  0.000000e+00  0.000000e+00  0.000000e+00 1.387779e-17\n",
       "alb      1.387779e-17  0.000000e+00  0.000000e+00  1.387779e-17 0.000000e+00\n",
       "crt      0.000000e+00 -5.551115e-17  0.000000e+00  0.000000e+00 0.000000e+00\n",
       "plt      2.775558e-17  0.000000e+00  3.469447e-18  0.000000e+00 0.000000e+00\n",
       "sbp      5.204170e-18  0.000000e+00 -1.040834e-17  0.000000e+00 3.469447e-18\n",
       "aai      0.000000e+00 -1.387779e-17  0.000000e+00  0.000000e+00 1.040834e-17\n",
       "fev      0.000000e+00  0.000000e+00  0.000000e+00  0.000000e+00 0.000000e+00\n",
       "dsst     0.000000e+00  6.938894e-18  6.938894e-18  3.361027e-18 0.000000e+00\n",
       "atrophy  0.000000e+00 -2.775558e-17  0.000000e+00  1.387779e-17 0.000000e+00\n",
       "        crt           plt           sbp           aai           fev          \n",
       "weight   0.000000e+00  2.775558e-17  5.204170e-18  0.000000e+00  0.000000e+00\n",
       "height  -5.551115e-17  0.000000e+00  0.000000e+00 -1.387779e-17  0.000000e+00\n",
       "physact  0.000000e+00  3.469447e-18 -1.040834e-17  0.000000e+00  0.000000e+00\n",
       "ldl      0.000000e+00  0.000000e+00  0.000000e+00  0.000000e+00  0.000000e+00\n",
       "alb      0.000000e+00  0.000000e+00  3.469447e-18  1.040834e-17  0.000000e+00\n",
       "crt      0.000000e+00  0.000000e+00 -7.806256e-18  0.000000e+00  5.551115e-17\n",
       "plt      0.000000e+00  0.000000e+00  0.000000e+00  0.000000e+00  2.775558e-17\n",
       "sbp     -7.806256e-18  0.000000e+00  0.000000e+00  0.000000e+00  0.000000e+00\n",
       "aai      0.000000e+00  0.000000e+00  0.000000e+00  0.000000e+00  2.775558e-17\n",
       "fev      5.551115e-17  2.775558e-17  0.000000e+00  2.775558e-17  0.000000e+00\n",
       "dsst     0.000000e+00 -3.469447e-18  0.000000e+00  0.000000e+00  0.000000e+00\n",
       "atrophy  0.000000e+00  0.000000e+00 -6.938894e-18  0.000000e+00 -8.673617e-18\n",
       "        dsst          atrophy      \n",
       "weight   0.000000e+00  0.000000e+00\n",
       "height   6.938894e-18 -2.775558e-17\n",
       "physact  6.938894e-18  0.000000e+00\n",
       "ldl      3.361027e-18  1.387779e-17\n",
       "alb      0.000000e+00  0.000000e+00\n",
       "crt      0.000000e+00  0.000000e+00\n",
       "plt     -3.469447e-18  0.000000e+00\n",
       "sbp      0.000000e+00 -6.938894e-18\n",
       "aai      0.000000e+00  0.000000e+00\n",
       "fev      0.000000e+00 -8.673617e-18\n",
       "dsst     0.000000e+00  1.127570e-17\n",
       "atrophy  1.127570e-17  0.000000e+00"
      ]
     },
     "metadata": {},
     "output_type": "display_data"
    }
   ],
   "source": [
    "res2 <- corr - (L2%*%t(L2)+errorCov2)\n",
    "res2"
   ]
  },
  {
   "cell_type": "markdown",
   "metadata": {},
   "source": [
    "#### ii. m = 3"
   ]
  },
  {
   "cell_type": "code",
   "execution_count": 6,
   "metadata": {},
   "outputs": [
    {
     "data": {
      "text/html": [
       "<table>\n",
       "<thead><tr><th></th><th scope=col>weight</th><th scope=col>height</th><th scope=col>physact</th><th scope=col>ldl</th><th scope=col>alb</th><th scope=col>crt</th><th scope=col>plt</th><th scope=col>sbp</th><th scope=col>aai</th><th scope=col>fev</th><th scope=col>dsst</th><th scope=col>atrophy</th></tr></thead>\n",
       "<tbody>\n",
       "\t<tr><th scope=row>weight</th><td> 0.000000e+00</td><td> 0.000000e+00</td><td>-3.469447e-18</td><td>-3.903128e-18</td><td> 1.387779e-17</td><td> 0.000000e+00</td><td> 2.775558e-17</td><td> 5.204170e-18</td><td> 0.000000e+00</td><td> 0.000000e+00</td><td>-6.938894e-18</td><td> 2.775558e-17</td></tr>\n",
       "\t<tr><th scope=row>height</th><td> 0.000000e+00</td><td> 0.000000e+00</td><td> 0.000000e+00</td><td> 0.000000e+00</td><td> 0.000000e+00</td><td>-5.551115e-17</td><td> 0.000000e+00</td><td> 0.000000e+00</td><td>-1.387779e-17</td><td> 0.000000e+00</td><td> 6.938894e-18</td><td>-2.775558e-17</td></tr>\n",
       "\t<tr><th scope=row>physact</th><td>-3.469447e-18</td><td> 0.000000e+00</td><td> 0.000000e+00</td><td>-6.938894e-18</td><td> 1.040834e-17</td><td> 0.000000e+00</td><td>-1.040834e-17</td><td>-1.040834e-17</td><td> 0.000000e+00</td><td> 0.000000e+00</td><td> 6.938894e-18</td><td> 0.000000e+00</td></tr>\n",
       "\t<tr><th scope=row>ldl</th><td>-3.903128e-18</td><td> 0.000000e+00</td><td>-6.938894e-18</td><td> 0.000000e+00</td><td> 0.000000e+00</td><td>-2.775558e-17</td><td> 0.000000e+00</td><td> 0.000000e+00</td><td> 0.000000e+00</td><td> 0.000000e+00</td><td>-3.577867e-18</td><td> 0.000000e+00</td></tr>\n",
       "\t<tr><th scope=row>alb</th><td> 1.387779e-17</td><td> 0.000000e+00</td><td> 1.040834e-17</td><td> 0.000000e+00</td><td> 0.000000e+00</td><td> 0.000000e+00</td><td> 0.000000e+00</td><td> 3.469447e-18</td><td>-3.469447e-18</td><td> 0.000000e+00</td><td> 1.387779e-17</td><td> 6.938894e-18</td></tr>\n",
       "\t<tr><th scope=row>crt</th><td> 0.000000e+00</td><td>-5.551115e-17</td><td> 0.000000e+00</td><td>-2.775558e-17</td><td> 0.000000e+00</td><td> 0.000000e+00</td><td> 0.000000e+00</td><td>-7.806256e-18</td><td> 0.000000e+00</td><td>-5.551115e-17</td><td> 0.000000e+00</td><td> 0.000000e+00</td></tr>\n",
       "\t<tr><th scope=row>plt</th><td> 2.775558e-17</td><td> 0.000000e+00</td><td>-1.040834e-17</td><td> 0.000000e+00</td><td> 0.000000e+00</td><td> 0.000000e+00</td><td> 0.000000e+00</td><td>-6.938894e-18</td><td> 0.000000e+00</td><td> 2.775558e-17</td><td> 0.000000e+00</td><td> 0.000000e+00</td></tr>\n",
       "\t<tr><th scope=row>sbp</th><td> 5.204170e-18</td><td> 0.000000e+00</td><td>-1.040834e-17</td><td> 0.000000e+00</td><td> 3.469447e-18</td><td>-7.806256e-18</td><td>-6.938894e-18</td><td> 0.000000e+00</td><td> 0.000000e+00</td><td> 0.000000e+00</td><td> 0.000000e+00</td><td>-6.938894e-18</td></tr>\n",
       "\t<tr><th scope=row>aai</th><td> 0.000000e+00</td><td>-1.387779e-17</td><td> 0.000000e+00</td><td> 0.000000e+00</td><td>-3.469447e-18</td><td> 0.000000e+00</td><td> 0.000000e+00</td><td> 0.000000e+00</td><td> 0.000000e+00</td><td> 2.775558e-17</td><td> 0.000000e+00</td><td> 0.000000e+00</td></tr>\n",
       "\t<tr><th scope=row>fev</th><td> 0.000000e+00</td><td> 0.000000e+00</td><td> 0.000000e+00</td><td> 0.000000e+00</td><td> 0.000000e+00</td><td>-5.551115e-17</td><td> 2.775558e-17</td><td> 0.000000e+00</td><td> 2.775558e-17</td><td> 0.000000e+00</td><td> 0.000000e+00</td><td>-8.673617e-18</td></tr>\n",
       "\t<tr><th scope=row>dsst</th><td>-6.938894e-18</td><td> 6.938894e-18</td><td> 6.938894e-18</td><td>-3.577867e-18</td><td> 1.387779e-17</td><td> 0.000000e+00</td><td> 0.000000e+00</td><td> 0.000000e+00</td><td> 0.000000e+00</td><td> 0.000000e+00</td><td> 0.000000e+00</td><td> 1.127570e-17</td></tr>\n",
       "\t<tr><th scope=row>atrophy</th><td> 2.775558e-17</td><td>-2.775558e-17</td><td> 0.000000e+00</td><td> 0.000000e+00</td><td> 6.938894e-18</td><td> 0.000000e+00</td><td> 0.000000e+00</td><td>-6.938894e-18</td><td> 0.000000e+00</td><td>-8.673617e-18</td><td> 1.127570e-17</td><td> 0.000000e+00</td></tr>\n",
       "</tbody>\n",
       "</table>\n"
      ],
      "text/latex": [
       "\\begin{tabular}{r|llllllllllll}\n",
       "  & weight & height & physact & ldl & alb & crt & plt & sbp & aai & fev & dsst & atrophy\\\\\n",
       "\\hline\n",
       "\tweight &  0.000000e+00 &  0.000000e+00 & -3.469447e-18 & -3.903128e-18 &  1.387779e-17 &  0.000000e+00 &  2.775558e-17 &  5.204170e-18 &  0.000000e+00 &  0.000000e+00 & -6.938894e-18 &  2.775558e-17\\\\\n",
       "\theight &  0.000000e+00 &  0.000000e+00 &  0.000000e+00 &  0.000000e+00 &  0.000000e+00 & -5.551115e-17 &  0.000000e+00 &  0.000000e+00 & -1.387779e-17 &  0.000000e+00 &  6.938894e-18 & -2.775558e-17\\\\\n",
       "\tphysact & -3.469447e-18 &  0.000000e+00 &  0.000000e+00 & -6.938894e-18 &  1.040834e-17 &  0.000000e+00 & -1.040834e-17 & -1.040834e-17 &  0.000000e+00 &  0.000000e+00 &  6.938894e-18 &  0.000000e+00\\\\\n",
       "\tldl & -3.903128e-18 &  0.000000e+00 & -6.938894e-18 &  0.000000e+00 &  0.000000e+00 & -2.775558e-17 &  0.000000e+00 &  0.000000e+00 &  0.000000e+00 &  0.000000e+00 & -3.577867e-18 &  0.000000e+00\\\\\n",
       "\talb &  1.387779e-17 &  0.000000e+00 &  1.040834e-17 &  0.000000e+00 &  0.000000e+00 &  0.000000e+00 &  0.000000e+00 &  3.469447e-18 & -3.469447e-18 &  0.000000e+00 &  1.387779e-17 &  6.938894e-18\\\\\n",
       "\tcrt &  0.000000e+00 & -5.551115e-17 &  0.000000e+00 & -2.775558e-17 &  0.000000e+00 &  0.000000e+00 &  0.000000e+00 & -7.806256e-18 &  0.000000e+00 & -5.551115e-17 &  0.000000e+00 &  0.000000e+00\\\\\n",
       "\tplt &  2.775558e-17 &  0.000000e+00 & -1.040834e-17 &  0.000000e+00 &  0.000000e+00 &  0.000000e+00 &  0.000000e+00 & -6.938894e-18 &  0.000000e+00 &  2.775558e-17 &  0.000000e+00 &  0.000000e+00\\\\\n",
       "\tsbp &  5.204170e-18 &  0.000000e+00 & -1.040834e-17 &  0.000000e+00 &  3.469447e-18 & -7.806256e-18 & -6.938894e-18 &  0.000000e+00 &  0.000000e+00 &  0.000000e+00 &  0.000000e+00 & -6.938894e-18\\\\\n",
       "\taai &  0.000000e+00 & -1.387779e-17 &  0.000000e+00 &  0.000000e+00 & -3.469447e-18 &  0.000000e+00 &  0.000000e+00 &  0.000000e+00 &  0.000000e+00 &  2.775558e-17 &  0.000000e+00 &  0.000000e+00\\\\\n",
       "\tfev &  0.000000e+00 &  0.000000e+00 &  0.000000e+00 &  0.000000e+00 &  0.000000e+00 & -5.551115e-17 &  2.775558e-17 &  0.000000e+00 &  2.775558e-17 &  0.000000e+00 &  0.000000e+00 & -8.673617e-18\\\\\n",
       "\tdsst & -6.938894e-18 &  6.938894e-18 &  6.938894e-18 & -3.577867e-18 &  1.387779e-17 &  0.000000e+00 &  0.000000e+00 &  0.000000e+00 &  0.000000e+00 &  0.000000e+00 &  0.000000e+00 &  1.127570e-17\\\\\n",
       "\tatrophy &  2.775558e-17 & -2.775558e-17 &  0.000000e+00 &  0.000000e+00 &  6.938894e-18 &  0.000000e+00 &  0.000000e+00 & -6.938894e-18 &  0.000000e+00 & -8.673617e-18 &  1.127570e-17 &  0.000000e+00\\\\\n",
       "\\end{tabular}\n"
      ],
      "text/markdown": [
       "\n",
       "| <!--/--> | weight | height | physact | ldl | alb | crt | plt | sbp | aai | fev | dsst | atrophy |\n",
       "|---|---|---|---|---|---|---|---|---|---|---|---|---|\n",
       "| weight |  0.000000e+00 |  0.000000e+00 | -3.469447e-18 | -3.903128e-18 |  1.387779e-17 |  0.000000e+00 |  2.775558e-17 |  5.204170e-18 |  0.000000e+00 |  0.000000e+00 | -6.938894e-18 |  2.775558e-17 |\n",
       "| height |  0.000000e+00 |  0.000000e+00 |  0.000000e+00 |  0.000000e+00 |  0.000000e+00 | -5.551115e-17 |  0.000000e+00 |  0.000000e+00 | -1.387779e-17 |  0.000000e+00 |  6.938894e-18 | -2.775558e-17 |\n",
       "| physact | -3.469447e-18 |  0.000000e+00 |  0.000000e+00 | -6.938894e-18 |  1.040834e-17 |  0.000000e+00 | -1.040834e-17 | -1.040834e-17 |  0.000000e+00 |  0.000000e+00 |  6.938894e-18 |  0.000000e+00 |\n",
       "| ldl | -3.903128e-18 |  0.000000e+00 | -6.938894e-18 |  0.000000e+00 |  0.000000e+00 | -2.775558e-17 |  0.000000e+00 |  0.000000e+00 |  0.000000e+00 |  0.000000e+00 | -3.577867e-18 |  0.000000e+00 |\n",
       "| alb |  1.387779e-17 |  0.000000e+00 |  1.040834e-17 |  0.000000e+00 |  0.000000e+00 |  0.000000e+00 |  0.000000e+00 |  3.469447e-18 | -3.469447e-18 |  0.000000e+00 |  1.387779e-17 |  6.938894e-18 |\n",
       "| crt |  0.000000e+00 | -5.551115e-17 |  0.000000e+00 | -2.775558e-17 |  0.000000e+00 |  0.000000e+00 |  0.000000e+00 | -7.806256e-18 |  0.000000e+00 | -5.551115e-17 |  0.000000e+00 |  0.000000e+00 |\n",
       "| plt |  2.775558e-17 |  0.000000e+00 | -1.040834e-17 |  0.000000e+00 |  0.000000e+00 |  0.000000e+00 |  0.000000e+00 | -6.938894e-18 |  0.000000e+00 |  2.775558e-17 |  0.000000e+00 |  0.000000e+00 |\n",
       "| sbp |  5.204170e-18 |  0.000000e+00 | -1.040834e-17 |  0.000000e+00 |  3.469447e-18 | -7.806256e-18 | -6.938894e-18 |  0.000000e+00 |  0.000000e+00 |  0.000000e+00 |  0.000000e+00 | -6.938894e-18 |\n",
       "| aai |  0.000000e+00 | -1.387779e-17 |  0.000000e+00 |  0.000000e+00 | -3.469447e-18 |  0.000000e+00 |  0.000000e+00 |  0.000000e+00 |  0.000000e+00 |  2.775558e-17 |  0.000000e+00 |  0.000000e+00 |\n",
       "| fev |  0.000000e+00 |  0.000000e+00 |  0.000000e+00 |  0.000000e+00 |  0.000000e+00 | -5.551115e-17 |  2.775558e-17 |  0.000000e+00 |  2.775558e-17 |  0.000000e+00 |  0.000000e+00 | -8.673617e-18 |\n",
       "| dsst | -6.938894e-18 |  6.938894e-18 |  6.938894e-18 | -3.577867e-18 |  1.387779e-17 |  0.000000e+00 |  0.000000e+00 |  0.000000e+00 |  0.000000e+00 |  0.000000e+00 |  0.000000e+00 |  1.127570e-17 |\n",
       "| atrophy |  2.775558e-17 | -2.775558e-17 |  0.000000e+00 |  0.000000e+00 |  6.938894e-18 |  0.000000e+00 |  0.000000e+00 | -6.938894e-18 |  0.000000e+00 | -8.673617e-18 |  1.127570e-17 |  0.000000e+00 |\n",
       "\n"
      ],
      "text/plain": [
       "        weight        height        physact       ldl           alb          \n",
       "weight   0.000000e+00  0.000000e+00 -3.469447e-18 -3.903128e-18  1.387779e-17\n",
       "height   0.000000e+00  0.000000e+00  0.000000e+00  0.000000e+00  0.000000e+00\n",
       "physact -3.469447e-18  0.000000e+00  0.000000e+00 -6.938894e-18  1.040834e-17\n",
       "ldl     -3.903128e-18  0.000000e+00 -6.938894e-18  0.000000e+00  0.000000e+00\n",
       "alb      1.387779e-17  0.000000e+00  1.040834e-17  0.000000e+00  0.000000e+00\n",
       "crt      0.000000e+00 -5.551115e-17  0.000000e+00 -2.775558e-17  0.000000e+00\n",
       "plt      2.775558e-17  0.000000e+00 -1.040834e-17  0.000000e+00  0.000000e+00\n",
       "sbp      5.204170e-18  0.000000e+00 -1.040834e-17  0.000000e+00  3.469447e-18\n",
       "aai      0.000000e+00 -1.387779e-17  0.000000e+00  0.000000e+00 -3.469447e-18\n",
       "fev      0.000000e+00  0.000000e+00  0.000000e+00  0.000000e+00  0.000000e+00\n",
       "dsst    -6.938894e-18  6.938894e-18  6.938894e-18 -3.577867e-18  1.387779e-17\n",
       "atrophy  2.775558e-17 -2.775558e-17  0.000000e+00  0.000000e+00  6.938894e-18\n",
       "        crt           plt           sbp           aai           fev          \n",
       "weight   0.000000e+00  2.775558e-17  5.204170e-18  0.000000e+00  0.000000e+00\n",
       "height  -5.551115e-17  0.000000e+00  0.000000e+00 -1.387779e-17  0.000000e+00\n",
       "physact  0.000000e+00 -1.040834e-17 -1.040834e-17  0.000000e+00  0.000000e+00\n",
       "ldl     -2.775558e-17  0.000000e+00  0.000000e+00  0.000000e+00  0.000000e+00\n",
       "alb      0.000000e+00  0.000000e+00  3.469447e-18 -3.469447e-18  0.000000e+00\n",
       "crt      0.000000e+00  0.000000e+00 -7.806256e-18  0.000000e+00 -5.551115e-17\n",
       "plt      0.000000e+00  0.000000e+00 -6.938894e-18  0.000000e+00  2.775558e-17\n",
       "sbp     -7.806256e-18 -6.938894e-18  0.000000e+00  0.000000e+00  0.000000e+00\n",
       "aai      0.000000e+00  0.000000e+00  0.000000e+00  0.000000e+00  2.775558e-17\n",
       "fev     -5.551115e-17  2.775558e-17  0.000000e+00  2.775558e-17  0.000000e+00\n",
       "dsst     0.000000e+00  0.000000e+00  0.000000e+00  0.000000e+00  0.000000e+00\n",
       "atrophy  0.000000e+00  0.000000e+00 -6.938894e-18  0.000000e+00 -8.673617e-18\n",
       "        dsst          atrophy      \n",
       "weight  -6.938894e-18  2.775558e-17\n",
       "height   6.938894e-18 -2.775558e-17\n",
       "physact  6.938894e-18  0.000000e+00\n",
       "ldl     -3.577867e-18  0.000000e+00\n",
       "alb      1.387779e-17  6.938894e-18\n",
       "crt      0.000000e+00  0.000000e+00\n",
       "plt      0.000000e+00  0.000000e+00\n",
       "sbp      0.000000e+00 -6.938894e-18\n",
       "aai      0.000000e+00  0.000000e+00\n",
       "fev      0.000000e+00 -8.673617e-18\n",
       "dsst     0.000000e+00  1.127570e-17\n",
       "atrophy  1.127570e-17  0.000000e+00"
      ]
     },
     "metadata": {},
     "output_type": "display_data"
    }
   ],
   "source": [
    "res3 <- corr - (L3%*%t(L3)+errorCov3)\n",
    "res3"
   ]
  },
  {
   "cell_type": "markdown",
   "metadata": {},
   "source": [
    "### (4c)"
   ]
  },
  {
   "cell_type": "markdown",
   "metadata": {},
   "source": [
    "#### i. m = 2"
   ]
  },
  {
   "cell_type": "code",
   "execution_count": 9,
   "metadata": {},
   "outputs": [
    {
     "data": {
      "text/plain": [
       "\n",
       "Call:\n",
       "factanal(factors = 2, covmat = corr, rotation = \"none\")\n",
       "\n",
       "Uniquenesses:\n",
       " weight  height physact     ldl     alb     crt     plt     sbp     aai     fev \n",
       "  0.675   0.084   0.988   0.974   0.990   0.828   0.903   0.801   0.526   0.569 \n",
       "   dsst atrophy \n",
       "  0.883   0.960 \n",
       "\n",
       "Loadings:\n",
       "        Factor1 Factor2\n",
       "weight   0.570         \n",
       "height   0.956         \n",
       "physact                \n",
       "ldl     -0.160         \n",
       "alb                    \n",
       "crt      0.385  -0.154 \n",
       "plt     -0.310         \n",
       "sbp             -0.438 \n",
       "aai      0.105   0.681 \n",
       "fev      0.610   0.241 \n",
       "dsst             0.340 \n",
       "atrophy  0.121  -0.160 \n",
       "\n",
       "               Factor1 Factor2\n",
       "SS loadings      1.930   0.889\n",
       "Proportion Var   0.161   0.074\n",
       "Cumulative Var   0.161   0.235\n",
       "\n",
       "The degrees of freedom for the model is 43 and the fit was 0.1927 "
      ]
     },
     "metadata": {},
     "output_type": "display_data"
    }
   ],
   "source": [
    "mlfa2 <- factanal(covmat=corr, factors=2, rotation=\"none\")\n",
    "mlfa2"
   ]
  },
  {
   "cell_type": "markdown",
   "metadata": {},
   "source": [
    "**Factor 1** correlates with the **size** of the subject. Factor 2 shows a contrast between **systolic blood pressure** and **arm-to-length blood pressure ratio**."
   ]
  },
  {
   "cell_type": "markdown",
   "metadata": {},
   "source": [
    "#### ii. m = 3"
   ]
  },
  {
   "cell_type": "code",
   "execution_count": 10,
   "metadata": {},
   "outputs": [
    {
     "data": {
      "text/plain": [
       "\n",
       "Call:\n",
       "factanal(factors = 3, covmat = corr, rotation = \"none\")\n",
       "\n",
       "Uniquenesses:\n",
       " weight  height physact     ldl     alb     crt     plt     sbp     aai     fev \n",
       "  0.659   0.097   0.988   0.005   0.969   0.821   0.881   0.800   0.517   0.564 \n",
       "   dsst atrophy \n",
       "  0.884   0.960 \n",
       "\n",
       "Loadings:\n",
       "        Factor1 Factor2 Factor3\n",
       "weight   0.584                 \n",
       "height   0.935  -0.165         \n",
       "physact                        \n",
       "ldl              0.997         \n",
       "alb      0.119   0.124         \n",
       "crt      0.369  -0.135  -0.158 \n",
       "plt     -0.281   0.200         \n",
       "sbp                     -0.437 \n",
       "aai      0.102           0.685 \n",
       "fev      0.613           0.235 \n",
       "dsst                     0.337 \n",
       "atrophy  0.119          -0.160 \n",
       "\n",
       "               Factor1 Factor2 Factor3\n",
       "SS loadings      1.858   1.106   0.891\n",
       "Proportion Var   0.155   0.092   0.074\n",
       "Cumulative Var   0.155   0.247   0.321\n",
       "\n",
       "The degrees of freedom for the model is 33 and the fit was 0.1187 "
      ]
     },
     "metadata": {},
     "output_type": "display_data"
    }
   ],
   "source": [
    "mlfa3 <- factanal(covmat=corr, factors=3, rotation=\"none\")\n",
    "mlfa3"
   ]
  },
  {
   "cell_type": "markdown",
   "metadata": {},
   "source": [
    "**Factor 1** correlates with the **size** of the subject. Factor 2 correlates with **cholesterol level** in the subject's blood. Factor 3 shows a contrast between **systolic blood pressure** and **arm-to-length blood pressure ratio**."
   ]
  },
  {
   "cell_type": "markdown",
   "metadata": {},
   "source": [
    "### (4d)"
   ]
  },
  {
   "cell_type": "markdown",
   "metadata": {},
   "source": [
    "#### i. m = 2"
   ]
  },
  {
   "cell_type": "code",
   "execution_count": 11,
   "metadata": {},
   "outputs": [
    {
     "data": {
      "text/html": [
       "<table>\n",
       "<thead><tr><th></th><th scope=col>weight</th><th scope=col>height</th><th scope=col>physact</th><th scope=col>ldl</th><th scope=col>alb</th><th scope=col>crt</th><th scope=col>plt</th><th scope=col>sbp</th><th scope=col>aai</th><th scope=col>fev</th><th scope=col>dsst</th><th scope=col>atrophy</th></tr></thead>\n",
       "<tbody>\n",
       "\t<tr><th scope=row>weight</th><td>-2.295501e-06</td><td> 2.316174e-03</td><td>-6.600738e-02</td><td> 9.474229e-02</td><td>-6.364201e-03</td><td> 3.444910e-02</td><td> 2.744664e-02</td><td> 5.876081e-02</td><td> 2.805056e-02</td><td>-1.168937e-02</td><td> 3.688456e-02</td><td>-4.485594e-03</td></tr>\n",
       "\t<tr><th scope=row>height</th><td> 2.316174e-03</td><td> 5.795176e-08</td><td> 4.071739e-03</td><td>-3.665135e-03</td><td> 4.081529e-04</td><td>-8.229091e-03</td><td> 1.002223e-03</td><td>-8.040394e-03</td><td>-4.595808e-03</td><td> 1.341863e-03</td><td>-2.267373e-03</td><td> 7.105641e-05</td></tr>\n",
       "\t<tr><th scope=row>physact</th><td>-6.600738e-02</td><td> 4.071739e-03</td><td>-4.414328e-07</td><td>-2.110953e-02</td><td> 5.157061e-03</td><td>-3.857461e-02</td><td> 1.400327e-02</td><td> 4.604408e-02</td><td> 1.118192e-02</td><td> 4.041874e-02</td><td>-6.381315e-02</td><td>-7.647922e-02</td></tr>\n",
       "\t<tr><th scope=row>ldl</th><td> 9.474229e-02</td><td>-3.665135e-03</td><td>-2.110953e-02</td><td> 1.515341e-07</td><td> 1.394198e-01</td><td>-6.982532e-02</td><td> 1.472004e-01</td><td>-4.377930e-02</td><td>-4.186461e-02</td><td> 3.369120e-02</td><td> 6.538309e-03</td><td> 7.147184e-04</td></tr>\n",
       "\t<tr><th scope=row>alb</th><td>-6.364201e-03</td><td> 4.081529e-04</td><td> 5.157061e-03</td><td> 1.394198e-01</td><td>-3.679141e-07</td><td> 1.442844e-02</td><td>-3.435965e-02</td><td> 8.276838e-03</td><td>-5.241403e-03</td><td>-7.839537e-04</td><td> 5.216409e-02</td><td> 4.267490e-02</td></tr>\n",
       "\t<tr><th scope=row>crt</th><td> 3.444910e-02</td><td>-8.229091e-03</td><td>-3.857461e-02</td><td>-6.982532e-02</td><td> 1.442844e-02</td><td> 2.907133e-06</td><td>-3.956903e-02</td><td>-3.556760e-02</td><td> 1.837698e-02</td><td> 2.507144e-02</td><td>-1.080193e-01</td><td> 8.309776e-02</td></tr>\n",
       "\t<tr><th scope=row>plt</th><td> 2.744664e-02</td><td> 1.002223e-03</td><td> 1.400327e-02</td><td> 1.472004e-01</td><td>-3.435965e-02</td><td>-3.956903e-02</td><td> 2.774056e-06</td><td>-7.107719e-03</td><td>-2.818814e-02</td><td> 1.605121e-02</td><td> 3.696668e-02</td><td>-2.852986e-02</td></tr>\n",
       "\t<tr><th scope=row>sbp</th><td> 5.876081e-02</td><td>-8.040394e-03</td><td> 4.604408e-02</td><td>-4.377930e-02</td><td> 8.276838e-03</td><td>-3.556760e-02</td><td>-7.107719e-03</td><td> 3.996594e-07</td><td>-2.291624e-02</td><td> 4.608291e-02</td><td>-1.042492e-02</td><td> 1.028431e-03</td></tr>\n",
       "\t<tr><th scope=row>aai</th><td> 2.805056e-02</td><td>-4.595808e-03</td><td> 1.118192e-02</td><td>-4.186461e-02</td><td>-5.241403e-03</td><td> 1.837698e-02</td><td>-2.818814e-02</td><td>-2.291624e-02</td><td> 1.046105e-06</td><td>-3.191507e-05</td><td>-2.647690e-02</td><td> 1.386842e-02</td></tr>\n",
       "\t<tr><th scope=row>fev</th><td>-1.168937e-02</td><td> 1.341863e-03</td><td> 4.041874e-02</td><td> 3.369120e-02</td><td>-7.839537e-04</td><td> 2.507144e-02</td><td> 1.605121e-02</td><td> 4.608291e-02</td><td>-3.191507e-05</td><td> 6.081541e-06</td><td> 5.121941e-02</td><td>-4.580250e-02</td></tr>\n",
       "\t<tr><th scope=row>dsst</th><td> 3.688456e-02</td><td>-2.267373e-03</td><td>-6.381315e-02</td><td> 6.538309e-03</td><td> 5.216409e-02</td><td>-1.080193e-01</td><td> 3.696668e-02</td><td>-1.042492e-02</td><td>-2.647690e-02</td><td> 5.121941e-02</td><td>-3.194237e-07</td><td> 5.637991e-02</td></tr>\n",
       "\t<tr><th scope=row>atrophy</th><td>-4.485594e-03</td><td> 7.105641e-05</td><td>-7.647922e-02</td><td> 7.147184e-04</td><td> 4.267490e-02</td><td> 8.309776e-02</td><td>-2.852986e-02</td><td> 1.028431e-03</td><td> 1.386842e-02</td><td>-4.580250e-02</td><td> 5.637991e-02</td><td>-9.733176e-07</td></tr>\n",
       "</tbody>\n",
       "</table>\n"
      ],
      "text/latex": [
       "\\begin{tabular}{r|llllllllllll}\n",
       "  & weight & height & physact & ldl & alb & crt & plt & sbp & aai & fev & dsst & atrophy\\\\\n",
       "\\hline\n",
       "\tweight & -2.295501e-06 &  2.316174e-03 & -6.600738e-02 &  9.474229e-02 & -6.364201e-03 &  3.444910e-02 &  2.744664e-02 &  5.876081e-02 &  2.805056e-02 & -1.168937e-02 &  3.688456e-02 & -4.485594e-03\\\\\n",
       "\theight &  2.316174e-03 &  5.795176e-08 &  4.071739e-03 & -3.665135e-03 &  4.081529e-04 & -8.229091e-03 &  1.002223e-03 & -8.040394e-03 & -4.595808e-03 &  1.341863e-03 & -2.267373e-03 &  7.105641e-05\\\\\n",
       "\tphysact & -6.600738e-02 &  4.071739e-03 & -4.414328e-07 & -2.110953e-02 &  5.157061e-03 & -3.857461e-02 &  1.400327e-02 &  4.604408e-02 &  1.118192e-02 &  4.041874e-02 & -6.381315e-02 & -7.647922e-02\\\\\n",
       "\tldl &  9.474229e-02 & -3.665135e-03 & -2.110953e-02 &  1.515341e-07 &  1.394198e-01 & -6.982532e-02 &  1.472004e-01 & -4.377930e-02 & -4.186461e-02 &  3.369120e-02 &  6.538309e-03 &  7.147184e-04\\\\\n",
       "\talb & -6.364201e-03 &  4.081529e-04 &  5.157061e-03 &  1.394198e-01 & -3.679141e-07 &  1.442844e-02 & -3.435965e-02 &  8.276838e-03 & -5.241403e-03 & -7.839537e-04 &  5.216409e-02 &  4.267490e-02\\\\\n",
       "\tcrt &  3.444910e-02 & -8.229091e-03 & -3.857461e-02 & -6.982532e-02 &  1.442844e-02 &  2.907133e-06 & -3.956903e-02 & -3.556760e-02 &  1.837698e-02 &  2.507144e-02 & -1.080193e-01 &  8.309776e-02\\\\\n",
       "\tplt &  2.744664e-02 &  1.002223e-03 &  1.400327e-02 &  1.472004e-01 & -3.435965e-02 & -3.956903e-02 &  2.774056e-06 & -7.107719e-03 & -2.818814e-02 &  1.605121e-02 &  3.696668e-02 & -2.852986e-02\\\\\n",
       "\tsbp &  5.876081e-02 & -8.040394e-03 &  4.604408e-02 & -4.377930e-02 &  8.276838e-03 & -3.556760e-02 & -7.107719e-03 &  3.996594e-07 & -2.291624e-02 &  4.608291e-02 & -1.042492e-02 &  1.028431e-03\\\\\n",
       "\taai &  2.805056e-02 & -4.595808e-03 &  1.118192e-02 & -4.186461e-02 & -5.241403e-03 &  1.837698e-02 & -2.818814e-02 & -2.291624e-02 &  1.046105e-06 & -3.191507e-05 & -2.647690e-02 &  1.386842e-02\\\\\n",
       "\tfev & -1.168937e-02 &  1.341863e-03 &  4.041874e-02 &  3.369120e-02 & -7.839537e-04 &  2.507144e-02 &  1.605121e-02 &  4.608291e-02 & -3.191507e-05 &  6.081541e-06 &  5.121941e-02 & -4.580250e-02\\\\\n",
       "\tdsst &  3.688456e-02 & -2.267373e-03 & -6.381315e-02 &  6.538309e-03 &  5.216409e-02 & -1.080193e-01 &  3.696668e-02 & -1.042492e-02 & -2.647690e-02 &  5.121941e-02 & -3.194237e-07 &  5.637991e-02\\\\\n",
       "\tatrophy & -4.485594e-03 &  7.105641e-05 & -7.647922e-02 &  7.147184e-04 &  4.267490e-02 &  8.309776e-02 & -2.852986e-02 &  1.028431e-03 &  1.386842e-02 & -4.580250e-02 &  5.637991e-02 & -9.733176e-07\\\\\n",
       "\\end{tabular}\n"
      ],
      "text/markdown": [
       "\n",
       "| <!--/--> | weight | height | physact | ldl | alb | crt | plt | sbp | aai | fev | dsst | atrophy |\n",
       "|---|---|---|---|---|---|---|---|---|---|---|---|---|\n",
       "| weight | -2.295501e-06 |  2.316174e-03 | -6.600738e-02 |  9.474229e-02 | -6.364201e-03 |  3.444910e-02 |  2.744664e-02 |  5.876081e-02 |  2.805056e-02 | -1.168937e-02 |  3.688456e-02 | -4.485594e-03 |\n",
       "| height |  2.316174e-03 |  5.795176e-08 |  4.071739e-03 | -3.665135e-03 |  4.081529e-04 | -8.229091e-03 |  1.002223e-03 | -8.040394e-03 | -4.595808e-03 |  1.341863e-03 | -2.267373e-03 |  7.105641e-05 |\n",
       "| physact | -6.600738e-02 |  4.071739e-03 | -4.414328e-07 | -2.110953e-02 |  5.157061e-03 | -3.857461e-02 |  1.400327e-02 |  4.604408e-02 |  1.118192e-02 |  4.041874e-02 | -6.381315e-02 | -7.647922e-02 |\n",
       "| ldl |  9.474229e-02 | -3.665135e-03 | -2.110953e-02 |  1.515341e-07 |  1.394198e-01 | -6.982532e-02 |  1.472004e-01 | -4.377930e-02 | -4.186461e-02 |  3.369120e-02 |  6.538309e-03 |  7.147184e-04 |\n",
       "| alb | -6.364201e-03 |  4.081529e-04 |  5.157061e-03 |  1.394198e-01 | -3.679141e-07 |  1.442844e-02 | -3.435965e-02 |  8.276838e-03 | -5.241403e-03 | -7.839537e-04 |  5.216409e-02 |  4.267490e-02 |\n",
       "| crt |  3.444910e-02 | -8.229091e-03 | -3.857461e-02 | -6.982532e-02 |  1.442844e-02 |  2.907133e-06 | -3.956903e-02 | -3.556760e-02 |  1.837698e-02 |  2.507144e-02 | -1.080193e-01 |  8.309776e-02 |\n",
       "| plt |  2.744664e-02 |  1.002223e-03 |  1.400327e-02 |  1.472004e-01 | -3.435965e-02 | -3.956903e-02 |  2.774056e-06 | -7.107719e-03 | -2.818814e-02 |  1.605121e-02 |  3.696668e-02 | -2.852986e-02 |\n",
       "| sbp |  5.876081e-02 | -8.040394e-03 |  4.604408e-02 | -4.377930e-02 |  8.276838e-03 | -3.556760e-02 | -7.107719e-03 |  3.996594e-07 | -2.291624e-02 |  4.608291e-02 | -1.042492e-02 |  1.028431e-03 |\n",
       "| aai |  2.805056e-02 | -4.595808e-03 |  1.118192e-02 | -4.186461e-02 | -5.241403e-03 |  1.837698e-02 | -2.818814e-02 | -2.291624e-02 |  1.046105e-06 | -3.191507e-05 | -2.647690e-02 |  1.386842e-02 |\n",
       "| fev | -1.168937e-02 |  1.341863e-03 |  4.041874e-02 |  3.369120e-02 | -7.839537e-04 |  2.507144e-02 |  1.605121e-02 |  4.608291e-02 | -3.191507e-05 |  6.081541e-06 |  5.121941e-02 | -4.580250e-02 |\n",
       "| dsst |  3.688456e-02 | -2.267373e-03 | -6.381315e-02 |  6.538309e-03 |  5.216409e-02 | -1.080193e-01 |  3.696668e-02 | -1.042492e-02 | -2.647690e-02 |  5.121941e-02 | -3.194237e-07 |  5.637991e-02 |\n",
       "| atrophy | -4.485594e-03 |  7.105641e-05 | -7.647922e-02 |  7.147184e-04 |  4.267490e-02 |  8.309776e-02 | -2.852986e-02 |  1.028431e-03 |  1.386842e-02 | -4.580250e-02 |  5.637991e-02 | -9.733176e-07 |\n",
       "\n"
      ],
      "text/plain": [
       "        weight        height        physact       ldl           alb          \n",
       "weight  -2.295501e-06  2.316174e-03 -6.600738e-02  9.474229e-02 -6.364201e-03\n",
       "height   2.316174e-03  5.795176e-08  4.071739e-03 -3.665135e-03  4.081529e-04\n",
       "physact -6.600738e-02  4.071739e-03 -4.414328e-07 -2.110953e-02  5.157061e-03\n",
       "ldl      9.474229e-02 -3.665135e-03 -2.110953e-02  1.515341e-07  1.394198e-01\n",
       "alb     -6.364201e-03  4.081529e-04  5.157061e-03  1.394198e-01 -3.679141e-07\n",
       "crt      3.444910e-02 -8.229091e-03 -3.857461e-02 -6.982532e-02  1.442844e-02\n",
       "plt      2.744664e-02  1.002223e-03  1.400327e-02  1.472004e-01 -3.435965e-02\n",
       "sbp      5.876081e-02 -8.040394e-03  4.604408e-02 -4.377930e-02  8.276838e-03\n",
       "aai      2.805056e-02 -4.595808e-03  1.118192e-02 -4.186461e-02 -5.241403e-03\n",
       "fev     -1.168937e-02  1.341863e-03  4.041874e-02  3.369120e-02 -7.839537e-04\n",
       "dsst     3.688456e-02 -2.267373e-03 -6.381315e-02  6.538309e-03  5.216409e-02\n",
       "atrophy -4.485594e-03  7.105641e-05 -7.647922e-02  7.147184e-04  4.267490e-02\n",
       "        crt           plt           sbp           aai           fev          \n",
       "weight   3.444910e-02  2.744664e-02  5.876081e-02  2.805056e-02 -1.168937e-02\n",
       "height  -8.229091e-03  1.002223e-03 -8.040394e-03 -4.595808e-03  1.341863e-03\n",
       "physact -3.857461e-02  1.400327e-02  4.604408e-02  1.118192e-02  4.041874e-02\n",
       "ldl     -6.982532e-02  1.472004e-01 -4.377930e-02 -4.186461e-02  3.369120e-02\n",
       "alb      1.442844e-02 -3.435965e-02  8.276838e-03 -5.241403e-03 -7.839537e-04\n",
       "crt      2.907133e-06 -3.956903e-02 -3.556760e-02  1.837698e-02  2.507144e-02\n",
       "plt     -3.956903e-02  2.774056e-06 -7.107719e-03 -2.818814e-02  1.605121e-02\n",
       "sbp     -3.556760e-02 -7.107719e-03  3.996594e-07 -2.291624e-02  4.608291e-02\n",
       "aai      1.837698e-02 -2.818814e-02 -2.291624e-02  1.046105e-06 -3.191507e-05\n",
       "fev      2.507144e-02  1.605121e-02  4.608291e-02 -3.191507e-05  6.081541e-06\n",
       "dsst    -1.080193e-01  3.696668e-02 -1.042492e-02 -2.647690e-02  5.121941e-02\n",
       "atrophy  8.309776e-02 -2.852986e-02  1.028431e-03  1.386842e-02 -4.580250e-02\n",
       "        dsst          atrophy      \n",
       "weight   3.688456e-02 -4.485594e-03\n",
       "height  -2.267373e-03  7.105641e-05\n",
       "physact -6.381315e-02 -7.647922e-02\n",
       "ldl      6.538309e-03  7.147184e-04\n",
       "alb      5.216409e-02  4.267490e-02\n",
       "crt     -1.080193e-01  8.309776e-02\n",
       "plt      3.696668e-02 -2.852986e-02\n",
       "sbp     -1.042492e-02  1.028431e-03\n",
       "aai     -2.647690e-02  1.386842e-02\n",
       "fev      5.121941e-02 -4.580250e-02\n",
       "dsst    -3.194237e-07  5.637991e-02\n",
       "atrophy  5.637991e-02 -9.733176e-07"
      ]
     },
     "metadata": {},
     "output_type": "display_data"
    }
   ],
   "source": [
    "mle2Fit <- mlfa2$load %*% t(mlfa2$load) + diag(mlfa2$uni)\n",
    "mle2Res <- corr - mle2Fit\n",
    "mle2Res"
   ]
  },
  {
   "cell_type": "markdown",
   "metadata": {},
   "source": [
    "#### ii. m = 3"
   ]
  },
  {
   "cell_type": "code",
   "execution_count": 12,
   "metadata": {},
   "outputs": [
    {
     "data": {
      "text/html": [
       "<table>\n",
       "<thead><tr><th></th><th scope=col>weight</th><th scope=col>height</th><th scope=col>physact</th><th scope=col>ldl</th><th scope=col>alb</th><th scope=col>crt</th><th scope=col>plt</th><th scope=col>sbp</th><th scope=col>aai</th><th scope=col>fev</th><th scope=col>dsst</th><th scope=col>atrophy</th></tr></thead>\n",
       "<tbody>\n",
       "\t<tr><th scope=row>weight</th><td> 1.769072e-06</td><td> 1.715552e-03</td><td>-6.367751e-02</td><td> 4.930838e-05</td><td>-2.203323e-02</td><td> 3.741820e-02</td><td> 1.466025e-02</td><td> 6.251392e-02</td><td> 3.219461e-02</td><td>-2.015677e-02</td><td> 3.581256e-02</td><td>-5.758711e-03</td></tr>\n",
       "\t<tr><th scope=row>height</th><td> 1.715552e-03</td><td>-1.434591e-07</td><td> 5.151534e-03</td><td>-8.841224e-06</td><td>-7.031566e-04</td><td>-8.562872e-03</td><td>-1.919501e-04</td><td>-9.205252e-03</td><td>-4.912088e-03</td><td> 1.870694e-03</td><td>-3.353576e-03</td><td> 4.482889e-04</td></tr>\n",
       "\t<tr><th scope=row>physact</th><td>-6.367751e-02</td><td> 5.151534e-03</td><td>-9.850525e-07</td><td> 1.740750e-05</td><td> 8.126802e-03</td><td>-3.980536e-02</td><td> 1.700254e-02</td><td> 4.505925e-02</td><td> 9.644994e-03</td><td> 4.145989e-02</td><td>-6.361512e-02</td><td>-7.637260e-02</td></tr>\n",
       "\t<tr><th scope=row>ldl</th><td> 4.930838e-05</td><td>-8.841224e-06</td><td> 1.740750e-05</td><td>-1.488487e-07</td><td> 7.889531e-05</td><td>-3.531039e-05</td><td> 5.173403e-06</td><td>-9.551266e-05</td><td>-4.221580e-06</td><td> 3.735397e-05</td><td>-1.814167e-04</td><td> 4.381138e-05</td></tr>\n",
       "\t<tr><th scope=row>alb</th><td>-2.203323e-02</td><td>-7.031566e-04</td><td> 8.126802e-03</td><td> 7.889531e-05</td><td> 2.104358e-07</td><td> 2.320952e-02</td><td>-5.476550e-02</td><td> 1.464274e-02</td><td> 3.195008e-04</td><td>-7.565595e-03</td><td> 5.108954e-02</td><td> 4.217393e-02</td></tr>\n",
       "\t<tr><th scope=row>crt</th><td> 3.741820e-02</td><td>-8.562872e-03</td><td>-3.980536e-02</td><td>-3.531039e-05</td><td> 2.320952e-02</td><td> 2.870971e-08</td><td>-2.811321e-02</td><td>-3.922948e-02</td><td> 1.661071e-02</td><td> 2.440522e-02</td><td>-1.079476e-01</td><td> 8.238260e-02</td></tr>\n",
       "\t<tr><th scope=row>plt</th><td> 1.466025e-02</td><td>-1.919501e-04</td><td> 1.700254e-02</td><td> 5.173403e-06</td><td>-5.476550e-02</td><td>-2.811321e-02</td><td> 2.484733e-07</td><td>-2.902823e-04</td><td>-2.148498e-02</td><td> 1.214759e-02</td><td> 3.622663e-02</td><td>-2.842938e-02</td></tr>\n",
       "\t<tr><th scope=row>sbp</th><td> 6.251392e-02</td><td>-9.205252e-03</td><td> 4.505925e-02</td><td>-9.551266e-05</td><td> 1.464274e-02</td><td>-3.922948e-02</td><td>-2.902823e-04</td><td> 4.039694e-07</td><td>-2.284557e-02</td><td> 4.679824e-02</td><td>-1.118506e-02</td><td> 1.192972e-03</td></tr>\n",
       "\t<tr><th scope=row>aai</th><td> 3.219461e-02</td><td>-4.912088e-03</td><td> 9.644994e-03</td><td>-4.221580e-06</td><td> 3.195008e-04</td><td> 1.661071e-02</td><td>-2.148498e-02</td><td>-2.284557e-02</td><td> 1.167642e-06</td><td> 3.360116e-04</td><td>-2.660727e-02</td><td> 1.448303e-02</td></tr>\n",
       "\t<tr><th scope=row>fev</th><td>-2.015677e-02</td><td> 1.870694e-03</td><td> 4.145989e-02</td><td> 3.735397e-05</td><td>-7.565595e-03</td><td> 2.440522e-02</td><td> 1.214759e-02</td><td> 4.679824e-02</td><td> 3.360116e-04</td><td> 1.511708e-06</td><td> 5.113672e-02</td><td>-4.693377e-02</td></tr>\n",
       "\t<tr><th scope=row>dsst</th><td> 3.581256e-02</td><td>-3.353576e-03</td><td>-6.361512e-02</td><td>-1.814167e-04</td><td> 5.108954e-02</td><td>-1.079476e-01</td><td> 3.622663e-02</td><td>-1.118506e-02</td><td>-2.660727e-02</td><td> 5.113672e-02</td><td>-7.112013e-07</td><td> 5.579803e-02</td></tr>\n",
       "\t<tr><th scope=row>atrophy</th><td>-5.758711e-03</td><td> 4.482889e-04</td><td>-7.637260e-02</td><td> 4.381138e-05</td><td> 4.217393e-02</td><td> 8.238260e-02</td><td>-2.842938e-02</td><td> 1.192972e-03</td><td> 1.448303e-02</td><td>-4.693377e-02</td><td> 5.579803e-02</td><td>-2.512107e-06</td></tr>\n",
       "</tbody>\n",
       "</table>\n"
      ],
      "text/latex": [
       "\\begin{tabular}{r|llllllllllll}\n",
       "  & weight & height & physact & ldl & alb & crt & plt & sbp & aai & fev & dsst & atrophy\\\\\n",
       "\\hline\n",
       "\tweight &  1.769072e-06 &  1.715552e-03 & -6.367751e-02 &  4.930838e-05 & -2.203323e-02 &  3.741820e-02 &  1.466025e-02 &  6.251392e-02 &  3.219461e-02 & -2.015677e-02 &  3.581256e-02 & -5.758711e-03\\\\\n",
       "\theight &  1.715552e-03 & -1.434591e-07 &  5.151534e-03 & -8.841224e-06 & -7.031566e-04 & -8.562872e-03 & -1.919501e-04 & -9.205252e-03 & -4.912088e-03 &  1.870694e-03 & -3.353576e-03 &  4.482889e-04\\\\\n",
       "\tphysact & -6.367751e-02 &  5.151534e-03 & -9.850525e-07 &  1.740750e-05 &  8.126802e-03 & -3.980536e-02 &  1.700254e-02 &  4.505925e-02 &  9.644994e-03 &  4.145989e-02 & -6.361512e-02 & -7.637260e-02\\\\\n",
       "\tldl &  4.930838e-05 & -8.841224e-06 &  1.740750e-05 & -1.488487e-07 &  7.889531e-05 & -3.531039e-05 &  5.173403e-06 & -9.551266e-05 & -4.221580e-06 &  3.735397e-05 & -1.814167e-04 &  4.381138e-05\\\\\n",
       "\talb & -2.203323e-02 & -7.031566e-04 &  8.126802e-03 &  7.889531e-05 &  2.104358e-07 &  2.320952e-02 & -5.476550e-02 &  1.464274e-02 &  3.195008e-04 & -7.565595e-03 &  5.108954e-02 &  4.217393e-02\\\\\n",
       "\tcrt &  3.741820e-02 & -8.562872e-03 & -3.980536e-02 & -3.531039e-05 &  2.320952e-02 &  2.870971e-08 & -2.811321e-02 & -3.922948e-02 &  1.661071e-02 &  2.440522e-02 & -1.079476e-01 &  8.238260e-02\\\\\n",
       "\tplt &  1.466025e-02 & -1.919501e-04 &  1.700254e-02 &  5.173403e-06 & -5.476550e-02 & -2.811321e-02 &  2.484733e-07 & -2.902823e-04 & -2.148498e-02 &  1.214759e-02 &  3.622663e-02 & -2.842938e-02\\\\\n",
       "\tsbp &  6.251392e-02 & -9.205252e-03 &  4.505925e-02 & -9.551266e-05 &  1.464274e-02 & -3.922948e-02 & -2.902823e-04 &  4.039694e-07 & -2.284557e-02 &  4.679824e-02 & -1.118506e-02 &  1.192972e-03\\\\\n",
       "\taai &  3.219461e-02 & -4.912088e-03 &  9.644994e-03 & -4.221580e-06 &  3.195008e-04 &  1.661071e-02 & -2.148498e-02 & -2.284557e-02 &  1.167642e-06 &  3.360116e-04 & -2.660727e-02 &  1.448303e-02\\\\\n",
       "\tfev & -2.015677e-02 &  1.870694e-03 &  4.145989e-02 &  3.735397e-05 & -7.565595e-03 &  2.440522e-02 &  1.214759e-02 &  4.679824e-02 &  3.360116e-04 &  1.511708e-06 &  5.113672e-02 & -4.693377e-02\\\\\n",
       "\tdsst &  3.581256e-02 & -3.353576e-03 & -6.361512e-02 & -1.814167e-04 &  5.108954e-02 & -1.079476e-01 &  3.622663e-02 & -1.118506e-02 & -2.660727e-02 &  5.113672e-02 & -7.112013e-07 &  5.579803e-02\\\\\n",
       "\tatrophy & -5.758711e-03 &  4.482889e-04 & -7.637260e-02 &  4.381138e-05 &  4.217393e-02 &  8.238260e-02 & -2.842938e-02 &  1.192972e-03 &  1.448303e-02 & -4.693377e-02 &  5.579803e-02 & -2.512107e-06\\\\\n",
       "\\end{tabular}\n"
      ],
      "text/markdown": [
       "\n",
       "| <!--/--> | weight | height | physact | ldl | alb | crt | plt | sbp | aai | fev | dsst | atrophy |\n",
       "|---|---|---|---|---|---|---|---|---|---|---|---|---|\n",
       "| weight |  1.769072e-06 |  1.715552e-03 | -6.367751e-02 |  4.930838e-05 | -2.203323e-02 |  3.741820e-02 |  1.466025e-02 |  6.251392e-02 |  3.219461e-02 | -2.015677e-02 |  3.581256e-02 | -5.758711e-03 |\n",
       "| height |  1.715552e-03 | -1.434591e-07 |  5.151534e-03 | -8.841224e-06 | -7.031566e-04 | -8.562872e-03 | -1.919501e-04 | -9.205252e-03 | -4.912088e-03 |  1.870694e-03 | -3.353576e-03 |  4.482889e-04 |\n",
       "| physact | -6.367751e-02 |  5.151534e-03 | -9.850525e-07 |  1.740750e-05 |  8.126802e-03 | -3.980536e-02 |  1.700254e-02 |  4.505925e-02 |  9.644994e-03 |  4.145989e-02 | -6.361512e-02 | -7.637260e-02 |\n",
       "| ldl |  4.930838e-05 | -8.841224e-06 |  1.740750e-05 | -1.488487e-07 |  7.889531e-05 | -3.531039e-05 |  5.173403e-06 | -9.551266e-05 | -4.221580e-06 |  3.735397e-05 | -1.814167e-04 |  4.381138e-05 |\n",
       "| alb | -2.203323e-02 | -7.031566e-04 |  8.126802e-03 |  7.889531e-05 |  2.104358e-07 |  2.320952e-02 | -5.476550e-02 |  1.464274e-02 |  3.195008e-04 | -7.565595e-03 |  5.108954e-02 |  4.217393e-02 |\n",
       "| crt |  3.741820e-02 | -8.562872e-03 | -3.980536e-02 | -3.531039e-05 |  2.320952e-02 |  2.870971e-08 | -2.811321e-02 | -3.922948e-02 |  1.661071e-02 |  2.440522e-02 | -1.079476e-01 |  8.238260e-02 |\n",
       "| plt |  1.466025e-02 | -1.919501e-04 |  1.700254e-02 |  5.173403e-06 | -5.476550e-02 | -2.811321e-02 |  2.484733e-07 | -2.902823e-04 | -2.148498e-02 |  1.214759e-02 |  3.622663e-02 | -2.842938e-02 |\n",
       "| sbp |  6.251392e-02 | -9.205252e-03 |  4.505925e-02 | -9.551266e-05 |  1.464274e-02 | -3.922948e-02 | -2.902823e-04 |  4.039694e-07 | -2.284557e-02 |  4.679824e-02 | -1.118506e-02 |  1.192972e-03 |\n",
       "| aai |  3.219461e-02 | -4.912088e-03 |  9.644994e-03 | -4.221580e-06 |  3.195008e-04 |  1.661071e-02 | -2.148498e-02 | -2.284557e-02 |  1.167642e-06 |  3.360116e-04 | -2.660727e-02 |  1.448303e-02 |\n",
       "| fev | -2.015677e-02 |  1.870694e-03 |  4.145989e-02 |  3.735397e-05 | -7.565595e-03 |  2.440522e-02 |  1.214759e-02 |  4.679824e-02 |  3.360116e-04 |  1.511708e-06 |  5.113672e-02 | -4.693377e-02 |\n",
       "| dsst |  3.581256e-02 | -3.353576e-03 | -6.361512e-02 | -1.814167e-04 |  5.108954e-02 | -1.079476e-01 |  3.622663e-02 | -1.118506e-02 | -2.660727e-02 |  5.113672e-02 | -7.112013e-07 |  5.579803e-02 |\n",
       "| atrophy | -5.758711e-03 |  4.482889e-04 | -7.637260e-02 |  4.381138e-05 |  4.217393e-02 |  8.238260e-02 | -2.842938e-02 |  1.192972e-03 |  1.448303e-02 | -4.693377e-02 |  5.579803e-02 | -2.512107e-06 |\n",
       "\n"
      ],
      "text/plain": [
       "        weight        height        physact       ldl           alb          \n",
       "weight   1.769072e-06  1.715552e-03 -6.367751e-02  4.930838e-05 -2.203323e-02\n",
       "height   1.715552e-03 -1.434591e-07  5.151534e-03 -8.841224e-06 -7.031566e-04\n",
       "physact -6.367751e-02  5.151534e-03 -9.850525e-07  1.740750e-05  8.126802e-03\n",
       "ldl      4.930838e-05 -8.841224e-06  1.740750e-05 -1.488487e-07  7.889531e-05\n",
       "alb     -2.203323e-02 -7.031566e-04  8.126802e-03  7.889531e-05  2.104358e-07\n",
       "crt      3.741820e-02 -8.562872e-03 -3.980536e-02 -3.531039e-05  2.320952e-02\n",
       "plt      1.466025e-02 -1.919501e-04  1.700254e-02  5.173403e-06 -5.476550e-02\n",
       "sbp      6.251392e-02 -9.205252e-03  4.505925e-02 -9.551266e-05  1.464274e-02\n",
       "aai      3.219461e-02 -4.912088e-03  9.644994e-03 -4.221580e-06  3.195008e-04\n",
       "fev     -2.015677e-02  1.870694e-03  4.145989e-02  3.735397e-05 -7.565595e-03\n",
       "dsst     3.581256e-02 -3.353576e-03 -6.361512e-02 -1.814167e-04  5.108954e-02\n",
       "atrophy -5.758711e-03  4.482889e-04 -7.637260e-02  4.381138e-05  4.217393e-02\n",
       "        crt           plt           sbp           aai           fev          \n",
       "weight   3.741820e-02  1.466025e-02  6.251392e-02  3.219461e-02 -2.015677e-02\n",
       "height  -8.562872e-03 -1.919501e-04 -9.205252e-03 -4.912088e-03  1.870694e-03\n",
       "physact -3.980536e-02  1.700254e-02  4.505925e-02  9.644994e-03  4.145989e-02\n",
       "ldl     -3.531039e-05  5.173403e-06 -9.551266e-05 -4.221580e-06  3.735397e-05\n",
       "alb      2.320952e-02 -5.476550e-02  1.464274e-02  3.195008e-04 -7.565595e-03\n",
       "crt      2.870971e-08 -2.811321e-02 -3.922948e-02  1.661071e-02  2.440522e-02\n",
       "plt     -2.811321e-02  2.484733e-07 -2.902823e-04 -2.148498e-02  1.214759e-02\n",
       "sbp     -3.922948e-02 -2.902823e-04  4.039694e-07 -2.284557e-02  4.679824e-02\n",
       "aai      1.661071e-02 -2.148498e-02 -2.284557e-02  1.167642e-06  3.360116e-04\n",
       "fev      2.440522e-02  1.214759e-02  4.679824e-02  3.360116e-04  1.511708e-06\n",
       "dsst    -1.079476e-01  3.622663e-02 -1.118506e-02 -2.660727e-02  5.113672e-02\n",
       "atrophy  8.238260e-02 -2.842938e-02  1.192972e-03  1.448303e-02 -4.693377e-02\n",
       "        dsst          atrophy      \n",
       "weight   3.581256e-02 -5.758711e-03\n",
       "height  -3.353576e-03  4.482889e-04\n",
       "physact -6.361512e-02 -7.637260e-02\n",
       "ldl     -1.814167e-04  4.381138e-05\n",
       "alb      5.108954e-02  4.217393e-02\n",
       "crt     -1.079476e-01  8.238260e-02\n",
       "plt      3.622663e-02 -2.842938e-02\n",
       "sbp     -1.118506e-02  1.192972e-03\n",
       "aai     -2.660727e-02  1.448303e-02\n",
       "fev      5.113672e-02 -4.693377e-02\n",
       "dsst    -7.112013e-07  5.579803e-02\n",
       "atrophy  5.579803e-02 -2.512107e-06"
      ]
     },
     "metadata": {},
     "output_type": "display_data"
    }
   ],
   "source": [
    "mle3Fit <- mlfa3$load %*% t(mlfa3$load) + diag(mlfa3$uni)\n",
    "mle3Res <- corr - mle3Fit\n",
    "mle3Res"
   ]
  },
  {
   "cell_type": "markdown",
   "metadata": {},
   "source": [
    "### (4e)"
   ]
  },
  {
   "cell_type": "code",
   "execution_count": 17,
   "metadata": {},
   "outputs": [
    {
     "name": "stdout",
     "output_type": "stream",
     "text": [
      "Determinant of PCA residual matrix: 3.02803e-200\n",
      "Determinant of MLE residual matrix: 3.220028e-56"
     ]
    }
   ],
   "source": [
    "cat(\"Determinant of PCA residual matrix:\", det(res3))\n",
    "cat(\"\\nDeterminant of MLE residual matrix:\", det(mle3Res))"
   ]
  },
  {
   "cell_type": "markdown",
   "metadata": {},
   "source": [
    "PCA Factor Analysis has smaller residuals => better for this problem."
   ]
  },
  {
   "cell_type": "markdown",
   "metadata": {},
   "source": [
    "### (4f)"
   ]
  },
  {
   "cell_type": "markdown",
   "metadata": {},
   "source": [
    "The factors are similar in both methods (PCA and MLE) for both m = 2 and m = 3."
   ]
  },
  {
   "cell_type": "code",
   "execution_count": null,
   "metadata": {},
   "outputs": [],
   "source": []
  }
 ],
 "metadata": {
  "kernelspec": {
   "display_name": "R",
   "language": "R",
   "name": "ir"
  },
  "language_info": {
   "codemirror_mode": "r",
   "file_extension": ".r",
   "mimetype": "text/x-r-source",
   "name": "R",
   "pygments_lexer": "r",
   "version": "3.6.1"
  }
 },
 "nbformat": 4,
 "nbformat_minor": 4
}
